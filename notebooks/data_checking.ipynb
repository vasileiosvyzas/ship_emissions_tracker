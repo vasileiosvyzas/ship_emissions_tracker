{
 "cells": [
  {
   "cell_type": "code",
   "execution_count": 38,
   "metadata": {},
   "outputs": [],
   "source": [
    "import glob\n",
    "import pandas as pd\n",
    "import numpy as np"
   ]
  },
  {
   "attachments": {},
   "cell_type": "markdown",
   "metadata": {},
   "source": [
    "# Reading the data"
   ]
  },
  {
   "cell_type": "code",
   "execution_count": 39,
   "metadata": {},
   "outputs": [],
   "source": [
    "raw_path = '../data/raw/'\n",
    "files = glob.glob(raw_path + \"/*.xlsx\")"
   ]
  },
  {
   "cell_type": "code",
   "execution_count": 40,
   "metadata": {},
   "outputs": [
    {
     "name": "stderr",
     "output_type": "stream",
     "text": [
      "/Users/vasileiosvyzas/miniconda3/envs/carbonchain_env/lib/python3.9/site-packages/openpyxl/styles/stylesheet.py:226: UserWarning: Workbook contains no default style, apply openpyxl's default\n",
      "  warn(\"Workbook contains no default style, apply openpyxl's default\")\n",
      "/Users/vasileiosvyzas/miniconda3/envs/carbonchain_env/lib/python3.9/site-packages/openpyxl/styles/stylesheet.py:226: UserWarning: Workbook contains no default style, apply openpyxl's default\n",
      "  warn(\"Workbook contains no default style, apply openpyxl's default\")\n",
      "/Users/vasileiosvyzas/miniconda3/envs/carbonchain_env/lib/python3.9/site-packages/openpyxl/styles/stylesheet.py:226: UserWarning: Workbook contains no default style, apply openpyxl's default\n",
      "  warn(\"Workbook contains no default style, apply openpyxl's default\")\n",
      "/Users/vasileiosvyzas/miniconda3/envs/carbonchain_env/lib/python3.9/site-packages/openpyxl/styles/stylesheet.py:226: UserWarning: Workbook contains no default style, apply openpyxl's default\n",
      "  warn(\"Workbook contains no default style, apply openpyxl's default\")\n"
     ]
    }
   ],
   "source": [
    "df_list = (pd.read_excel(file, header=2) for file in files)\n",
    "df = pd.concat(df_list, ignore_index=True)"
   ]
  },
  {
   "cell_type": "code",
   "execution_count": 41,
   "metadata": {},
   "outputs": [
    {
     "data": {
      "text/html": [
       "<div>\n",
       "<style scoped>\n",
       "    .dataframe tbody tr th:only-of-type {\n",
       "        vertical-align: middle;\n",
       "    }\n",
       "\n",
       "    .dataframe tbody tr th {\n",
       "        vertical-align: top;\n",
       "    }\n",
       "\n",
       "    .dataframe thead th {\n",
       "        text-align: right;\n",
       "    }\n",
       "</style>\n",
       "<table border=\"1\" class=\"dataframe\">\n",
       "  <thead>\n",
       "    <tr style=\"text-align: right;\">\n",
       "      <th></th>\n",
       "      <th>IMO Number</th>\n",
       "      <th>Name</th>\n",
       "      <th>Ship type</th>\n",
       "      <th>Reporting Period</th>\n",
       "      <th>Technical efficiency</th>\n",
       "      <th>Port of Registry</th>\n",
       "      <th>Home Port</th>\n",
       "      <th>Ice Class</th>\n",
       "      <th>DoC issue date</th>\n",
       "      <th>DoC expiry date</th>\n",
       "      <th>...</th>\n",
       "      <th>CO₂ emissions per distance on laden voyages [kg CO₂ / n mile]</th>\n",
       "      <th>CO₂ emissions per transport work (mass) on laden voyages [g CO₂ / m tonnes · n miles]</th>\n",
       "      <th>CO₂ emissions per transport work (volume) on laden voyages [g CO₂ / m³ · n miles]</th>\n",
       "      <th>CO₂ emissions per transport work (dwt) on laden voyages [g CO₂ / dwt carried · n miles]</th>\n",
       "      <th>CO₂ emissions per transport work (pax) on laden voyages [g CO₂ / pax · n miles]</th>\n",
       "      <th>CO₂ emissions per transport work (freight) on laden voyages [g CO₂ / m tonnes · n miles]</th>\n",
       "      <th>Additional information to facilitate the understanding of the reported average operational energy efficiency indicators</th>\n",
       "      <th>Average density of the cargo transported [m tonnes / m³]</th>\n",
       "      <th>Annual Total time spent at sea [hours]</th>\n",
       "      <th>Total time spent at sea [hours]</th>\n",
       "    </tr>\n",
       "  </thead>\n",
       "  <tbody>\n",
       "    <tr>\n",
       "      <th>0</th>\n",
       "      <td>6602898</td>\n",
       "      <td>OCEAN MAJESTY</td>\n",
       "      <td>Passenger ship</td>\n",
       "      <td>2020</td>\n",
       "      <td>EIV (31.73 gCO₂/t·nm)</td>\n",
       "      <td>Madeira</td>\n",
       "      <td>NaN</td>\n",
       "      <td>NaN</td>\n",
       "      <td>01/07/2021</td>\n",
       "      <td>30/06/2022</td>\n",
       "      <td>...</td>\n",
       "      <td>NaN</td>\n",
       "      <td>NaN</td>\n",
       "      <td>NaN</td>\n",
       "      <td>NaN</td>\n",
       "      <td>NaN</td>\n",
       "      <td>NaN</td>\n",
       "      <td>NaN</td>\n",
       "      <td>NaN</td>\n",
       "      <td>NaN</td>\n",
       "      <td>NaN</td>\n",
       "    </tr>\n",
       "    <tr>\n",
       "      <th>1</th>\n",
       "      <td>6703343</td>\n",
       "      <td>EQUALITY</td>\n",
       "      <td>Other ship types</td>\n",
       "      <td>2020</td>\n",
       "      <td>EIV (57.84 gCO₂/t·nm)</td>\n",
       "      <td>Beirut</td>\n",
       "      <td>NaN</td>\n",
       "      <td>NaN</td>\n",
       "      <td>30/06/2021</td>\n",
       "      <td>30/06/2022</td>\n",
       "      <td>...</td>\n",
       "      <td>NaN</td>\n",
       "      <td>NaN</td>\n",
       "      <td>NaN</td>\n",
       "      <td>NaN</td>\n",
       "      <td>NaN</td>\n",
       "      <td>NaN</td>\n",
       "      <td>NaN</td>\n",
       "      <td>NaN</td>\n",
       "      <td>NaN</td>\n",
       "      <td>NaN</td>\n",
       "    </tr>\n",
       "    <tr>\n",
       "      <th>2</th>\n",
       "      <td>7037806</td>\n",
       "      <td>IONIAN STAR</td>\n",
       "      <td>Ro-pax ship</td>\n",
       "      <td>2020</td>\n",
       "      <td>EIV (19.4 gCO₂/t·nm)</td>\n",
       "      <td>NaN</td>\n",
       "      <td>NaN</td>\n",
       "      <td>NaN</td>\n",
       "      <td>31/03/2021</td>\n",
       "      <td>30/06/2022</td>\n",
       "      <td>...</td>\n",
       "      <td>NaN</td>\n",
       "      <td>NaN</td>\n",
       "      <td>NaN</td>\n",
       "      <td>NaN</td>\n",
       "      <td>NaN</td>\n",
       "      <td>NaN</td>\n",
       "      <td>NaN</td>\n",
       "      <td>NaN</td>\n",
       "      <td>NaN</td>\n",
       "      <td>NaN</td>\n",
       "    </tr>\n",
       "    <tr>\n",
       "      <th>3</th>\n",
       "      <td>7043843</td>\n",
       "      <td>TALOS</td>\n",
       "      <td>Ro-ro ship</td>\n",
       "      <td>2020</td>\n",
       "      <td>EIV (48.71 gCO₂/t·nm)</td>\n",
       "      <td>Piraeus</td>\n",
       "      <td>Piraeus</td>\n",
       "      <td>NaN</td>\n",
       "      <td>16/06/2021</td>\n",
       "      <td>30/06/2022</td>\n",
       "      <td>...</td>\n",
       "      <td>NaN</td>\n",
       "      <td>NaN</td>\n",
       "      <td>NaN</td>\n",
       "      <td>NaN</td>\n",
       "      <td>NaN</td>\n",
       "      <td>NaN</td>\n",
       "      <td>NaN</td>\n",
       "      <td>NaN</td>\n",
       "      <td>NaN</td>\n",
       "      <td>NaN</td>\n",
       "    </tr>\n",
       "    <tr>\n",
       "      <th>4</th>\n",
       "      <td>7128332</td>\n",
       "      <td>SEA WIND</td>\n",
       "      <td>Ro-pax ship</td>\n",
       "      <td>2020</td>\n",
       "      <td>EIV (9.29 gCO₂/t·nm)</td>\n",
       "      <td>Tallinn</td>\n",
       "      <td>Tallinn</td>\n",
       "      <td>IB</td>\n",
       "      <td>26/04/2021</td>\n",
       "      <td>30/06/2022</td>\n",
       "      <td>...</td>\n",
       "      <td>NaN</td>\n",
       "      <td>NaN</td>\n",
       "      <td>NaN</td>\n",
       "      <td>NaN</td>\n",
       "      <td>NaN</td>\n",
       "      <td>NaN</td>\n",
       "      <td>NaN</td>\n",
       "      <td>NaN</td>\n",
       "      <td>NaN</td>\n",
       "      <td>NaN</td>\n",
       "    </tr>\n",
       "  </tbody>\n",
       "</table>\n",
       "<p>5 rows × 63 columns</p>\n",
       "</div>"
      ],
      "text/plain": [
       "   IMO Number           Name         Ship type  Reporting Period   \n",
       "0     6602898  OCEAN MAJESTY    Passenger ship              2020  \\\n",
       "1     6703343       EQUALITY  Other ship types              2020   \n",
       "2     7037806    IONIAN STAR       Ro-pax ship              2020   \n",
       "3     7043843          TALOS        Ro-ro ship              2020   \n",
       "4     7128332       SEA WIND       Ro-pax ship              2020   \n",
       "\n",
       "    Technical efficiency Port of Registry Home Port Ice Class DoC issue date   \n",
       "0  EIV (31.73 gCO₂/t·nm)          Madeira       NaN       NaN     01/07/2021  \\\n",
       "1  EIV (57.84 gCO₂/t·nm)           Beirut       NaN       NaN     30/06/2021   \n",
       "2   EIV (19.4 gCO₂/t·nm)              NaN       NaN       NaN     31/03/2021   \n",
       "3  EIV (48.71 gCO₂/t·nm)          Piraeus   Piraeus       NaN     16/06/2021   \n",
       "4   EIV (9.29 gCO₂/t·nm)          Tallinn   Tallinn        IB     26/04/2021   \n",
       "\n",
       "  DoC expiry date  ...   \n",
       "0      30/06/2022  ...  \\\n",
       "1      30/06/2022  ...   \n",
       "2      30/06/2022  ...   \n",
       "3      30/06/2022  ...   \n",
       "4      30/06/2022  ...   \n",
       "\n",
       "  CO₂ emissions per distance on laden voyages [kg CO₂ / n mile]   \n",
       "0                                                NaN             \\\n",
       "1                                                NaN              \n",
       "2                                                NaN              \n",
       "3                                                NaN              \n",
       "4                                                NaN              \n",
       "\n",
       "  CO₂ emissions per transport work (mass) on laden voyages [g CO₂ / m tonnes · n miles]   \n",
       "0                                                NaN                                     \\\n",
       "1                                                NaN                                      \n",
       "2                                                NaN                                      \n",
       "3                                                NaN                                      \n",
       "4                                                NaN                                      \n",
       "\n",
       "  CO₂ emissions per transport work (volume) on laden voyages [g CO₂ / m³ · n miles]   \n",
       "0                                                NaN                                 \\\n",
       "1                                                NaN                                  \n",
       "2                                                NaN                                  \n",
       "3                                                NaN                                  \n",
       "4                                                NaN                                  \n",
       "\n",
       "  CO₂ emissions per transport work (dwt) on laden voyages [g CO₂ / dwt carried · n miles]   \n",
       "0                                                NaN                                       \\\n",
       "1                                                NaN                                        \n",
       "2                                                NaN                                        \n",
       "3                                                NaN                                        \n",
       "4                                                NaN                                        \n",
       "\n",
       "  CO₂ emissions per transport work (pax) on laden voyages [g CO₂ / pax · n miles]   \n",
       "0                                                NaN                               \\\n",
       "1                                                NaN                                \n",
       "2                                                NaN                                \n",
       "3                                                NaN                                \n",
       "4                                                NaN                                \n",
       "\n",
       "  CO₂ emissions per transport work (freight) on laden voyages [g CO₂ / m tonnes · n miles]   \n",
       "0                                                NaN                                        \\\n",
       "1                                                NaN                                         \n",
       "2                                                NaN                                         \n",
       "3                                                NaN                                         \n",
       "4                                                NaN                                         \n",
       "\n",
       "  Additional information to facilitate the understanding of the reported average operational energy efficiency indicators   \n",
       "0                                                NaN                                                                       \\\n",
       "1                                                NaN                                                                        \n",
       "2                                                NaN                                                                        \n",
       "3                                                NaN                                                                        \n",
       "4                                                NaN                                                                        \n",
       "\n",
       "  Average density of the cargo transported [m tonnes / m³]   \n",
       "0                                                NaN        \\\n",
       "1                                                NaN         \n",
       "2                                                NaN         \n",
       "3                                                NaN         \n",
       "4                                                NaN         \n",
       "\n",
       "  Annual Total time spent at sea [hours] Total time spent at sea [hours]  \n",
       "0                                    NaN                             NaN  \n",
       "1                                    NaN                             NaN  \n",
       "2                                    NaN                             NaN  \n",
       "3                                    NaN                             NaN  \n",
       "4                                    NaN                             NaN  \n",
       "\n",
       "[5 rows x 63 columns]"
      ]
     },
     "execution_count": 41,
     "metadata": {},
     "output_type": "execute_result"
    }
   ],
   "source": [
    "df.head()"
   ]
  },
  {
   "cell_type": "code",
   "execution_count": 42,
   "metadata": {},
   "outputs": [
    {
     "data": {
      "text/plain": [
       "(48960, 63)"
      ]
     },
     "execution_count": 42,
     "metadata": {},
     "output_type": "execute_result"
    }
   ],
   "source": [
    "df.shape"
   ]
  },
  {
   "cell_type": "code",
   "execution_count": 6,
   "metadata": {},
   "outputs": [],
   "source": [
    "df.to_csv('../data/interim/ship_emissions_tracker_2018_2021.csv', index=False)"
   ]
  },
  {
   "attachments": {},
   "cell_type": "markdown",
   "metadata": {},
   "source": [
    "# Checking for missing values"
   ]
  },
  {
   "cell_type": "code",
   "execution_count": 45,
   "metadata": {},
   "outputs": [],
   "source": [
    "percent_missing = df.isnull().sum() * 100 / len(df)\n",
    "missing_value_df = pd.DataFrame({'column_name': df.columns,\n",
    "                                 'percent_missing': percent_missing})"
   ]
  },
  {
   "cell_type": "code",
   "execution_count": 50,
   "metadata": {},
   "outputs": [
    {
     "data": {
      "text/html": [
       "<div>\n",
       "<style scoped>\n",
       "    .dataframe tbody tr th:only-of-type {\n",
       "        vertical-align: middle;\n",
       "    }\n",
       "\n",
       "    .dataframe tbody tr th {\n",
       "        vertical-align: top;\n",
       "    }\n",
       "\n",
       "    .dataframe thead th {\n",
       "        text-align: right;\n",
       "    }\n",
       "</style>\n",
       "<table border=\"1\" class=\"dataframe\">\n",
       "  <thead>\n",
       "    <tr style=\"text-align: right;\">\n",
       "      <th></th>\n",
       "      <th>column_name</th>\n",
       "      <th>percent_missing</th>\n",
       "    </tr>\n",
       "  </thead>\n",
       "  <tbody>\n",
       "    <tr>\n",
       "      <th>CO₂ emissions per transport work (freight) on laden voyages [g CO₂ / m tonnes · n miles]</th>\n",
       "      <td>CO₂ emissions per transport work (freight) on ...</td>\n",
       "      <td>100.000000</td>\n",
       "    </tr>\n",
       "    <tr>\n",
       "      <th>Fuel consumption per transport work (freight) on laden voyages [g / m tonnes · n miles]</th>\n",
       "      <td>Fuel consumption per transport work (freight) ...</td>\n",
       "      <td>100.000000</td>\n",
       "    </tr>\n",
       "    <tr>\n",
       "      <th>Average density of the cargo transported [m tonnes / m³]</th>\n",
       "      <td>Average density of the cargo transported [m to...</td>\n",
       "      <td>99.989788</td>\n",
       "    </tr>\n",
       "    <tr>\n",
       "      <th>D</th>\n",
       "      <td>D</td>\n",
       "      <td>99.987745</td>\n",
       "    </tr>\n",
       "    <tr>\n",
       "      <th>Fuel consumption per transport work (pax) on laden voyages [g / pax · n miles]</th>\n",
       "      <td>Fuel consumption per transport work (pax) on l...</td>\n",
       "      <td>99.965278</td>\n",
       "    </tr>\n",
       "    <tr>\n",
       "      <th>CO₂ emissions per transport work (pax) on laden voyages [g CO₂ / pax · n miles]</th>\n",
       "      <td>CO₂ emissions per transport work (pax) on lade...</td>\n",
       "      <td>99.965278</td>\n",
       "    </tr>\n",
       "    <tr>\n",
       "      <th>Additional information to facilitate the understanding of the reported average operational energy efficiency indicators</th>\n",
       "      <td>Additional information to facilitate the under...</td>\n",
       "      <td>99.805964</td>\n",
       "    </tr>\n",
       "    <tr>\n",
       "      <th>Fuel consumption per transport work (volume) on laden voyages [g / m³ · n miles]</th>\n",
       "      <td>Fuel consumption per transport work (volume) o...</td>\n",
       "      <td>99.595588</td>\n",
       "    </tr>\n",
       "    <tr>\n",
       "      <th>CO₂ emissions per transport work (volume) on laden voyages [g CO₂ / m³ · n miles]</th>\n",
       "      <td>CO₂ emissions per transport work (volume) on l...</td>\n",
       "      <td>99.595588</td>\n",
       "    </tr>\n",
       "    <tr>\n",
       "      <th>Fuel consumption per transport work (dwt) on laden voyages [g / dwt carried · n miles]</th>\n",
       "      <td>Fuel consumption per transport work (dwt) on l...</td>\n",
       "      <td>99.040033</td>\n",
       "    </tr>\n",
       "    <tr>\n",
       "      <th>CO₂ emissions per transport work (dwt) on laden voyages [g CO₂ / dwt carried · n miles]</th>\n",
       "      <td>CO₂ emissions per transport work (dwt) on lade...</td>\n",
       "      <td>99.040033</td>\n",
       "    </tr>\n",
       "    <tr>\n",
       "      <th>Annual average CO₂ emissions per transport work (volume) [g CO₂ / m³ · n miles]</th>\n",
       "      <td>Annual average CO₂ emissions per transport wor...</td>\n",
       "      <td>97.346814</td>\n",
       "    </tr>\n",
       "    <tr>\n",
       "      <th>Annual average Fuel consumption per transport work (volume) [g / m³ · n miles]</th>\n",
       "      <td>Annual average Fuel consumption per transport ...</td>\n",
       "      <td>97.346814</td>\n",
       "    </tr>\n",
       "    <tr>\n",
       "      <th>CO₂ emissions assigned to Freight transport [m tonnes]</th>\n",
       "      <td>CO₂ emissions assigned to Freight transport [m...</td>\n",
       "      <td>96.895425</td>\n",
       "    </tr>\n",
       "    <tr>\n",
       "      <th>CO₂ emissions assigned to Passenger transport [m tonnes]</th>\n",
       "      <td>CO₂ emissions assigned to Passenger transport ...</td>\n",
       "      <td>96.854575</td>\n",
       "    </tr>\n",
       "    <tr>\n",
       "      <th>Annual average Fuel consumption per transport work (freight) [g / m tonnes · n miles]</th>\n",
       "      <td>Annual average Fuel consumption per transport ...</td>\n",
       "      <td>96.846405</td>\n",
       "    </tr>\n",
       "    <tr>\n",
       "      <th>Annual average CO₂ emissions per transport work (freight) [g CO₂ / m tonnes · n miles]</th>\n",
       "      <td>Annual average CO₂ emissions per transport wor...</td>\n",
       "      <td>96.846405</td>\n",
       "    </tr>\n",
       "    <tr>\n",
       "      <th>Annual average CO₂ emissions per transport work (pax) [g CO₂ / pax · n miles]</th>\n",
       "      <td>Annual average CO₂ emissions per transport wor...</td>\n",
       "      <td>95.671977</td>\n",
       "    </tr>\n",
       "    <tr>\n",
       "      <th>Annual average Fuel consumption per transport work (pax) [g / pax · n miles]</th>\n",
       "      <td>Annual average Fuel consumption per transport ...</td>\n",
       "      <td>95.671977</td>\n",
       "    </tr>\n",
       "    <tr>\n",
       "      <th>Total time spent at sea through ice [hours]</th>\n",
       "      <td>Total time spent at sea through ice [hours]</td>\n",
       "      <td>94.172794</td>\n",
       "    </tr>\n",
       "    <tr>\n",
       "      <th>Through ice [n miles]</th>\n",
       "      <td>Through ice [n miles]</td>\n",
       "      <td>94.172794</td>\n",
       "    </tr>\n",
       "    <tr>\n",
       "      <th>CO₂ emissions per transport work (mass) on laden voyages [g CO₂ / m tonnes · n miles]</th>\n",
       "      <td>CO₂ emissions per transport work (mass) on lad...</td>\n",
       "      <td>88.504902</td>\n",
       "    </tr>\n",
       "    <tr>\n",
       "      <th>Fuel consumption per transport work (mass) on laden voyages [g / m tonnes · n miles]</th>\n",
       "      <td>Fuel consumption per transport work (mass) on ...</td>\n",
       "      <td>88.504902</td>\n",
       "    </tr>\n",
       "    <tr>\n",
       "      <th>Annual average Fuel consumption per transport work (dwt) [g / dwt carried · n miles]</th>\n",
       "      <td>Annual average Fuel consumption per transport ...</td>\n",
       "      <td>88.325163</td>\n",
       "    </tr>\n",
       "    <tr>\n",
       "      <th>Annual average CO₂ emissions per transport work (dwt) [g CO₂ / dwt carried · n miles]</th>\n",
       "      <td>Annual average CO₂ emissions per transport wor...</td>\n",
       "      <td>88.325163</td>\n",
       "    </tr>\n",
       "    <tr>\n",
       "      <th>Fuel consumptions assigned to On laden [m tonnes]</th>\n",
       "      <td>Fuel consumptions assigned to On laden [m tonnes]</td>\n",
       "      <td>88.055556</td>\n",
       "    </tr>\n",
       "    <tr>\n",
       "      <th>CO₂ emissions per distance on laden voyages [kg CO₂ / n mile]</th>\n",
       "      <td>CO₂ emissions per distance on laden voyages [k...</td>\n",
       "      <td>88.049428</td>\n",
       "    </tr>\n",
       "    <tr>\n",
       "      <th>Fuel consumption per distance on laden voyages [kg / n mile]</th>\n",
       "      <td>Fuel consumption per distance on laden voyages...</td>\n",
       "      <td>88.049428</td>\n",
       "    </tr>\n",
       "    <tr>\n",
       "      <th>CO₂ emissions assigned to On laden [m tonnes]</th>\n",
       "      <td>CO₂ emissions assigned to On laden [m tonnes]</td>\n",
       "      <td>88.049428</td>\n",
       "    </tr>\n",
       "    <tr>\n",
       "      <th>Ice Class</th>\n",
       "      <td>Ice Class</td>\n",
       "      <td>82.771650</td>\n",
       "    </tr>\n",
       "  </tbody>\n",
       "</table>\n",
       "</div>"
      ],
      "text/plain": [
       "                                                                                          column_name   \n",
       "CO₂ emissions per transport work (freight) on l...  CO₂ emissions per transport work (freight) on ...  \\\n",
       "Fuel consumption per transport work (freight) o...  Fuel consumption per transport work (freight) ...   \n",
       "Average density of the cargo transported [m ton...  Average density of the cargo transported [m to...   \n",
       "D                                                                                                   D   \n",
       "Fuel consumption per transport work (pax) on la...  Fuel consumption per transport work (pax) on l...   \n",
       "CO₂ emissions per transport work (pax) on laden...  CO₂ emissions per transport work (pax) on lade...   \n",
       "Additional information to facilitate the unders...  Additional information to facilitate the under...   \n",
       "Fuel consumption per transport work (volume) on...  Fuel consumption per transport work (volume) o...   \n",
       "CO₂ emissions per transport work (volume) on la...  CO₂ emissions per transport work (volume) on l...   \n",
       "Fuel consumption per transport work (dwt) on la...  Fuel consumption per transport work (dwt) on l...   \n",
       "CO₂ emissions per transport work (dwt) on laden...  CO₂ emissions per transport work (dwt) on lade...   \n",
       "Annual average CO₂ emissions per transport work...  Annual average CO₂ emissions per transport wor...   \n",
       "Annual average Fuel consumption per transport w...  Annual average Fuel consumption per transport ...   \n",
       "CO₂ emissions assigned to Freight transport [m ...  CO₂ emissions assigned to Freight transport [m...   \n",
       "CO₂ emissions assigned to Passenger transport [...  CO₂ emissions assigned to Passenger transport ...   \n",
       "Annual average Fuel consumption per transport w...  Annual average Fuel consumption per transport ...   \n",
       "Annual average CO₂ emissions per transport work...  Annual average CO₂ emissions per transport wor...   \n",
       "Annual average CO₂ emissions per transport work...  Annual average CO₂ emissions per transport wor...   \n",
       "Annual average Fuel consumption per transport w...  Annual average Fuel consumption per transport ...   \n",
       "Total time spent at sea through ice [hours]               Total time spent at sea through ice [hours]   \n",
       "Through ice [n miles]                                                           Through ice [n miles]   \n",
       "CO₂ emissions per transport work (mass) on lade...  CO₂ emissions per transport work (mass) on lad...   \n",
       "Fuel consumption per transport work (mass) on l...  Fuel consumption per transport work (mass) on ...   \n",
       "Annual average Fuel consumption per transport w...  Annual average Fuel consumption per transport ...   \n",
       "Annual average CO₂ emissions per transport work...  Annual average CO₂ emissions per transport wor...   \n",
       "Fuel consumptions assigned to On laden [m tonnes]   Fuel consumptions assigned to On laden [m tonnes]   \n",
       "CO₂ emissions per distance on laden voyages [kg...  CO₂ emissions per distance on laden voyages [k...   \n",
       "Fuel consumption per distance on laden voyages ...  Fuel consumption per distance on laden voyages...   \n",
       "CO₂ emissions assigned to On laden [m tonnes]           CO₂ emissions assigned to On laden [m tonnes]   \n",
       "Ice Class                                                                                   Ice Class   \n",
       "\n",
       "                                                    percent_missing  \n",
       "CO₂ emissions per transport work (freight) on l...       100.000000  \n",
       "Fuel consumption per transport work (freight) o...       100.000000  \n",
       "Average density of the cargo transported [m ton...        99.989788  \n",
       "D                                                         99.987745  \n",
       "Fuel consumption per transport work (pax) on la...        99.965278  \n",
       "CO₂ emissions per transport work (pax) on laden...        99.965278  \n",
       "Additional information to facilitate the unders...        99.805964  \n",
       "Fuel consumption per transport work (volume) on...        99.595588  \n",
       "CO₂ emissions per transport work (volume) on la...        99.595588  \n",
       "Fuel consumption per transport work (dwt) on la...        99.040033  \n",
       "CO₂ emissions per transport work (dwt) on laden...        99.040033  \n",
       "Annual average CO₂ emissions per transport work...        97.346814  \n",
       "Annual average Fuel consumption per transport w...        97.346814  \n",
       "CO₂ emissions assigned to Freight transport [m ...        96.895425  \n",
       "CO₂ emissions assigned to Passenger transport [...        96.854575  \n",
       "Annual average Fuel consumption per transport w...        96.846405  \n",
       "Annual average CO₂ emissions per transport work...        96.846405  \n",
       "Annual average CO₂ emissions per transport work...        95.671977  \n",
       "Annual average Fuel consumption per transport w...        95.671977  \n",
       "Total time spent at sea through ice [hours]               94.172794  \n",
       "Through ice [n miles]                                     94.172794  \n",
       "CO₂ emissions per transport work (mass) on lade...        88.504902  \n",
       "Fuel consumption per transport work (mass) on l...        88.504902  \n",
       "Annual average Fuel consumption per transport w...        88.325163  \n",
       "Annual average CO₂ emissions per transport work...        88.325163  \n",
       "Fuel consumptions assigned to On laden [m tonnes]         88.055556  \n",
       "CO₂ emissions per distance on laden voyages [kg...        88.049428  \n",
       "Fuel consumption per distance on laden voyages ...        88.049428  \n",
       "CO₂ emissions assigned to On laden [m tonnes]             88.049428  \n",
       "Ice Class                                                 82.771650  "
      ]
     },
     "execution_count": 50,
     "metadata": {},
     "output_type": "execute_result"
    }
   ],
   "source": [
    "missing_value_df.sort_values('percent_missing',ascending=False).head(30)"
   ]
  },
  {
   "attachments": {},
   "cell_type": "markdown",
   "metadata": {},
   "source": [
    "It seems that out of the 63 columns in the data, there are about 30 columns with high percentage of missing values. I am not clear why there are so many missing values, is it a reporting issue or is it a legitimate reason that there are no values of these metrics? I am not sure how to deal with this yet and the importance of these columns but my first thought is to drop them. \n",
    "\n",
    "I guess depending on the use case of this dataset, we could try to impute these missing values or try to calculate them ourselves."
   ]
  },
  {
   "attachments": {},
   "cell_type": "markdown",
   "metadata": {},
   "source": [
    "# Initial Data Checking"
   ]
  },
  {
   "cell_type": "code",
   "execution_count": 9,
   "metadata": {},
   "outputs": [
    {
     "data": {
      "text/plain": [
       "Reporting Period\n",
       "2019    12399\n",
       "2018    12256\n",
       "2021    12255\n",
       "2020    12050\n",
       "Name: count, dtype: int64"
      ]
     },
     "execution_count": 9,
     "metadata": {},
     "output_type": "execute_result"
    }
   ],
   "source": [
    "df['Reporting Period'].value_counts()"
   ]
  },
  {
   "cell_type": "code",
   "execution_count": 10,
   "metadata": {},
   "outputs": [
    {
     "data": {
      "text/plain": [
       "Ship type\n",
       "Bulk carrier                  14742\n",
       "Oil tanker                     7701\n",
       "Container ship                 7354\n",
       "Chemical tanker                5469\n",
       "General cargo ship             4921\n",
       "Vehicle carrier                1801\n",
       "Ro-pax ship                    1560\n",
       "Gas carrier                    1335\n",
       "LNG carrier                    1024\n",
       "Ro-ro ship                     1016\n",
       "Refrigerated cargo carrier      588\n",
       "Other ship types                561\n",
       "Passenger ship                  556\n",
       "Container/ro-ro cargo ship      290\n",
       "Combination carrier              42\n",
       "Name: count, dtype: int64"
      ]
     },
     "execution_count": 10,
     "metadata": {},
     "output_type": "execute_result"
    }
   ],
   "source": [
    "df['Ship type'].value_counts(dropna=False)"
   ]
  },
  {
   "cell_type": "code",
   "execution_count": 19,
   "metadata": {},
   "outputs": [
    {
     "data": {
      "text/plain": [
       "Port of Registry\n",
       "Monrovia             5182\n",
       "Majuro               5064\n",
       "NaN                  3777\n",
       "Valletta             3122\n",
       "Panama               2664\n",
       "                     ... \n",
       "Shang Hai               1\n",
       "Fredericia              1\n",
       "port louis              1\n",
       "HONGKKONG               1\n",
       "Saint -Petersburg       1\n",
       "Name: count, Length: 725, dtype: int64"
      ]
     },
     "execution_count": 19,
     "metadata": {},
     "output_type": "execute_result"
    }
   ],
   "source": [
    "df['Port of Registry'].value_counts(dropna=False)"
   ]
  },
  {
   "cell_type": "code",
   "execution_count": 20,
   "metadata": {},
   "outputs": [
    {
     "data": {
      "text/plain": [
       "Total fuel consumption [m tonnes]\n",
       "0.00        1672\n",
       "1352.00        6\n",
       "503.00         5\n",
       "904.00         5\n",
       "228.00         4\n",
       "            ... \n",
       "2991.39        1\n",
       "3171.44        1\n",
       "13063.74       1\n",
       "2870.05        1\n",
       "1575.93        1\n",
       "Name: count, Length: 44216, dtype: int64"
      ]
     },
     "execution_count": 20,
     "metadata": {},
     "output_type": "execute_result"
    }
   ],
   "source": [
    "df['Total fuel consumption [m tonnes]'].value_counts()"
   ]
  },
  {
   "cell_type": "code",
   "execution_count": 54,
   "metadata": {},
   "outputs": [
    {
     "data": {
      "text/plain": [
       "48960"
      ]
     },
     "execution_count": 54,
     "metadata": {},
     "output_type": "execute_result"
    }
   ],
   "source": [
    "df['Total fuel consumption [m tonnes]'].count()"
   ]
  },
  {
   "cell_type": "code",
   "execution_count": 21,
   "metadata": {},
   "outputs": [
    {
     "data": {
      "text/plain": [
       "Total CO₂ emissions [m tonnes]\n",
       "0.00        1673\n",
       "5871.53        3\n",
       "8162.92        3\n",
       "3583.50        3\n",
       "2779.00        3\n",
       "            ... \n",
       "5357.94        1\n",
       "4749.38        1\n",
       "15440.84       1\n",
       "1387.78        1\n",
       "4920.05        1\n",
       "Name: count, Length: 46673, dtype: int64"
      ]
     },
     "execution_count": 21,
     "metadata": {},
     "output_type": "execute_result"
    }
   ],
   "source": [
    "df['Total CO₂ emissions [m tonnes]'].value_counts()"
   ]
  },
  {
   "cell_type": "code",
   "execution_count": 22,
   "metadata": {},
   "outputs": [
    {
     "data": {
      "text/plain": [
       "48960"
      ]
     },
     "execution_count": 22,
     "metadata": {},
     "output_type": "execute_result"
    }
   ],
   "source": [
    "df['Total CO₂ emissions [m tonnes]'].count()"
   ]
  },
  {
   "cell_type": "code",
   "execution_count": 53,
   "metadata": {},
   "outputs": [
    {
     "data": {
      "text/plain": [
       "Total time spent at sea [hours]\n",
       "0.00       981\n",
       "1493.00      6\n",
       "2012.00      5\n",
       "2660.00      5\n",
       "2185.00      5\n",
       "          ... \n",
       "3932.40      1\n",
       "5459.40      1\n",
       "3170.20      1\n",
       "2175.12      1\n",
       "776.25       1\n",
       "Name: count, Length: 21433, dtype: int64"
      ]
     },
     "execution_count": 53,
     "metadata": {},
     "output_type": "execute_result"
    }
   ],
   "source": [
    "df['Total time spent at sea [hours]'].value_counts()"
   ]
  },
  {
   "cell_type": "code",
   "execution_count": 52,
   "metadata": {},
   "outputs": [
    {
     "data": {
      "text/plain": [
       "count    2.465500e+04\n",
       "mean     2.710072e+04\n",
       "std      3.842835e+06\n",
       "min      0.000000e+00\n",
       "25%      1.095150e+03\n",
       "50%      2.171700e+03\n",
       "75%      3.938510e+03\n",
       "max      6.034010e+08\n",
       "Name: Total time spent at sea [hours], dtype: float64"
      ]
     },
     "execution_count": 52,
     "metadata": {},
     "output_type": "execute_result"
    }
   ],
   "source": [
    "df['Total time spent at sea [hours]'].describe()"
   ]
  },
  {
   "cell_type": "code",
   "execution_count": 25,
   "metadata": {},
   "outputs": [
    {
     "data": {
      "text/plain": [
       "Annual average Fuel consumption per distance [kg / n mile]\n",
       "Division by zero!    1685\n",
       "87.95                  14\n",
       "88.31                  14\n",
       "82.96                  14\n",
       "80.45                  13\n",
       "                     ... \n",
       "78.51                   1\n",
       "299.89                  1\n",
       "150.8                   1\n",
       "184.79                  1\n",
       "123.55                  1\n",
       "Name: count, Length: 18891, dtype: int64"
      ]
     },
     "execution_count": 25,
     "metadata": {},
     "output_type": "execute_result"
    }
   ],
   "source": [
    "df['Annual average Fuel consumption per distance [kg / n mile]'].value_counts()"
   ]
  },
  {
   "cell_type": "code",
   "execution_count": 26,
   "metadata": {},
   "outputs": [
    {
     "data": {
      "text/plain": [
       "48960"
      ]
     },
     "execution_count": 26,
     "metadata": {},
     "output_type": "execute_result"
    }
   ],
   "source": [
    "df['Annual average Fuel consumption per distance [kg / n mile]'].count()"
   ]
  },
  {
   "cell_type": "code",
   "execution_count": 28,
   "metadata": {},
   "outputs": [
    {
     "data": {
      "text/plain": [
       "Annual average Fuel consumption per transport work (mass) [g / m tonnes · n miles]\n",
       "Division by zero!    3803\n",
       "2.14                  112\n",
       "1.95                  108\n",
       "2.47                  108\n",
       "2.75                  106\n",
       "                     ... \n",
       "72.01                   1\n",
       "126.39                  1\n",
       "31.13                   1\n",
       "4712.84                 1\n",
       "28079.73                1\n",
       "Name: count, Length: 4602, dtype: int64"
      ]
     },
     "execution_count": 28,
     "metadata": {},
     "output_type": "execute_result"
    }
   ],
   "source": [
    "df['Annual average Fuel consumption per transport work (mass) [g / m tonnes · n miles]'].value_counts()"
   ]
  },
  {
   "attachments": {},
   "cell_type": "markdown",
   "metadata": {},
   "source": [
    "## Investigating the zero values for CO2 emissions and fuel consumption\n",
    "If the values for these two is 0, does this mean that the vessels haven't travelled? "
   ]
  },
  {
   "cell_type": "code",
   "execution_count": 53,
   "metadata": {},
   "outputs": [
    {
     "data": {
      "text/plain": [
       "Ship type\n",
       "Bulk carrier                  1070\n",
       "Container ship                 172\n",
       "Oil tanker                     168\n",
       "Chemical tanker                 88\n",
       "General cargo ship              79\n",
       "Other ship types                39\n",
       "Gas carrier                     16\n",
       "Vehicle carrier                 14\n",
       "Ro-pax ship                      8\n",
       "LNG carrier                      6\n",
       "Passenger ship                   5\n",
       "Refrigerated cargo carrier       5\n",
       "Ro-ro ship                       3\n",
       "Name: count, dtype: int64"
      ]
     },
     "execution_count": 53,
     "metadata": {},
     "output_type": "execute_result"
    }
   ],
   "source": [
    "df[df['Total CO₂ emissions [m tonnes]'] == 0.00]['Ship type'].value_counts()"
   ]
  },
  {
   "cell_type": "code",
   "execution_count": 55,
   "metadata": {},
   "outputs": [
    {
     "data": {
      "text/plain": [
       "Ship type\n",
       "Bulk carrier                  1069\n",
       "Container ship                 172\n",
       "Oil tanker                     168\n",
       "Chemical tanker                 88\n",
       "General cargo ship              79\n",
       "Other ship types                39\n",
       "Gas carrier                     16\n",
       "Vehicle carrier                 14\n",
       "Ro-pax ship                      8\n",
       "LNG carrier                      6\n",
       "Passenger ship                   5\n",
       "Refrigerated cargo carrier       5\n",
       "Ro-ro ship                       3\n",
       "Name: count, dtype: int64"
      ]
     },
     "execution_count": 55,
     "metadata": {},
     "output_type": "execute_result"
    }
   ],
   "source": [
    "df[df['Total fuel consumption [m tonnes]'] == 0.00]['Ship type'].value_counts()"
   ]
  },
  {
   "cell_type": "code",
   "execution_count": 57,
   "metadata": {},
   "outputs": [
    {
     "data": {
      "text/plain": [
       "Annual Time spent at sea [hours]\n",
       "NaN      976\n",
       "0.0      696\n",
       "415.6      1\n",
       "Name: count, dtype: int64"
      ]
     },
     "execution_count": 57,
     "metadata": {},
     "output_type": "execute_result"
    }
   ],
   "source": [
    "df[df['Total CO₂ emissions [m tonnes]'] == 0.00]['Annual Time spent at sea [hours]'].value_counts(dropna=False)"
   ]
  },
  {
   "cell_type": "code",
   "execution_count": 58,
   "metadata": {},
   "outputs": [
    {
     "data": {
      "text/plain": [
       "Ship type\n",
       "Bulk carrier          488\n",
       "Container ship         61\n",
       "General cargo ship     42\n",
       "Chemical tanker        34\n",
       "Oil tanker             31\n",
       "Other ship types       22\n",
       "Ro-pax ship             9\n",
       "Passenger ship          7\n",
       "Vehicle carrier         5\n",
       "Ro-ro ship              3\n",
       "LNG carrier             3\n",
       "Gas carrier             2\n",
       "Name: count, dtype: int64"
      ]
     },
     "execution_count": 58,
     "metadata": {},
     "output_type": "execute_result"
    }
   ],
   "source": [
    "df[df['Annual Time spent at sea [hours]'] == 0.00]['Ship type'].value_counts()"
   ]
  }
 ],
 "metadata": {
  "kernelspec": {
   "display_name": "carbonchain_env",
   "language": "python",
   "name": "python3"
  },
  "language_info": {
   "codemirror_mode": {
    "name": "ipython",
    "version": 3
   },
   "file_extension": ".py",
   "mimetype": "text/x-python",
   "name": "python",
   "nbconvert_exporter": "python",
   "pygments_lexer": "ipython3",
   "version": "3.9.16"
  },
  "orig_nbformat": 4
 },
 "nbformat": 4,
 "nbformat_minor": 2
}
