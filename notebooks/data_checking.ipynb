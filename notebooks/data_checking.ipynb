{
 "cells": [
  {
   "cell_type": "code",
   "execution_count": 1,
   "metadata": {},
   "outputs": [],
   "source": [
    "import glob\n",
    "import pandas as pd\n",
    "import numpy as np"
   ]
  },
  {
   "attachments": {},
   "cell_type": "markdown",
   "metadata": {},
   "source": [
    "# Reading the data"
   ]
  },
  {
   "cell_type": "code",
   "execution_count": 2,
   "metadata": {},
   "outputs": [],
   "source": [
    "raw_path = '../data/raw/'\n",
    "files = glob.glob(raw_path + \"/*.xlsx\")"
   ]
  },
  {
   "cell_type": "code",
   "execution_count": 3,
   "metadata": {},
   "outputs": [
    {
     "name": "stderr",
     "output_type": "stream",
     "text": [
      "/Users/vasileiosvyzas/miniconda3/envs/carbonchain_env/lib/python3.9/site-packages/openpyxl/styles/stylesheet.py:226: UserWarning: Workbook contains no default style, apply openpyxl's default\n",
      "  warn(\"Workbook contains no default style, apply openpyxl's default\")\n",
      "/Users/vasileiosvyzas/miniconda3/envs/carbonchain_env/lib/python3.9/site-packages/openpyxl/styles/stylesheet.py:226: UserWarning: Workbook contains no default style, apply openpyxl's default\n",
      "  warn(\"Workbook contains no default style, apply openpyxl's default\")\n",
      "/Users/vasileiosvyzas/miniconda3/envs/carbonchain_env/lib/python3.9/site-packages/openpyxl/styles/stylesheet.py:226: UserWarning: Workbook contains no default style, apply openpyxl's default\n",
      "  warn(\"Workbook contains no default style, apply openpyxl's default\")\n",
      "/Users/vasileiosvyzas/miniconda3/envs/carbonchain_env/lib/python3.9/site-packages/openpyxl/styles/stylesheet.py:226: UserWarning: Workbook contains no default style, apply openpyxl's default\n",
      "  warn(\"Workbook contains no default style, apply openpyxl's default\")\n"
     ]
    }
   ],
   "source": [
    "df_list = (pd.read_excel(file, header=2) for file in files)\n",
    "df = pd.concat(df_list, ignore_index=True)"
   ]
  },
  {
   "cell_type": "code",
   "execution_count": 4,
   "metadata": {},
   "outputs": [
    {
     "data": {
      "text/html": [
       "<div>\n",
       "<style scoped>\n",
       "    .dataframe tbody tr th:only-of-type {\n",
       "        vertical-align: middle;\n",
       "    }\n",
       "\n",
       "    .dataframe tbody tr th {\n",
       "        vertical-align: top;\n",
       "    }\n",
       "\n",
       "    .dataframe thead th {\n",
       "        text-align: right;\n",
       "    }\n",
       "</style>\n",
       "<table border=\"1\" class=\"dataframe\">\n",
       "  <thead>\n",
       "    <tr style=\"text-align: right;\">\n",
       "      <th></th>\n",
       "      <th>IMO Number</th>\n",
       "      <th>Name</th>\n",
       "      <th>Ship type</th>\n",
       "      <th>Reporting Period</th>\n",
       "      <th>Technical efficiency</th>\n",
       "      <th>Port of Registry</th>\n",
       "      <th>Home Port</th>\n",
       "      <th>Ice Class</th>\n",
       "      <th>DoC issue date</th>\n",
       "      <th>DoC expiry date</th>\n",
       "      <th>...</th>\n",
       "      <th>CO₂ emissions per distance on laden voyages [kg CO₂ / n mile]</th>\n",
       "      <th>CO₂ emissions per transport work (mass) on laden voyages [g CO₂ / m tonnes · n miles]</th>\n",
       "      <th>CO₂ emissions per transport work (volume) on laden voyages [g CO₂ / m³ · n miles]</th>\n",
       "      <th>CO₂ emissions per transport work (dwt) on laden voyages [g CO₂ / dwt carried · n miles]</th>\n",
       "      <th>CO₂ emissions per transport work (pax) on laden voyages [g CO₂ / pax · n miles]</th>\n",
       "      <th>CO₂ emissions per transport work (freight) on laden voyages [g CO₂ / m tonnes · n miles]</th>\n",
       "      <th>Additional information to facilitate the understanding of the reported average operational energy efficiency indicators</th>\n",
       "      <th>Average density of the cargo transported [m tonnes / m³]</th>\n",
       "      <th>Annual Total time spent at sea [hours]</th>\n",
       "      <th>Total time spent at sea [hours]</th>\n",
       "    </tr>\n",
       "  </thead>\n",
       "  <tbody>\n",
       "    <tr>\n",
       "      <th>0</th>\n",
       "      <td>6602898</td>\n",
       "      <td>OCEAN MAJESTY</td>\n",
       "      <td>Passenger ship</td>\n",
       "      <td>2020</td>\n",
       "      <td>EIV (31.73 gCO₂/t·nm)</td>\n",
       "      <td>Madeira</td>\n",
       "      <td>NaN</td>\n",
       "      <td>NaN</td>\n",
       "      <td>01/07/2021</td>\n",
       "      <td>30/06/2022</td>\n",
       "      <td>...</td>\n",
       "      <td>NaN</td>\n",
       "      <td>NaN</td>\n",
       "      <td>NaN</td>\n",
       "      <td>NaN</td>\n",
       "      <td>NaN</td>\n",
       "      <td>NaN</td>\n",
       "      <td>NaN</td>\n",
       "      <td>NaN</td>\n",
       "      <td>NaN</td>\n",
       "      <td>NaN</td>\n",
       "    </tr>\n",
       "    <tr>\n",
       "      <th>1</th>\n",
       "      <td>6703343</td>\n",
       "      <td>EQUALITY</td>\n",
       "      <td>Other ship types</td>\n",
       "      <td>2020</td>\n",
       "      <td>EIV (57.84 gCO₂/t·nm)</td>\n",
       "      <td>Beirut</td>\n",
       "      <td>NaN</td>\n",
       "      <td>NaN</td>\n",
       "      <td>30/06/2021</td>\n",
       "      <td>30/06/2022</td>\n",
       "      <td>...</td>\n",
       "      <td>NaN</td>\n",
       "      <td>NaN</td>\n",
       "      <td>NaN</td>\n",
       "      <td>NaN</td>\n",
       "      <td>NaN</td>\n",
       "      <td>NaN</td>\n",
       "      <td>NaN</td>\n",
       "      <td>NaN</td>\n",
       "      <td>NaN</td>\n",
       "      <td>NaN</td>\n",
       "    </tr>\n",
       "    <tr>\n",
       "      <th>2</th>\n",
       "      <td>7037806</td>\n",
       "      <td>IONIAN STAR</td>\n",
       "      <td>Ro-pax ship</td>\n",
       "      <td>2020</td>\n",
       "      <td>EIV (19.4 gCO₂/t·nm)</td>\n",
       "      <td>NaN</td>\n",
       "      <td>NaN</td>\n",
       "      <td>NaN</td>\n",
       "      <td>31/03/2021</td>\n",
       "      <td>30/06/2022</td>\n",
       "      <td>...</td>\n",
       "      <td>NaN</td>\n",
       "      <td>NaN</td>\n",
       "      <td>NaN</td>\n",
       "      <td>NaN</td>\n",
       "      <td>NaN</td>\n",
       "      <td>NaN</td>\n",
       "      <td>NaN</td>\n",
       "      <td>NaN</td>\n",
       "      <td>NaN</td>\n",
       "      <td>NaN</td>\n",
       "    </tr>\n",
       "    <tr>\n",
       "      <th>3</th>\n",
       "      <td>7043843</td>\n",
       "      <td>TALOS</td>\n",
       "      <td>Ro-ro ship</td>\n",
       "      <td>2020</td>\n",
       "      <td>EIV (48.71 gCO₂/t·nm)</td>\n",
       "      <td>Piraeus</td>\n",
       "      <td>Piraeus</td>\n",
       "      <td>NaN</td>\n",
       "      <td>16/06/2021</td>\n",
       "      <td>30/06/2022</td>\n",
       "      <td>...</td>\n",
       "      <td>NaN</td>\n",
       "      <td>NaN</td>\n",
       "      <td>NaN</td>\n",
       "      <td>NaN</td>\n",
       "      <td>NaN</td>\n",
       "      <td>NaN</td>\n",
       "      <td>NaN</td>\n",
       "      <td>NaN</td>\n",
       "      <td>NaN</td>\n",
       "      <td>NaN</td>\n",
       "    </tr>\n",
       "    <tr>\n",
       "      <th>4</th>\n",
       "      <td>7128332</td>\n",
       "      <td>SEA WIND</td>\n",
       "      <td>Ro-pax ship</td>\n",
       "      <td>2020</td>\n",
       "      <td>EIV (9.29 gCO₂/t·nm)</td>\n",
       "      <td>Tallinn</td>\n",
       "      <td>Tallinn</td>\n",
       "      <td>IB</td>\n",
       "      <td>26/04/2021</td>\n",
       "      <td>30/06/2022</td>\n",
       "      <td>...</td>\n",
       "      <td>NaN</td>\n",
       "      <td>NaN</td>\n",
       "      <td>NaN</td>\n",
       "      <td>NaN</td>\n",
       "      <td>NaN</td>\n",
       "      <td>NaN</td>\n",
       "      <td>NaN</td>\n",
       "      <td>NaN</td>\n",
       "      <td>NaN</td>\n",
       "      <td>NaN</td>\n",
       "    </tr>\n",
       "  </tbody>\n",
       "</table>\n",
       "<p>5 rows × 63 columns</p>\n",
       "</div>"
      ],
      "text/plain": [
       "   IMO Number           Name         Ship type  Reporting Period  \\\n",
       "0     6602898  OCEAN MAJESTY    Passenger ship              2020   \n",
       "1     6703343       EQUALITY  Other ship types              2020   \n",
       "2     7037806    IONIAN STAR       Ro-pax ship              2020   \n",
       "3     7043843          TALOS        Ro-ro ship              2020   \n",
       "4     7128332       SEA WIND       Ro-pax ship              2020   \n",
       "\n",
       "    Technical efficiency Port of Registry Home Port Ice Class DoC issue date  \\\n",
       "0  EIV (31.73 gCO₂/t·nm)          Madeira       NaN       NaN     01/07/2021   \n",
       "1  EIV (57.84 gCO₂/t·nm)           Beirut       NaN       NaN     30/06/2021   \n",
       "2   EIV (19.4 gCO₂/t·nm)              NaN       NaN       NaN     31/03/2021   \n",
       "3  EIV (48.71 gCO₂/t·nm)          Piraeus   Piraeus       NaN     16/06/2021   \n",
       "4   EIV (9.29 gCO₂/t·nm)          Tallinn   Tallinn        IB     26/04/2021   \n",
       "\n",
       "  DoC expiry date  ...  \\\n",
       "0      30/06/2022  ...   \n",
       "1      30/06/2022  ...   \n",
       "2      30/06/2022  ...   \n",
       "3      30/06/2022  ...   \n",
       "4      30/06/2022  ...   \n",
       "\n",
       "  CO₂ emissions per distance on laden voyages [kg CO₂ / n mile]  \\\n",
       "0                                                NaN              \n",
       "1                                                NaN              \n",
       "2                                                NaN              \n",
       "3                                                NaN              \n",
       "4                                                NaN              \n",
       "\n",
       "  CO₂ emissions per transport work (mass) on laden voyages [g CO₂ / m tonnes · n miles]  \\\n",
       "0                                                NaN                                      \n",
       "1                                                NaN                                      \n",
       "2                                                NaN                                      \n",
       "3                                                NaN                                      \n",
       "4                                                NaN                                      \n",
       "\n",
       "  CO₂ emissions per transport work (volume) on laden voyages [g CO₂ / m³ · n miles]  \\\n",
       "0                                                NaN                                  \n",
       "1                                                NaN                                  \n",
       "2                                                NaN                                  \n",
       "3                                                NaN                                  \n",
       "4                                                NaN                                  \n",
       "\n",
       "  CO₂ emissions per transport work (dwt) on laden voyages [g CO₂ / dwt carried · n miles]  \\\n",
       "0                                                NaN                                        \n",
       "1                                                NaN                                        \n",
       "2                                                NaN                                        \n",
       "3                                                NaN                                        \n",
       "4                                                NaN                                        \n",
       "\n",
       "  CO₂ emissions per transport work (pax) on laden voyages [g CO₂ / pax · n miles]  \\\n",
       "0                                                NaN                                \n",
       "1                                                NaN                                \n",
       "2                                                NaN                                \n",
       "3                                                NaN                                \n",
       "4                                                NaN                                \n",
       "\n",
       "  CO₂ emissions per transport work (freight) on laden voyages [g CO₂ / m tonnes · n miles]  \\\n",
       "0                                                NaN                                         \n",
       "1                                                NaN                                         \n",
       "2                                                NaN                                         \n",
       "3                                                NaN                                         \n",
       "4                                                NaN                                         \n",
       "\n",
       "  Additional information to facilitate the understanding of the reported average operational energy efficiency indicators  \\\n",
       "0                                                NaN                                                                        \n",
       "1                                                NaN                                                                        \n",
       "2                                                NaN                                                                        \n",
       "3                                                NaN                                                                        \n",
       "4                                                NaN                                                                        \n",
       "\n",
       "  Average density of the cargo transported [m tonnes / m³]  \\\n",
       "0                                                NaN         \n",
       "1                                                NaN         \n",
       "2                                                NaN         \n",
       "3                                                NaN         \n",
       "4                                                NaN         \n",
       "\n",
       "  Annual Total time spent at sea [hours] Total time spent at sea [hours]  \n",
       "0                                    NaN                             NaN  \n",
       "1                                    NaN                             NaN  \n",
       "2                                    NaN                             NaN  \n",
       "3                                    NaN                             NaN  \n",
       "4                                    NaN                             NaN  \n",
       "\n",
       "[5 rows x 63 columns]"
      ]
     },
     "execution_count": 4,
     "metadata": {},
     "output_type": "execute_result"
    }
   ],
   "source": [
    "df.head()"
   ]
  },
  {
   "cell_type": "code",
   "execution_count": 5,
   "metadata": {},
   "outputs": [
    {
     "data": {
      "text/plain": [
       "(48960, 63)"
      ]
     },
     "execution_count": 5,
     "metadata": {},
     "output_type": "execute_result"
    }
   ],
   "source": [
    "df.shape"
   ]
  },
  {
   "cell_type": "code",
   "execution_count": 6,
   "metadata": {},
   "outputs": [],
   "source": [
    "df.to_csv('../data/interim/ship_emissions_tracker_2018_2021.csv', index=False)"
   ]
  },
  {
   "attachments": {},
   "cell_type": "markdown",
   "metadata": {},
   "source": [
    "# Checking for missing values"
   ]
  },
  {
   "cell_type": "code",
   "execution_count": 7,
   "metadata": {},
   "outputs": [],
   "source": [
    "percent_missing = df.isnull().sum() * 100 / len(df)\n",
    "missing_value_df = pd.DataFrame({'column_name': df.columns,\n",
    "                                 'percent_missing': percent_missing})"
   ]
  },
  {
   "cell_type": "code",
   "execution_count": 8,
   "metadata": {},
   "outputs": [
    {
     "data": {
      "text/html": [
       "<div>\n",
       "<style scoped>\n",
       "    .dataframe tbody tr th:only-of-type {\n",
       "        vertical-align: middle;\n",
       "    }\n",
       "\n",
       "    .dataframe tbody tr th {\n",
       "        vertical-align: top;\n",
       "    }\n",
       "\n",
       "    .dataframe thead th {\n",
       "        text-align: right;\n",
       "    }\n",
       "</style>\n",
       "<table border=\"1\" class=\"dataframe\">\n",
       "  <thead>\n",
       "    <tr style=\"text-align: right;\">\n",
       "      <th></th>\n",
       "      <th>column_name</th>\n",
       "      <th>percent_missing</th>\n",
       "    </tr>\n",
       "  </thead>\n",
       "  <tbody>\n",
       "    <tr>\n",
       "      <th>CO₂ emissions per transport work (freight) on laden voyages [g CO₂ / m tonnes · n miles]</th>\n",
       "      <td>CO₂ emissions per transport work (freight) on ...</td>\n",
       "      <td>100.000000</td>\n",
       "    </tr>\n",
       "    <tr>\n",
       "      <th>Fuel consumption per transport work (freight) on laden voyages [g / m tonnes · n miles]</th>\n",
       "      <td>Fuel consumption per transport work (freight) ...</td>\n",
       "      <td>100.000000</td>\n",
       "    </tr>\n",
       "    <tr>\n",
       "      <th>Average density of the cargo transported [m tonnes / m³]</th>\n",
       "      <td>Average density of the cargo transported [m to...</td>\n",
       "      <td>99.989788</td>\n",
       "    </tr>\n",
       "    <tr>\n",
       "      <th>D</th>\n",
       "      <td>D</td>\n",
       "      <td>99.987745</td>\n",
       "    </tr>\n",
       "    <tr>\n",
       "      <th>Fuel consumption per transport work (pax) on laden voyages [g / pax · n miles]</th>\n",
       "      <td>Fuel consumption per transport work (pax) on l...</td>\n",
       "      <td>99.965278</td>\n",
       "    </tr>\n",
       "    <tr>\n",
       "      <th>CO₂ emissions per transport work (pax) on laden voyages [g CO₂ / pax · n miles]</th>\n",
       "      <td>CO₂ emissions per transport work (pax) on lade...</td>\n",
       "      <td>99.965278</td>\n",
       "    </tr>\n",
       "    <tr>\n",
       "      <th>Additional information to facilitate the understanding of the reported average operational energy efficiency indicators</th>\n",
       "      <td>Additional information to facilitate the under...</td>\n",
       "      <td>99.805964</td>\n",
       "    </tr>\n",
       "    <tr>\n",
       "      <th>Fuel consumption per transport work (volume) on laden voyages [g / m³ · n miles]</th>\n",
       "      <td>Fuel consumption per transport work (volume) o...</td>\n",
       "      <td>99.595588</td>\n",
       "    </tr>\n",
       "    <tr>\n",
       "      <th>CO₂ emissions per transport work (volume) on laden voyages [g CO₂ / m³ · n miles]</th>\n",
       "      <td>CO₂ emissions per transport work (volume) on l...</td>\n",
       "      <td>99.595588</td>\n",
       "    </tr>\n",
       "    <tr>\n",
       "      <th>Fuel consumption per transport work (dwt) on laden voyages [g / dwt carried · n miles]</th>\n",
       "      <td>Fuel consumption per transport work (dwt) on l...</td>\n",
       "      <td>99.040033</td>\n",
       "    </tr>\n",
       "    <tr>\n",
       "      <th>CO₂ emissions per transport work (dwt) on laden voyages [g CO₂ / dwt carried · n miles]</th>\n",
       "      <td>CO₂ emissions per transport work (dwt) on lade...</td>\n",
       "      <td>99.040033</td>\n",
       "    </tr>\n",
       "    <tr>\n",
       "      <th>Annual average CO₂ emissions per transport work (volume) [g CO₂ / m³ · n miles]</th>\n",
       "      <td>Annual average CO₂ emissions per transport wor...</td>\n",
       "      <td>97.346814</td>\n",
       "    </tr>\n",
       "    <tr>\n",
       "      <th>Annual average Fuel consumption per transport work (volume) [g / m³ · n miles]</th>\n",
       "      <td>Annual average Fuel consumption per transport ...</td>\n",
       "      <td>97.346814</td>\n",
       "    </tr>\n",
       "    <tr>\n",
       "      <th>CO₂ emissions assigned to Freight transport [m tonnes]</th>\n",
       "      <td>CO₂ emissions assigned to Freight transport [m...</td>\n",
       "      <td>96.895425</td>\n",
       "    </tr>\n",
       "    <tr>\n",
       "      <th>CO₂ emissions assigned to Passenger transport [m tonnes]</th>\n",
       "      <td>CO₂ emissions assigned to Passenger transport ...</td>\n",
       "      <td>96.854575</td>\n",
       "    </tr>\n",
       "    <tr>\n",
       "      <th>Annual average Fuel consumption per transport work (freight) [g / m tonnes · n miles]</th>\n",
       "      <td>Annual average Fuel consumption per transport ...</td>\n",
       "      <td>96.846405</td>\n",
       "    </tr>\n",
       "    <tr>\n",
       "      <th>Annual average CO₂ emissions per transport work (freight) [g CO₂ / m tonnes · n miles]</th>\n",
       "      <td>Annual average CO₂ emissions per transport wor...</td>\n",
       "      <td>96.846405</td>\n",
       "    </tr>\n",
       "    <tr>\n",
       "      <th>Annual average CO₂ emissions per transport work (pax) [g CO₂ / pax · n miles]</th>\n",
       "      <td>Annual average CO₂ emissions per transport wor...</td>\n",
       "      <td>95.671977</td>\n",
       "    </tr>\n",
       "    <tr>\n",
       "      <th>Annual average Fuel consumption per transport work (pax) [g / pax · n miles]</th>\n",
       "      <td>Annual average Fuel consumption per transport ...</td>\n",
       "      <td>95.671977</td>\n",
       "    </tr>\n",
       "    <tr>\n",
       "      <th>Total time spent at sea through ice [hours]</th>\n",
       "      <td>Total time spent at sea through ice [hours]</td>\n",
       "      <td>94.172794</td>\n",
       "    </tr>\n",
       "    <tr>\n",
       "      <th>Through ice [n miles]</th>\n",
       "      <td>Through ice [n miles]</td>\n",
       "      <td>94.172794</td>\n",
       "    </tr>\n",
       "    <tr>\n",
       "      <th>CO₂ emissions per transport work (mass) on laden voyages [g CO₂ / m tonnes · n miles]</th>\n",
       "      <td>CO₂ emissions per transport work (mass) on lad...</td>\n",
       "      <td>88.504902</td>\n",
       "    </tr>\n",
       "    <tr>\n",
       "      <th>Fuel consumption per transport work (mass) on laden voyages [g / m tonnes · n miles]</th>\n",
       "      <td>Fuel consumption per transport work (mass) on ...</td>\n",
       "      <td>88.504902</td>\n",
       "    </tr>\n",
       "    <tr>\n",
       "      <th>Annual average Fuel consumption per transport work (dwt) [g / dwt carried · n miles]</th>\n",
       "      <td>Annual average Fuel consumption per transport ...</td>\n",
       "      <td>88.325163</td>\n",
       "    </tr>\n",
       "    <tr>\n",
       "      <th>Annual average CO₂ emissions per transport work (dwt) [g CO₂ / dwt carried · n miles]</th>\n",
       "      <td>Annual average CO₂ emissions per transport wor...</td>\n",
       "      <td>88.325163</td>\n",
       "    </tr>\n",
       "    <tr>\n",
       "      <th>Fuel consumptions assigned to On laden [m tonnes]</th>\n",
       "      <td>Fuel consumptions assigned to On laden [m tonnes]</td>\n",
       "      <td>88.055556</td>\n",
       "    </tr>\n",
       "    <tr>\n",
       "      <th>CO₂ emissions per distance on laden voyages [kg CO₂ / n mile]</th>\n",
       "      <td>CO₂ emissions per distance on laden voyages [k...</td>\n",
       "      <td>88.049428</td>\n",
       "    </tr>\n",
       "    <tr>\n",
       "      <th>Fuel consumption per distance on laden voyages [kg / n mile]</th>\n",
       "      <td>Fuel consumption per distance on laden voyages...</td>\n",
       "      <td>88.049428</td>\n",
       "    </tr>\n",
       "    <tr>\n",
       "      <th>CO₂ emissions assigned to On laden [m tonnes]</th>\n",
       "      <td>CO₂ emissions assigned to On laden [m tonnes]</td>\n",
       "      <td>88.049428</td>\n",
       "    </tr>\n",
       "    <tr>\n",
       "      <th>Ice Class</th>\n",
       "      <td>Ice Class</td>\n",
       "      <td>82.771650</td>\n",
       "    </tr>\n",
       "  </tbody>\n",
       "</table>\n",
       "</div>"
      ],
      "text/plain": [
       "                                                                                          column_name  \\\n",
       "CO₂ emissions per transport work (freight) on l...  CO₂ emissions per transport work (freight) on ...   \n",
       "Fuel consumption per transport work (freight) o...  Fuel consumption per transport work (freight) ...   \n",
       "Average density of the cargo transported [m ton...  Average density of the cargo transported [m to...   \n",
       "D                                                                                                   D   \n",
       "Fuel consumption per transport work (pax) on la...  Fuel consumption per transport work (pax) on l...   \n",
       "CO₂ emissions per transport work (pax) on laden...  CO₂ emissions per transport work (pax) on lade...   \n",
       "Additional information to facilitate the unders...  Additional information to facilitate the under...   \n",
       "Fuel consumption per transport work (volume) on...  Fuel consumption per transport work (volume) o...   \n",
       "CO₂ emissions per transport work (volume) on la...  CO₂ emissions per transport work (volume) on l...   \n",
       "Fuel consumption per transport work (dwt) on la...  Fuel consumption per transport work (dwt) on l...   \n",
       "CO₂ emissions per transport work (dwt) on laden...  CO₂ emissions per transport work (dwt) on lade...   \n",
       "Annual average CO₂ emissions per transport work...  Annual average CO₂ emissions per transport wor...   \n",
       "Annual average Fuel consumption per transport w...  Annual average Fuel consumption per transport ...   \n",
       "CO₂ emissions assigned to Freight transport [m ...  CO₂ emissions assigned to Freight transport [m...   \n",
       "CO₂ emissions assigned to Passenger transport [...  CO₂ emissions assigned to Passenger transport ...   \n",
       "Annual average Fuel consumption per transport w...  Annual average Fuel consumption per transport ...   \n",
       "Annual average CO₂ emissions per transport work...  Annual average CO₂ emissions per transport wor...   \n",
       "Annual average CO₂ emissions per transport work...  Annual average CO₂ emissions per transport wor...   \n",
       "Annual average Fuel consumption per transport w...  Annual average Fuel consumption per transport ...   \n",
       "Total time spent at sea through ice [hours]               Total time spent at sea through ice [hours]   \n",
       "Through ice [n miles]                                                           Through ice [n miles]   \n",
       "CO₂ emissions per transport work (mass) on lade...  CO₂ emissions per transport work (mass) on lad...   \n",
       "Fuel consumption per transport work (mass) on l...  Fuel consumption per transport work (mass) on ...   \n",
       "Annual average Fuel consumption per transport w...  Annual average Fuel consumption per transport ...   \n",
       "Annual average CO₂ emissions per transport work...  Annual average CO₂ emissions per transport wor...   \n",
       "Fuel consumptions assigned to On laden [m tonnes]   Fuel consumptions assigned to On laden [m tonnes]   \n",
       "CO₂ emissions per distance on laden voyages [kg...  CO₂ emissions per distance on laden voyages [k...   \n",
       "Fuel consumption per distance on laden voyages ...  Fuel consumption per distance on laden voyages...   \n",
       "CO₂ emissions assigned to On laden [m tonnes]           CO₂ emissions assigned to On laden [m tonnes]   \n",
       "Ice Class                                                                                   Ice Class   \n",
       "\n",
       "                                                    percent_missing  \n",
       "CO₂ emissions per transport work (freight) on l...       100.000000  \n",
       "Fuel consumption per transport work (freight) o...       100.000000  \n",
       "Average density of the cargo transported [m ton...        99.989788  \n",
       "D                                                         99.987745  \n",
       "Fuel consumption per transport work (pax) on la...        99.965278  \n",
       "CO₂ emissions per transport work (pax) on laden...        99.965278  \n",
       "Additional information to facilitate the unders...        99.805964  \n",
       "Fuel consumption per transport work (volume) on...        99.595588  \n",
       "CO₂ emissions per transport work (volume) on la...        99.595588  \n",
       "Fuel consumption per transport work (dwt) on la...        99.040033  \n",
       "CO₂ emissions per transport work (dwt) on laden...        99.040033  \n",
       "Annual average CO₂ emissions per transport work...        97.346814  \n",
       "Annual average Fuel consumption per transport w...        97.346814  \n",
       "CO₂ emissions assigned to Freight transport [m ...        96.895425  \n",
       "CO₂ emissions assigned to Passenger transport [...        96.854575  \n",
       "Annual average Fuel consumption per transport w...        96.846405  \n",
       "Annual average CO₂ emissions per transport work...        96.846405  \n",
       "Annual average CO₂ emissions per transport work...        95.671977  \n",
       "Annual average Fuel consumption per transport w...        95.671977  \n",
       "Total time spent at sea through ice [hours]               94.172794  \n",
       "Through ice [n miles]                                     94.172794  \n",
       "CO₂ emissions per transport work (mass) on lade...        88.504902  \n",
       "Fuel consumption per transport work (mass) on l...        88.504902  \n",
       "Annual average Fuel consumption per transport w...        88.325163  \n",
       "Annual average CO₂ emissions per transport work...        88.325163  \n",
       "Fuel consumptions assigned to On laden [m tonnes]         88.055556  \n",
       "CO₂ emissions per distance on laden voyages [kg...        88.049428  \n",
       "Fuel consumption per distance on laden voyages ...        88.049428  \n",
       "CO₂ emissions assigned to On laden [m tonnes]             88.049428  \n",
       "Ice Class                                                 82.771650  "
      ]
     },
     "execution_count": 8,
     "metadata": {},
     "output_type": "execute_result"
    }
   ],
   "source": [
    "missing_value_df.sort_values('percent_missing',ascending=False).head(30)"
   ]
  },
  {
   "attachments": {},
   "cell_type": "markdown",
   "metadata": {},
   "source": [
    "It seems that out of the 63 columns in the data, there are more than 30 columns with high percentage of missing values. I am not clear why there are so many missing values, is it a reporting issue or is it a legitimate reason that there are no values of these metrics? I am not sure how to deal with this yet and the importance of these columns but my first thought is to drop them. \n",
    "\n",
    "I guess depending on the use case of this dataset, we could try to impute these missing values or try to calculate them ourselves."
   ]
  },
  {
   "cell_type": "code",
   "execution_count": 42,
   "metadata": {},
   "outputs": [
    {
     "data": {
      "text/html": [
       "<div>\n",
       "<style scoped>\n",
       "    .dataframe tbody tr th:only-of-type {\n",
       "        vertical-align: middle;\n",
       "    }\n",
       "\n",
       "    .dataframe tbody tr th {\n",
       "        vertical-align: top;\n",
       "    }\n",
       "\n",
       "    .dataframe thead th {\n",
       "        text-align: right;\n",
       "    }\n",
       "</style>\n",
       "<table border=\"1\" class=\"dataframe\">\n",
       "  <thead>\n",
       "    <tr style=\"text-align: right;\">\n",
       "      <th></th>\n",
       "      <th>column_name</th>\n",
       "      <th>percent_missing</th>\n",
       "    </tr>\n",
       "  </thead>\n",
       "  <tbody>\n",
       "    <tr>\n",
       "      <th>IMO Number</th>\n",
       "      <td>IMO Number</td>\n",
       "      <td>0.000000</td>\n",
       "    </tr>\n",
       "    <tr>\n",
       "      <th>CO₂ emissions from all voyages which departed from ports under a MS jurisdiction [m tonnes]</th>\n",
       "      <td>CO₂ emissions from all voyages which departed ...</td>\n",
       "      <td>0.000000</td>\n",
       "    </tr>\n",
       "    <tr>\n",
       "      <th>Total fuel consumption [m tonnes]</th>\n",
       "      <td>Total fuel consumption [m tonnes]</td>\n",
       "      <td>0.000000</td>\n",
       "    </tr>\n",
       "    <tr>\n",
       "      <th>CO₂ emissions from all voyages to ports under a MS jurisdiction [m tonnes]</th>\n",
       "      <td>CO₂ emissions from all voyages to ports under ...</td>\n",
       "      <td>0.000000</td>\n",
       "    </tr>\n",
       "    <tr>\n",
       "      <th>CO₂ emissions which occurred within ports under a MS jurisdiction at berth [m tonnes]</th>\n",
       "      <td>CO₂ emissions which occurred within ports unde...</td>\n",
       "      <td>0.000000</td>\n",
       "    </tr>\n",
       "    <tr>\n",
       "      <th>Annual average Fuel consumption per distance [kg / n mile]</th>\n",
       "      <td>Annual average Fuel consumption per distance [...</td>\n",
       "      <td>0.000000</td>\n",
       "    </tr>\n",
       "    <tr>\n",
       "      <th>Verifier Country</th>\n",
       "      <td>Verifier Country</td>\n",
       "      <td>0.000000</td>\n",
       "    </tr>\n",
       "    <tr>\n",
       "      <th>Verifier Accreditation number</th>\n",
       "      <td>Verifier Accreditation number</td>\n",
       "      <td>0.000000</td>\n",
       "    </tr>\n",
       "    <tr>\n",
       "      <th>Verifier City</th>\n",
       "      <td>Verifier City</td>\n",
       "      <td>0.000000</td>\n",
       "    </tr>\n",
       "    <tr>\n",
       "      <th>Verifier Address</th>\n",
       "      <td>Verifier Address</td>\n",
       "      <td>0.000000</td>\n",
       "    </tr>\n",
       "    <tr>\n",
       "      <th>Total CO₂ emissions [m tonnes]</th>\n",
       "      <td>Total CO₂ emissions [m tonnes]</td>\n",
       "      <td>0.000000</td>\n",
       "    </tr>\n",
       "    <tr>\n",
       "      <th>Verifier NAB</th>\n",
       "      <td>Verifier NAB</td>\n",
       "      <td>0.000000</td>\n",
       "    </tr>\n",
       "    <tr>\n",
       "      <th>DoC expiry date</th>\n",
       "      <td>DoC expiry date</td>\n",
       "      <td>0.000000</td>\n",
       "    </tr>\n",
       "    <tr>\n",
       "      <th>DoC issue date</th>\n",
       "      <td>DoC issue date</td>\n",
       "      <td>0.000000</td>\n",
       "    </tr>\n",
       "    <tr>\n",
       "      <th>Annual average CO₂ emissions per distance [kg CO₂ / n mile]</th>\n",
       "      <td>Annual average CO₂ emissions per distance [kg ...</td>\n",
       "      <td>0.000000</td>\n",
       "    </tr>\n",
       "    <tr>\n",
       "      <th>Reporting Period</th>\n",
       "      <td>Reporting Period</td>\n",
       "      <td>0.000000</td>\n",
       "    </tr>\n",
       "    <tr>\n",
       "      <th>Ship type</th>\n",
       "      <td>Ship type</td>\n",
       "      <td>0.000000</td>\n",
       "    </tr>\n",
       "    <tr>\n",
       "      <th>Name</th>\n",
       "      <td>Name</td>\n",
       "      <td>0.000000</td>\n",
       "    </tr>\n",
       "    <tr>\n",
       "      <th>Verifier Name</th>\n",
       "      <td>Verifier Name</td>\n",
       "      <td>0.000000</td>\n",
       "    </tr>\n",
       "    <tr>\n",
       "      <th>CO₂ emissions from all voyages between ports under a MS jurisdiction [m tonnes]</th>\n",
       "      <td>CO₂ emissions from all voyages between ports u...</td>\n",
       "      <td>0.000000</td>\n",
       "    </tr>\n",
       "    <tr>\n",
       "      <th>Technical efficiency</th>\n",
       "      <td>Technical efficiency</td>\n",
       "      <td>3.466095</td>\n",
       "    </tr>\n",
       "    <tr>\n",
       "      <th>Port of Registry</th>\n",
       "      <td>Port of Registry</td>\n",
       "      <td>7.714461</td>\n",
       "    </tr>\n",
       "    <tr>\n",
       "      <th>Annual average Fuel consumption per transport work (mass) [g / m tonnes · n miles]</th>\n",
       "      <td>Annual average Fuel consumption per transport ...</td>\n",
       "      <td>10.210376</td>\n",
       "    </tr>\n",
       "    <tr>\n",
       "      <th>Annual average CO₂ emissions per transport work (mass) [g CO₂ / m tonnes · n miles]</th>\n",
       "      <td>Annual average CO₂ emissions per transport wor...</td>\n",
       "      <td>10.210376</td>\n",
       "    </tr>\n",
       "    <tr>\n",
       "      <th>Annual Total time spent at sea [hours]</th>\n",
       "      <td>Annual Total time spent at sea [hours]</td>\n",
       "      <td>49.642565</td>\n",
       "    </tr>\n",
       "    <tr>\n",
       "      <th>Total time spent at sea [hours]</th>\n",
       "      <td>Total time spent at sea [hours]</td>\n",
       "      <td>49.642565</td>\n",
       "    </tr>\n",
       "    <tr>\n",
       "      <th>Annual Time spent at sea [hours]</th>\n",
       "      <td>Annual Time spent at sea [hours]</td>\n",
       "      <td>50.357435</td>\n",
       "    </tr>\n",
       "    <tr>\n",
       "      <th>Time spent at sea [hours]</th>\n",
       "      <td>Time spent at sea [hours]</td>\n",
       "      <td>50.357435</td>\n",
       "    </tr>\n",
       "    <tr>\n",
       "      <th>A</th>\n",
       "      <td>A</td>\n",
       "      <td>53.553922</td>\n",
       "    </tr>\n",
       "    <tr>\n",
       "      <th>Verifier Number</th>\n",
       "      <td>Verifier Number</td>\n",
       "      <td>63.856209</td>\n",
       "    </tr>\n",
       "  </tbody>\n",
       "</table>\n",
       "</div>"
      ],
      "text/plain": [
       "                                                                                          column_name  \\\n",
       "IMO Number                                                                                 IMO Number   \n",
       "CO₂ emissions from all voyages which departed f...  CO₂ emissions from all voyages which departed ...   \n",
       "Total fuel consumption [m tonnes]                                   Total fuel consumption [m tonnes]   \n",
       "CO₂ emissions from all voyages to ports under a...  CO₂ emissions from all voyages to ports under ...   \n",
       "CO₂ emissions which occurred within ports under...  CO₂ emissions which occurred within ports unde...   \n",
       "Annual average Fuel consumption per distance [k...  Annual average Fuel consumption per distance [...   \n",
       "Verifier Country                                                                     Verifier Country   \n",
       "Verifier Accreditation number                                           Verifier Accreditation number   \n",
       "Verifier City                                                                           Verifier City   \n",
       "Verifier Address                                                                     Verifier Address   \n",
       "Total CO₂ emissions [m tonnes]                                         Total CO₂ emissions [m tonnes]   \n",
       "Verifier NAB                                                                             Verifier NAB   \n",
       "DoC expiry date                                                                       DoC expiry date   \n",
       "DoC issue date                                                                         DoC issue date   \n",
       "Annual average CO₂ emissions per distance [kg C...  Annual average CO₂ emissions per distance [kg ...   \n",
       "Reporting Period                                                                     Reporting Period   \n",
       "Ship type                                                                                   Ship type   \n",
       "Name                                                                                             Name   \n",
       "Verifier Name                                                                           Verifier Name   \n",
       "CO₂ emissions from all voyages between ports un...  CO₂ emissions from all voyages between ports u...   \n",
       "Technical efficiency                                                             Technical efficiency   \n",
       "Port of Registry                                                                     Port of Registry   \n",
       "Annual average Fuel consumption per transport w...  Annual average Fuel consumption per transport ...   \n",
       "Annual average CO₂ emissions per transport work...  Annual average CO₂ emissions per transport wor...   \n",
       "Annual Total time spent at sea [hours]                         Annual Total time spent at sea [hours]   \n",
       "Total time spent at sea [hours]                                       Total time spent at sea [hours]   \n",
       "Annual Time spent at sea [hours]                                     Annual Time spent at sea [hours]   \n",
       "Time spent at sea [hours]                                                   Time spent at sea [hours]   \n",
       "A                                                                                                   A   \n",
       "Verifier Number                                                                       Verifier Number   \n",
       "\n",
       "                                                    percent_missing  \n",
       "IMO Number                                                 0.000000  \n",
       "CO₂ emissions from all voyages which departed f...         0.000000  \n",
       "Total fuel consumption [m tonnes]                          0.000000  \n",
       "CO₂ emissions from all voyages to ports under a...         0.000000  \n",
       "CO₂ emissions which occurred within ports under...         0.000000  \n",
       "Annual average Fuel consumption per distance [k...         0.000000  \n",
       "Verifier Country                                           0.000000  \n",
       "Verifier Accreditation number                              0.000000  \n",
       "Verifier City                                              0.000000  \n",
       "Verifier Address                                           0.000000  \n",
       "Total CO₂ emissions [m tonnes]                             0.000000  \n",
       "Verifier NAB                                               0.000000  \n",
       "DoC expiry date                                            0.000000  \n",
       "DoC issue date                                             0.000000  \n",
       "Annual average CO₂ emissions per distance [kg C...         0.000000  \n",
       "Reporting Period                                           0.000000  \n",
       "Ship type                                                  0.000000  \n",
       "Name                                                       0.000000  \n",
       "Verifier Name                                              0.000000  \n",
       "CO₂ emissions from all voyages between ports un...         0.000000  \n",
       "Technical efficiency                                       3.466095  \n",
       "Port of Registry                                           7.714461  \n",
       "Annual average Fuel consumption per transport w...        10.210376  \n",
       "Annual average CO₂ emissions per transport work...        10.210376  \n",
       "Annual Total time spent at sea [hours]                    49.642565  \n",
       "Total time spent at sea [hours]                           49.642565  \n",
       "Annual Time spent at sea [hours]                          50.357435  \n",
       "Time spent at sea [hours]                                 50.357435  \n",
       "A                                                         53.553922  \n",
       "Verifier Number                                           63.856209  "
      ]
     },
     "execution_count": 42,
     "metadata": {},
     "output_type": "execute_result"
    }
   ],
   "source": [
    "missing_value_df.sort_values('percent_missing',ascending=True).head(30)"
   ]
  },
  {
   "cell_type": "code",
   "execution_count": 10,
   "metadata": {},
   "outputs": [
    {
     "data": {
      "text/plain": [
       "(48960, 63)"
      ]
     },
     "execution_count": 10,
     "metadata": {},
     "output_type": "execute_result"
    }
   ],
   "source": [
    "df.shape"
   ]
  },
  {
   "cell_type": "code",
   "execution_count": 11,
   "metadata": {},
   "outputs": [],
   "source": [
    "df.dropna(axis=1, how='all', inplace=True)"
   ]
  },
  {
   "cell_type": "code",
   "execution_count": 12,
   "metadata": {},
   "outputs": [
    {
     "data": {
      "text/plain": [
       "(48960, 61)"
      ]
     },
     "execution_count": 12,
     "metadata": {},
     "output_type": "execute_result"
    }
   ],
   "source": [
    "df.shape"
   ]
  },
  {
   "attachments": {},
   "cell_type": "markdown",
   "metadata": {},
   "source": [
    "# Initial Data Checking"
   ]
  },
  {
   "cell_type": "code",
   "execution_count": 13,
   "metadata": {},
   "outputs": [
    {
     "data": {
      "text/plain": [
       "Not Applicable            2245\n",
       "EIV (5.9 gCO₂/t·nm)        132\n",
       "EIV (5 gCO₂/t·nm)          104\n",
       "EIV (3.89 gCO₂/t·nm)       104\n",
       "EIV (6.3 gCO₂/t·nm)         94\n",
       "                          ... \n",
       "EEDI (11.42 gCO₂/t·nm)       1\n",
       "EIV (25.25 gCO₂/t·nm)        1\n",
       "EIV (1058 gCO₂/t·nm)         1\n",
       "16.57 gCO₂/t·nm              1\n",
       "EEDI (15.07 gCO₂/t·nm)       1\n",
       "Name: Technical efficiency, Length: 4244, dtype: int64"
      ]
     },
     "execution_count": 13,
     "metadata": {},
     "output_type": "execute_result"
    }
   ],
   "source": [
    "df['Technical efficiency'].value_counts()"
   ]
  },
  {
   "cell_type": "code",
   "execution_count": 14,
   "metadata": {},
   "outputs": [],
   "source": [
    "t = df.loc[1, 'Technical efficiency']"
   ]
  },
  {
   "cell_type": "code",
   "execution_count": 15,
   "metadata": {},
   "outputs": [
    {
     "data": {
      "text/plain": [
       "'57.84'"
      ]
     },
     "execution_count": 15,
     "metadata": {},
     "output_type": "execute_result"
    }
   ],
   "source": [
    "t.split()[1].removeprefix('(')"
   ]
  },
  {
   "cell_type": "code",
   "execution_count": 16,
   "metadata": {},
   "outputs": [
    {
     "data": {
      "text/plain": [
       "'gCO₂/t·nm'"
      ]
     },
     "execution_count": 16,
     "metadata": {},
     "output_type": "execute_result"
    }
   ],
   "source": [
    "t.split()[2].removesuffix(')')"
   ]
  },
  {
   "cell_type": "code",
   "execution_count": 17,
   "metadata": {},
   "outputs": [
    {
     "name": "stdout",
     "output_type": "stream",
     "text": [
      "{'type': 'EEDI', 'gCO₂/t·nm': '6.53'}\n"
     ]
    }
   ],
   "source": [
    "val = df.loc[df[df['IMO Number'] == 9924912].index[0], 'Technical efficiency']\n",
    "print({'type': val.split()[0], 'gCO₂/t·nm': val.split()[1].removeprefix('(')})"
   ]
  },
  {
   "cell_type": "code",
   "execution_count": 18,
   "metadata": {},
   "outputs": [
    {
     "data": {
      "text/plain": [
       "2019    12399\n",
       "2018    12256\n",
       "2021    12255\n",
       "2020    12050\n",
       "Name: Reporting Period, dtype: int64"
      ]
     },
     "execution_count": 18,
     "metadata": {},
     "output_type": "execute_result"
    }
   ],
   "source": [
    "df['Reporting Period'].value_counts()"
   ]
  },
  {
   "cell_type": "code",
   "execution_count": 19,
   "metadata": {},
   "outputs": [
    {
     "data": {
      "text/plain": [
       "Bulk carrier                  14742\n",
       "Oil tanker                     7701\n",
       "Container ship                 7354\n",
       "Chemical tanker                5469\n",
       "General cargo ship             4921\n",
       "Vehicle carrier                1801\n",
       "Ro-pax ship                    1560\n",
       "Gas carrier                    1335\n",
       "LNG carrier                    1024\n",
       "Ro-ro ship                     1016\n",
       "Refrigerated cargo carrier      588\n",
       "Other ship types                561\n",
       "Passenger ship                  556\n",
       "Container/ro-ro cargo ship      290\n",
       "Combination carrier              42\n",
       "Name: Ship type, dtype: int64"
      ]
     },
     "execution_count": 19,
     "metadata": {},
     "output_type": "execute_result"
    }
   ],
   "source": [
    "df['Ship type'].value_counts(dropna=False)"
   ]
  },
  {
   "cell_type": "code",
   "execution_count": 101,
   "metadata": {},
   "outputs": [],
   "source": [
    "t = df[df['Ship type'] == 'Passenger ship'][['Total fuel consumption [m tonnes]', 'Reporting Period', 'IMO Number']].to_dict(orient='split')\n"
   ]
  },
  {
   "cell_type": "code",
   "execution_count": 107,
   "metadata": {},
   "outputs": [
    {
     "data": {
      "text/html": [
       "<div>\n",
       "<style scoped>\n",
       "    .dataframe tbody tr th:only-of-type {\n",
       "        vertical-align: middle;\n",
       "    }\n",
       "\n",
       "    .dataframe tbody tr th {\n",
       "        vertical-align: top;\n",
       "    }\n",
       "\n",
       "    .dataframe thead th {\n",
       "        text-align: right;\n",
       "    }\n",
       "</style>\n",
       "<table border=\"1\" class=\"dataframe\">\n",
       "  <thead>\n",
       "    <tr style=\"text-align: right;\">\n",
       "      <th></th>\n",
       "      <th>0</th>\n",
       "      <th>1</th>\n",
       "      <th>2</th>\n",
       "    </tr>\n",
       "  </thead>\n",
       "  <tbody>\n",
       "    <tr>\n",
       "      <th>0</th>\n",
       "      <td>951.37</td>\n",
       "      <td>2020</td>\n",
       "      <td>6602898</td>\n",
       "    </tr>\n",
       "    <tr>\n",
       "      <th>1</th>\n",
       "      <td>1462.78</td>\n",
       "      <td>2020</td>\n",
       "      <td>7304314</td>\n",
       "    </tr>\n",
       "    <tr>\n",
       "      <th>2</th>\n",
       "      <td>764.53</td>\n",
       "      <td>2020</td>\n",
       "      <td>7827213</td>\n",
       "    </tr>\n",
       "    <tr>\n",
       "      <th>3</th>\n",
       "      <td>2482.97</td>\n",
       "      <td>2020</td>\n",
       "      <td>8201480</td>\n",
       "    </tr>\n",
       "    <tr>\n",
       "      <th>4</th>\n",
       "      <td>1110.40</td>\n",
       "      <td>2020</td>\n",
       "      <td>8407735</td>\n",
       "    </tr>\n",
       "    <tr>\n",
       "      <th>...</th>\n",
       "      <td>...</td>\n",
       "      <td>...</td>\n",
       "      <td>...</td>\n",
       "    </tr>\n",
       "    <tr>\n",
       "      <th>540</th>\n",
       "      <td>2475.85</td>\n",
       "      <td>2021</td>\n",
       "      <td>9857640</td>\n",
       "    </tr>\n",
       "    <tr>\n",
       "      <th>541</th>\n",
       "      <td>1020.20</td>\n",
       "      <td>2021</td>\n",
       "      <td>9863194</td>\n",
       "    </tr>\n",
       "    <tr>\n",
       "      <th>542</th>\n",
       "      <td>577.39</td>\n",
       "      <td>2021</td>\n",
       "      <td>9865570</td>\n",
       "    </tr>\n",
       "    <tr>\n",
       "      <th>543</th>\n",
       "      <td>2924.61</td>\n",
       "      <td>2021</td>\n",
       "      <td>9871529</td>\n",
       "    </tr>\n",
       "    <tr>\n",
       "      <th>544</th>\n",
       "      <td>1045.49</td>\n",
       "      <td>2021</td>\n",
       "      <td>9871531</td>\n",
       "    </tr>\n",
       "  </tbody>\n",
       "</table>\n",
       "<p>545 rows × 3 columns</p>\n",
       "</div>"
      ],
      "text/plain": [
       "           0     1        2\n",
       "0     951.37  2020  6602898\n",
       "1    1462.78  2020  7304314\n",
       "2     764.53  2020  7827213\n",
       "3    2482.97  2020  8201480\n",
       "4    1110.40  2020  8407735\n",
       "..       ...   ...      ...\n",
       "540  2475.85  2021  9857640\n",
       "541  1020.20  2021  9863194\n",
       "542   577.39  2021  9865570\n",
       "543  2924.61  2021  9871529\n",
       "544  1045.49  2021  9871531\n",
       "\n",
       "[545 rows x 3 columns]"
      ]
     },
     "execution_count": 107,
     "metadata": {},
     "output_type": "execute_result"
    }
   ],
   "source": [
    "pd.DataFrame.from_dict(data=t['data'])"
   ]
  },
  {
   "cell_type": "code",
   "execution_count": 21,
   "metadata": {},
   "outputs": [
    {
     "data": {
      "text/plain": [
       "Monrovia             5182\n",
       "Majuro               5064\n",
       "NaN                  3777\n",
       "Valletta             3122\n",
       "Panama               2664\n",
       "                     ... \n",
       "Shang Hai               1\n",
       "Fredericia              1\n",
       "port louis              1\n",
       "HONGKKONG               1\n",
       "Saint -Petersburg       1\n",
       "Name: Port of Registry, Length: 725, dtype: int64"
      ]
     },
     "execution_count": 21,
     "metadata": {},
     "output_type": "execute_result"
    }
   ],
   "source": [
    "df['Port of Registry'].value_counts(dropna=False)"
   ]
  },
  {
   "cell_type": "code",
   "execution_count": 22,
   "metadata": {},
   "outputs": [
    {
     "data": {
      "text/plain": [
       "0.00        1672\n",
       "1352.00        6\n",
       "503.00         5\n",
       "904.00         5\n",
       "228.00         4\n",
       "            ... \n",
       "2991.39        1\n",
       "3171.44        1\n",
       "13063.74       1\n",
       "2870.05        1\n",
       "1575.93        1\n",
       "Name: Total fuel consumption [m tonnes], Length: 44216, dtype: int64"
      ]
     },
     "execution_count": 22,
     "metadata": {},
     "output_type": "execute_result"
    }
   ],
   "source": [
    "df['Total fuel consumption [m tonnes]'].value_counts()"
   ]
  },
  {
   "cell_type": "code",
   "execution_count": 23,
   "metadata": {},
   "outputs": [
    {
     "data": {
      "text/plain": [
       "48960"
      ]
     },
     "execution_count": 23,
     "metadata": {},
     "output_type": "execute_result"
    }
   ],
   "source": [
    "df['Total fuel consumption [m tonnes]'].count()"
   ]
  },
  {
   "cell_type": "code",
   "execution_count": 24,
   "metadata": {},
   "outputs": [
    {
     "data": {
      "text/plain": [
       "0.00        1673\n",
       "5871.53        3\n",
       "8162.92        3\n",
       "3583.50        3\n",
       "2779.00        3\n",
       "            ... \n",
       "5357.94        1\n",
       "4749.38        1\n",
       "15440.84       1\n",
       "1387.78        1\n",
       "4920.05        1\n",
       "Name: Total CO₂ emissions [m tonnes], Length: 46673, dtype: int64"
      ]
     },
     "execution_count": 24,
     "metadata": {},
     "output_type": "execute_result"
    }
   ],
   "source": [
    "df['Total CO₂ emissions [m tonnes]'].value_counts()"
   ]
  },
  {
   "cell_type": "code",
   "execution_count": 25,
   "metadata": {},
   "outputs": [
    {
     "data": {
      "text/plain": [
       "48960"
      ]
     },
     "execution_count": 25,
     "metadata": {},
     "output_type": "execute_result"
    }
   ],
   "source": [
    "df['Total CO₂ emissions [m tonnes]'].count()"
   ]
  },
  {
   "cell_type": "code",
   "execution_count": 26,
   "metadata": {},
   "outputs": [
    {
     "data": {
      "text/plain": [
       "NaN        24305\n",
       "0.00         981\n",
       "1493.00        6\n",
       "1495.00        5\n",
       "2185.00        5\n",
       "           ...  \n",
       "3932.40        1\n",
       "5459.40        1\n",
       "3170.20        1\n",
       "2175.12        1\n",
       "776.25         1\n",
       "Name: Total time spent at sea [hours], Length: 21434, dtype: int64"
      ]
     },
     "execution_count": 26,
     "metadata": {},
     "output_type": "execute_result"
    }
   ],
   "source": [
    "df['Total time spent at sea [hours]'].value_counts(dropna=False)"
   ]
  },
  {
   "cell_type": "code",
   "execution_count": 27,
   "metadata": {},
   "outputs": [
    {
     "data": {
      "text/plain": [
       "24655"
      ]
     },
     "execution_count": 27,
     "metadata": {},
     "output_type": "execute_result"
    }
   ],
   "source": [
    "df['Total time spent at sea [hours]'].count()"
   ]
  },
  {
   "cell_type": "code",
   "execution_count": 28,
   "metadata": {},
   "outputs": [
    {
     "data": {
      "text/plain": [
       "0.00       707\n",
       "1644.00      6\n",
       "917.00       5\n",
       "1272.00      5\n",
       "775.00       5\n",
       "          ... \n",
       "2557.13      1\n",
       "1353.55      1\n",
       "1479.57      1\n",
       "5176.10      1\n",
       "1906.10      1\n",
       "Name: Annual Time spent at sea [hours], Length: 21023, dtype: int64"
      ]
     },
     "execution_count": 28,
     "metadata": {},
     "output_type": "execute_result"
    }
   ],
   "source": [
    "df['Annual Time spent at sea [hours]'].value_counts()"
   ]
  },
  {
   "cell_type": "code",
   "execution_count": 29,
   "metadata": {},
   "outputs": [
    {
     "data": {
      "text/plain": [
       "0.00      2787\n",
       "1.00         2\n",
       "2.50         2\n",
       "4.00         2\n",
       "30.00        1\n",
       "          ... \n",
       "106.45       1\n",
       "223.64       1\n",
       "18.00        1\n",
       "61.15        1\n",
       "66.25        1\n",
       "Name: Total time spent at sea through ice [hours], Length: 64, dtype: int64"
      ]
     },
     "execution_count": 29,
     "metadata": {},
     "output_type": "execute_result"
    }
   ],
   "source": [
    "df['Total time spent at sea through ice [hours]'].value_counts()"
   ]
  },
  {
   "cell_type": "code",
   "execution_count": 30,
   "metadata": {},
   "outputs": [
    {
     "data": {
      "text/plain": [
       "['Annual average Fuel consumption per distance [kg / n mile]',\n",
       " 'Annual average CO₂ emissions per distance [kg CO₂ / n mile]',\n",
       " 'Fuel consumption per distance on laden voyages [kg / n mile]',\n",
       " 'CO₂ emissions per distance on laden voyages [kg CO₂ / n mile]']"
      ]
     },
     "execution_count": 30,
     "metadata": {},
     "output_type": "execute_result"
    }
   ],
   "source": [
    "[col for col in df.columns if 'distance' in col]"
   ]
  },
  {
   "cell_type": "code",
   "execution_count": 31,
   "metadata": {},
   "outputs": [
    {
     "data": {
      "text/plain": [
       "0.00       2784\n",
       "92.50         3\n",
       "20.00         2\n",
       "38.00         2\n",
       "15.00         1\n",
       "           ... \n",
       "2254.00       1\n",
       "219.00        1\n",
       "649.00        1\n",
       "118.77        1\n",
       "611.07        1\n",
       "Name: Through ice [n miles], Length: 66, dtype: int64"
      ]
     },
     "execution_count": 31,
     "metadata": {},
     "output_type": "execute_result"
    }
   ],
   "source": [
    "df['Through ice [n miles]'].value_counts()"
   ]
  },
  {
   "cell_type": "code",
   "execution_count": 32,
   "metadata": {},
   "outputs": [
    {
     "data": {
      "text/plain": [
       "Division by zero!    1685\n",
       "87.95                  14\n",
       "88.31                  14\n",
       "82.96                  14\n",
       "80.45                  13\n",
       "                     ... \n",
       "78.51                   1\n",
       "299.89                  1\n",
       "150.8                   1\n",
       "184.79                  1\n",
       "123.55                  1\n",
       "Name: Annual average Fuel consumption per distance [kg / n mile], Length: 18891, dtype: int64"
      ]
     },
     "execution_count": 32,
     "metadata": {},
     "output_type": "execute_result"
    }
   ],
   "source": [
    "df['Annual average Fuel consumption per distance [kg / n mile]'].value_counts()"
   ]
  },
  {
   "cell_type": "code",
   "execution_count": 33,
   "metadata": {},
   "outputs": [
    {
     "data": {
      "text/plain": [
       "48960"
      ]
     },
     "execution_count": 33,
     "metadata": {},
     "output_type": "execute_result"
    }
   ],
   "source": [
    "df['Annual average Fuel consumption per distance [kg / n mile]'].count()"
   ]
  },
  {
   "cell_type": "code",
   "execution_count": 34,
   "metadata": {},
   "outputs": [
    {
     "data": {
      "text/plain": [
       "Division by zero!    3803\n",
       "2.14                  112\n",
       "1.95                  108\n",
       "2.47                  108\n",
       "2.75                  106\n",
       "                     ... \n",
       "72.01                   1\n",
       "126.39                  1\n",
       "31.13                   1\n",
       "4712.84                 1\n",
       "28079.73                1\n",
       "Name: Annual average Fuel consumption per transport work (mass) [g / m tonnes · n miles], Length: 4602, dtype: int64"
      ]
     },
     "execution_count": 34,
     "metadata": {},
     "output_type": "execute_result"
    }
   ],
   "source": [
    "df['Annual average Fuel consumption per transport work (mass) [g / m tonnes · n miles]'].value_counts()"
   ]
  },
  {
   "cell_type": "code",
   "execution_count": 35,
   "metadata": {},
   "outputs": [
    {
     "data": {
      "text/html": [
       "<div>\n",
       "<style scoped>\n",
       "    .dataframe tbody tr th:only-of-type {\n",
       "        vertical-align: middle;\n",
       "    }\n",
       "\n",
       "    .dataframe tbody tr th {\n",
       "        vertical-align: top;\n",
       "    }\n",
       "\n",
       "    .dataframe thead th {\n",
       "        text-align: right;\n",
       "    }\n",
       "</style>\n",
       "<table border=\"1\" class=\"dataframe\">\n",
       "  <thead>\n",
       "    <tr style=\"text-align: right;\">\n",
       "      <th></th>\n",
       "      <th>Total CO₂ emissions [m tonnes]</th>\n",
       "      <th>Reporting Period</th>\n",
       "    </tr>\n",
       "  </thead>\n",
       "  <tbody>\n",
       "    <tr>\n",
       "      <th>3</th>\n",
       "      <td>8416.81</td>\n",
       "      <td>2020</td>\n",
       "    </tr>\n",
       "    <tr>\n",
       "      <th>12056</th>\n",
       "      <td>11959.02</td>\n",
       "      <td>2018</td>\n",
       "    </tr>\n",
       "    <tr>\n",
       "      <th>24313</th>\n",
       "      <td>10499.74</td>\n",
       "      <td>2019</td>\n",
       "    </tr>\n",
       "    <tr>\n",
       "      <th>36707</th>\n",
       "      <td>6674.22</td>\n",
       "      <td>2021</td>\n",
       "    </tr>\n",
       "  </tbody>\n",
       "</table>\n",
       "</div>"
      ],
      "text/plain": [
       "       Total CO₂ emissions [m tonnes]  Reporting Period\n",
       "3                             8416.81              2020\n",
       "12056                        11959.02              2018\n",
       "24313                        10499.74              2019\n",
       "36707                         6674.22              2021"
      ]
     },
     "execution_count": 35,
     "metadata": {},
     "output_type": "execute_result"
    }
   ],
   "source": [
    "df[df['IMO Number'] == 7043843][['Total CO₂ emissions [m tonnes]', 'Reporting Period']]\n"
   ]
  },
  {
   "attachments": {},
   "cell_type": "markdown",
   "metadata": {},
   "source": [
    "## Investigating the zero values for CO2 emissions and fuel consumption\n",
    "If the values for these two is 0, does this mean that the vessels haven't travelled? "
   ]
  },
  {
   "cell_type": "code",
   "execution_count": 36,
   "metadata": {},
   "outputs": [
    {
     "data": {
      "text/plain": [
       "Bulk carrier                  1070\n",
       "Container ship                 172\n",
       "Oil tanker                     168\n",
       "Chemical tanker                 88\n",
       "General cargo ship              79\n",
       "Other ship types                39\n",
       "Gas carrier                     16\n",
       "Vehicle carrier                 14\n",
       "Ro-pax ship                      8\n",
       "LNG carrier                      6\n",
       "Passenger ship                   5\n",
       "Refrigerated cargo carrier       5\n",
       "Ro-ro ship                       3\n",
       "Name: Ship type, dtype: int64"
      ]
     },
     "execution_count": 36,
     "metadata": {},
     "output_type": "execute_result"
    }
   ],
   "source": [
    "df[df['Total CO₂ emissions [m tonnes]'] == 0.00]['Ship type'].value_counts()"
   ]
  },
  {
   "cell_type": "code",
   "execution_count": 37,
   "metadata": {},
   "outputs": [
    {
     "data": {
      "text/plain": [
       "Bulk carrier                  1069\n",
       "Container ship                 172\n",
       "Oil tanker                     168\n",
       "Chemical tanker                 88\n",
       "General cargo ship              79\n",
       "Other ship types                39\n",
       "Gas carrier                     16\n",
       "Vehicle carrier                 14\n",
       "Ro-pax ship                      8\n",
       "LNG carrier                      6\n",
       "Passenger ship                   5\n",
       "Refrigerated cargo carrier       5\n",
       "Ro-ro ship                       3\n",
       "Name: Ship type, dtype: int64"
      ]
     },
     "execution_count": 37,
     "metadata": {},
     "output_type": "execute_result"
    }
   ],
   "source": [
    "df[df['Total fuel consumption [m tonnes]'] == 0.00]['Ship type'].value_counts()"
   ]
  },
  {
   "cell_type": "code",
   "execution_count": 38,
   "metadata": {},
   "outputs": [
    {
     "data": {
      "text/plain": [
       "NaN      976\n",
       "0.0      696\n",
       "415.6      1\n",
       "Name: Annual Time spent at sea [hours], dtype: int64"
      ]
     },
     "execution_count": 38,
     "metadata": {},
     "output_type": "execute_result"
    }
   ],
   "source": [
    "df[df['Total CO₂ emissions [m tonnes]'] == 0.00]['Annual Time spent at sea [hours]'].value_counts(dropna=False)"
   ]
  },
  {
   "cell_type": "code",
   "execution_count": 39,
   "metadata": {},
   "outputs": [
    {
     "data": {
      "text/plain": [
       "Bulk carrier          488\n",
       "Container ship         61\n",
       "General cargo ship     42\n",
       "Chemical tanker        34\n",
       "Oil tanker             31\n",
       "Other ship types       22\n",
       "Ro-pax ship             9\n",
       "Passenger ship          7\n",
       "Vehicle carrier         5\n",
       "Ro-ro ship              3\n",
       "LNG carrier             3\n",
       "Gas carrier             2\n",
       "Name: Ship type, dtype: int64"
      ]
     },
     "execution_count": 39,
     "metadata": {},
     "output_type": "execute_result"
    }
   ],
   "source": [
    "df[df['Annual Time spent at sea [hours]'] == 0.00]['Ship type'].value_counts()"
   ]
  },
  {
   "cell_type": "code",
   "execution_count": 43,
   "metadata": {},
   "outputs": [
    {
     "data": {
      "text/plain": [
       "['IMO Number',\n",
       " 'Name',\n",
       " 'Ship type',\n",
       " 'Reporting Period',\n",
       " 'Technical efficiency',\n",
       " 'Port of Registry',\n",
       " 'Home Port',\n",
       " 'Ice Class',\n",
       " 'DoC issue date',\n",
       " 'DoC expiry date',\n",
       " 'Verifier Number',\n",
       " 'Verifier Name',\n",
       " 'Verifier NAB',\n",
       " 'Verifier Address',\n",
       " 'Verifier City',\n",
       " 'Verifier Accreditation number',\n",
       " 'Verifier Country',\n",
       " 'A',\n",
       " 'B',\n",
       " 'C',\n",
       " 'D',\n",
       " 'Total fuel consumption [m tonnes]',\n",
       " 'Fuel consumptions assigned to On laden [m tonnes]',\n",
       " 'Total CO₂ emissions [m tonnes]',\n",
       " 'CO₂ emissions from all voyages between ports under a MS jurisdiction [m tonnes]',\n",
       " 'CO₂ emissions from all voyages which departed from ports under a MS jurisdiction [m tonnes]',\n",
       " 'CO₂ emissions from all voyages to ports under a MS jurisdiction [m tonnes]',\n",
       " 'CO₂ emissions which occurred within ports under a MS jurisdiction at berth [m tonnes]',\n",
       " 'CO₂ emissions assigned to Passenger transport [m tonnes]',\n",
       " 'CO₂ emissions assigned to Freight transport [m tonnes]',\n",
       " 'CO₂ emissions assigned to On laden [m tonnes]',\n",
       " 'Annual Time spent at sea [hours]',\n",
       " 'Annual average Fuel consumption per distance [kg / n mile]',\n",
       " 'Annual average Fuel consumption per transport work (mass) [g / m tonnes · n miles]',\n",
       " 'Annual average Fuel consumption per transport work (volume) [g / m³ · n miles]',\n",
       " 'Annual average Fuel consumption per transport work (dwt) [g / dwt carried · n miles]',\n",
       " 'Annual average Fuel consumption per transport work (pax) [g / pax · n miles]',\n",
       " 'Annual average Fuel consumption per transport work (freight) [g / m tonnes · n miles]',\n",
       " 'Annual average CO₂ emissions per distance [kg CO₂ / n mile]',\n",
       " 'Annual average CO₂ emissions per transport work (mass) [g CO₂ / m tonnes · n miles]',\n",
       " 'Annual average CO₂ emissions per transport work (volume) [g CO₂ / m³ · n miles]',\n",
       " 'Annual average CO₂ emissions per transport work (dwt) [g CO₂ / dwt carried · n miles]',\n",
       " 'Annual average CO₂ emissions per transport work (pax) [g CO₂ / pax · n miles]',\n",
       " 'Annual average CO₂ emissions per transport work (freight) [g CO₂ / m tonnes · n miles]',\n",
       " 'Through ice [n miles]',\n",
       " 'Time spent at sea [hours]',\n",
       " 'Total time spent at sea through ice [hours]',\n",
       " 'Fuel consumption per distance on laden voyages [kg / n mile]',\n",
       " 'Fuel consumption per transport work (mass) on laden voyages [g / m tonnes · n miles]',\n",
       " 'Fuel consumption per transport work (volume) on laden voyages [g / m³ · n miles]',\n",
       " 'Fuel consumption per transport work (dwt) on laden voyages [g / dwt carried · n miles]',\n",
       " 'Fuel consumption per transport work (pax) on laden voyages [g / pax · n miles]',\n",
       " 'CO₂ emissions per distance on laden voyages [kg CO₂ / n mile]',\n",
       " 'CO₂ emissions per transport work (mass) on laden voyages [g CO₂ / m tonnes · n miles]',\n",
       " 'CO₂ emissions per transport work (volume) on laden voyages [g CO₂ / m³ · n miles]',\n",
       " 'CO₂ emissions per transport work (dwt) on laden voyages [g CO₂ / dwt carried · n miles]',\n",
       " 'CO₂ emissions per transport work (pax) on laden voyages [g CO₂ / pax · n miles]',\n",
       " 'Additional information to facilitate the understanding of the reported average operational energy efficiency indicators',\n",
       " 'Average density of the cargo transported [m tonnes / m³]',\n",
       " 'Annual Total time spent at sea [hours]',\n",
       " 'Total time spent at sea [hours]']"
      ]
     },
     "execution_count": 43,
     "metadata": {},
     "output_type": "execute_result"
    }
   ],
   "source": [
    "df.columns.to_list()"
   ]
  },
  {
   "cell_type": "code",
   "execution_count": 44,
   "metadata": {},
   "outputs": [
    {
     "data": {
      "text/plain": [
       "['Annual average Fuel consumption per distance [kg / n mile]',\n",
       " 'Annual average CO₂ emissions per distance [kg CO₂ / n mile]',\n",
       " 'Fuel consumption per distance on laden voyages [kg / n mile]',\n",
       " 'CO₂ emissions per distance on laden voyages [kg CO₂ / n mile]']"
      ]
     },
     "execution_count": 44,
     "metadata": {},
     "output_type": "execute_result"
    }
   ],
   "source": [
    "[col for col in df.columns if 'distance' in col]"
   ]
  },
  {
   "attachments": {},
   "cell_type": "markdown",
   "metadata": {},
   "source": [
    "## Calculating how many miles the vessels travelled"
   ]
  },
  {
   "cell_type": "code",
   "execution_count": 72,
   "metadata": {},
   "outputs": [],
   "source": [
    "df = df.drop(df[df['Annual average Fuel consumption per distance [kg / n mile]'] == 'Division by zero!'].index)"
   ]
  },
  {
   "cell_type": "code",
   "execution_count": 76,
   "metadata": {},
   "outputs": [],
   "source": [
    "df['Annual average Fuel consumption per distance [kg / n mile]'] = df['Annual averx§age Fuel consumption per distance [kg / n mile]'].astype('float')"
   ]
  },
  {
   "cell_type": "code",
   "execution_count": 90,
   "metadata": {},
   "outputs": [],
   "source": [
    "total_by_ship = df.groupby(['Ship type'])['Total fuel consumption [m tonnes]'].sum().reset_index()"
   ]
  },
  {
   "cell_type": "code",
   "execution_count": 91,
   "metadata": {},
   "outputs": [],
   "source": [
    "average_by_ship = df.groupby(['Ship type'])['Annual average Fuel consumption per distance [kg / n mile]'].sum().reset_index()"
   ]
  },
  {
   "cell_type": "code",
   "execution_count": 93,
   "metadata": {},
   "outputs": [],
   "source": [
    "miles = total_by_ship.merge(average_by_ship, on='Ship type', how='inner')"
   ]
  },
  {
   "cell_type": "code",
   "execution_count": 94,
   "metadata": {},
   "outputs": [
    {
     "data": {
      "text/html": [
       "<div>\n",
       "<style scoped>\n",
       "    .dataframe tbody tr th:only-of-type {\n",
       "        vertical-align: middle;\n",
       "    }\n",
       "\n",
       "    .dataframe tbody tr th {\n",
       "        vertical-align: top;\n",
       "    }\n",
       "\n",
       "    .dataframe thead th {\n",
       "        text-align: right;\n",
       "    }\n",
       "</style>\n",
       "<table border=\"1\" class=\"dataframe\">\n",
       "  <thead>\n",
       "    <tr style=\"text-align: right;\">\n",
       "      <th></th>\n",
       "      <th>Ship type</th>\n",
       "      <th>Total fuel consumption [m tonnes]</th>\n",
       "      <th>Annual average Fuel consumption per distance [kg / n mile]</th>\n",
       "    </tr>\n",
       "  </thead>\n",
       "  <tbody>\n",
       "    <tr>\n",
       "      <th>0</th>\n",
       "      <td>Bulk carrier</td>\n",
       "      <td>21334727.08</td>\n",
       "      <td>1495437.87</td>\n",
       "    </tr>\n",
       "    <tr>\n",
       "      <th>1</th>\n",
       "      <td>Chemical tanker</td>\n",
       "      <td>11813648.35</td>\n",
       "      <td>545235.49</td>\n",
       "    </tr>\n",
       "    <tr>\n",
       "      <th>2</th>\n",
       "      <td>Combination carrier</td>\n",
       "      <td>122343.35</td>\n",
       "      <td>4319.47</td>\n",
       "    </tr>\n",
       "    <tr>\n",
       "      <th>3</th>\n",
       "      <td>Container ship</td>\n",
       "      <td>55183805.61</td>\n",
       "      <td>1482503.05</td>\n",
       "    </tr>\n",
       "    <tr>\n",
       "      <th>4</th>\n",
       "      <td>Container/ro-ro cargo ship</td>\n",
       "      <td>1850414.32</td>\n",
       "      <td>36905.45</td>\n",
       "    </tr>\n",
       "    <tr>\n",
       "      <th>5</th>\n",
       "      <td>Gas carrier</td>\n",
       "      <td>3491625.06</td>\n",
       "      <td>136705.23</td>\n",
       "    </tr>\n",
       "    <tr>\n",
       "      <th>6</th>\n",
       "      <td>General cargo ship</td>\n",
       "      <td>8175171.64</td>\n",
       "      <td>305872.49</td>\n",
       "    </tr>\n",
       "    <tr>\n",
       "      <th>7</th>\n",
       "      <td>LNG carrier</td>\n",
       "      <td>9945640.19</td>\n",
       "      <td>303361.10</td>\n",
       "    </tr>\n",
       "    <tr>\n",
       "      <th>8</th>\n",
       "      <td>Oil tanker</td>\n",
       "      <td>23593032.49</td>\n",
       "      <td>1799108.18</td>\n",
       "    </tr>\n",
       "    <tr>\n",
       "      <th>9</th>\n",
       "      <td>Other ship types</td>\n",
       "      <td>1467551.87</td>\n",
       "      <td>57519.37</td>\n",
       "    </tr>\n",
       "    <tr>\n",
       "      <th>10</th>\n",
       "      <td>Passenger ship</td>\n",
       "      <td>5489357.27</td>\n",
       "      <td>183388.20</td>\n",
       "    </tr>\n",
       "    <tr>\n",
       "      <th>11</th>\n",
       "      <td>Refrigerated cargo carrier</td>\n",
       "      <td>2070210.44</td>\n",
       "      <td>50690.81</td>\n",
       "    </tr>\n",
       "    <tr>\n",
       "      <th>12</th>\n",
       "      <td>Ro-pax ship</td>\n",
       "      <td>17492158.53</td>\n",
       "      <td>253228.32</td>\n",
       "    </tr>\n",
       "    <tr>\n",
       "      <th>13</th>\n",
       "      <td>Ro-ro ship</td>\n",
       "      <td>7414949.50</td>\n",
       "      <td>111158.64</td>\n",
       "    </tr>\n",
       "    <tr>\n",
       "      <th>14</th>\n",
       "      <td>Vehicle carrier</td>\n",
       "      <td>5818118.47</td>\n",
       "      <td>201478.33</td>\n",
       "    </tr>\n",
       "  </tbody>\n",
       "</table>\n",
       "</div>"
      ],
      "text/plain": [
       "                     Ship type  Total fuel consumption [m tonnes]  \\\n",
       "0                 Bulk carrier                        21334727.08   \n",
       "1              Chemical tanker                        11813648.35   \n",
       "2          Combination carrier                          122343.35   \n",
       "3               Container ship                        55183805.61   \n",
       "4   Container/ro-ro cargo ship                         1850414.32   \n",
       "5                  Gas carrier                         3491625.06   \n",
       "6           General cargo ship                         8175171.64   \n",
       "7                  LNG carrier                         9945640.19   \n",
       "8                   Oil tanker                        23593032.49   \n",
       "9             Other ship types                         1467551.87   \n",
       "10              Passenger ship                         5489357.27   \n",
       "11  Refrigerated cargo carrier                         2070210.44   \n",
       "12                 Ro-pax ship                        17492158.53   \n",
       "13                  Ro-ro ship                         7414949.50   \n",
       "14             Vehicle carrier                         5818118.47   \n",
       "\n",
       "    Annual average Fuel consumption per distance [kg / n mile]  \n",
       "0                                          1495437.87           \n",
       "1                                           545235.49           \n",
       "2                                             4319.47           \n",
       "3                                          1482503.05           \n",
       "4                                            36905.45           \n",
       "5                                           136705.23           \n",
       "6                                           305872.49           \n",
       "7                                           303361.10           \n",
       "8                                          1799108.18           \n",
       "9                                            57519.37           \n",
       "10                                          183388.20           \n",
       "11                                           50690.81           \n",
       "12                                          253228.32           \n",
       "13                                          111158.64           \n",
       "14                                          201478.33           "
      ]
     },
     "execution_count": 94,
     "metadata": {},
     "output_type": "execute_result"
    }
   ],
   "source": [
    "miles"
   ]
  },
  {
   "cell_type": "code",
   "execution_count": 95,
   "metadata": {},
   "outputs": [],
   "source": [
    "miles['total_distance'] = miles['Annual average Fuel consumption per distance [kg / n mile]'] / miles['Total fuel consumption [m tonnes]']"
   ]
  },
  {
   "cell_type": "code",
   "execution_count": null,
   "metadata": {},
   "outputs": [],
   "source": []
  },
  {
   "cell_type": "code",
   "execution_count": null,
   "metadata": {},
   "outputs": [],
   "source": []
  },
  {
   "cell_type": "code",
   "execution_count": null,
   "metadata": {},
   "outputs": [],
   "source": [
    "val = df.loc[df[df[\"IMO Number\"] == ship_id].index[0], \"Technical efficiency\"]\n",
    "  data = {\"type\": val.split()[0], \"gCO₂/t·nm\": val.split()[1].removeprefix(\"(\")}"
   ]
  },
  {
   "cell_type": "code",
   "execution_count": null,
   "metadata": {},
   "outputs": [],
   "source": []
  },
  {
   "cell_type": "code",
   "execution_count": 116,
   "metadata": {},
   "outputs": [
    {
     "data": {
      "text/plain": [
       "['EIV', '(31.73', 'gCO₂/t·nm)']"
      ]
     },
     "execution_count": 116,
     "metadata": {},
     "output_type": "execute_result"
    }
   ],
   "source": [
    "df['Technical efficiency'].str.split()"
   ]
  }
 ],
 "metadata": {
  "kernelspec": {
   "display_name": "carbonchain_env",
   "language": "python",
   "name": "python3"
  },
  "language_info": {
   "codemirror_mode": {
    "name": "ipython",
    "version": 3
   },
   "file_extension": ".py",
   "mimetype": "text/x-python",
   "name": "python",
   "nbconvert_exporter": "python",
   "pygments_lexer": "ipython3",
   "version": "3.9.16"
  },
  "orig_nbformat": 4
 },
 "nbformat": 4,
 "nbformat_minor": 2
}
