{
 "cells": [
  {
   "cell_type": "code",
   "execution_count": 3,
   "metadata": {},
   "outputs": [],
   "source": [
    "import boto3\n",
    "import time\n",
    "import pandas\n",
    "import os\n",
    "import awswrangler as wr\n",
    "\n",
    "from dotenv import find_dotenv, load_dotenv\n",
    "\n",
    "# find .env automagically by walking up directories until it's found\n",
    "dotenv_path = find_dotenv()\n",
    "load_dotenv(dotenv_path)\n",
    "\n",
    "ACCESS_KEY_ID = os.environ.get('AWS_ACCESS_KEY_ID')\n",
    "SECRET_ACCESS_KEY = os.environ.get('AWD_SECRET_ACCESS_KEY')\n",
    "TABLE_NAME = os.environ.get('TABLE_NAME')\n",
    "DATABASE_NAME = os.environ.get('DATABASE_NAME')\n",
    "RESULT_OUTPUT_LOCATION = os.environ.get('RESULT_OUTPUT_LOCATION')"
   ]
  },
  {
   "cell_type": "code",
   "execution_count": 9,
   "metadata": {},
   "outputs": [],
   "source": [
    "CLIENT = boto3.client(\n",
    "    \"athena\", \n",
    "    region_name=\"us-east-1\", \n",
    "    aws_access_key_id=ACCESS_KEY_ID, \n",
    "    aws_secret_access_key=SECRET_ACCESS_KEY\n",
    ")"
   ]
  },
  {
   "cell_type": "code",
   "execution_count": 16,
   "metadata": {},
   "outputs": [],
   "source": [
    "def get_num_rows():\n",
    "    query = f\"SELECT * from {DATABASE_NAME}.{TABLE_NAME} LIMIT 10;\"\n",
    "    response = CLIENT.start_query_execution(\n",
    "        QueryString=query,\n",
    "        ResultConfiguration={\"OutputLocation\": RESULT_OUTPUT_LOCATION}\n",
    "    )\n",
    "\n",
    "    return response[\"QueryExecutionId\"]"
   ]
  },
  {
   "cell_type": "code",
   "execution_count": 12,
   "metadata": {},
   "outputs": [],
   "source": [
    "def has_query_succeeded(execution_id):\n",
    "    state = \"RUNNING\"\n",
    "    max_execution = 5\n",
    "\n",
    "    while max_execution > 0 and state in [\"RUNNING\", \"QUEUED\"]:\n",
    "        max_execution -= 1\n",
    "        response = CLIENT.get_query_execution(QueryExecutionId=execution_id)\n",
    "        if (\n",
    "            \"QueryExecution\" in response\n",
    "            and \"Status\" in response[\"QueryExecution\"]\n",
    "            and \"State\" in response[\"QueryExecution\"][\"Status\"]\n",
    "        ):\n",
    "            state = response[\"QueryExecution\"][\"Status\"][\"State\"]\n",
    "            if state == \"SUCCEEDED\":\n",
    "                return True\n",
    "\n",
    "        time.sleep(30)\n",
    "\n",
    "    return False"
   ]
  },
  {
   "cell_type": "code",
   "execution_count": 17,
   "metadata": {},
   "outputs": [
    {
     "name": "stdout",
     "output_type": "stream",
     "text": [
      "Get Num Rows execution id: 6fde92ca-5e29-4c18-b077-c8233dc16c44\n"
     ]
    }
   ],
   "source": [
    "execution_id = get_num_rows()\n",
    "print(f\"Get Num Rows execution id: {execution_id}\")"
   ]
  },
  {
   "cell_type": "code",
   "execution_count": 18,
   "metadata": {},
   "outputs": [],
   "source": [
    "def get_query_results(execution_id):\n",
    "    response = CLIENT.get_query_results(\n",
    "        QueryExecutionId=execution_id\n",
    "    )\n",
    "\n",
    "    results = response['ResultSet']['Rows']\n",
    "    return results"
   ]
  },
  {
   "cell_type": "code",
   "execution_count": 20,
   "metadata": {},
   "outputs": [
    {
     "name": "stdout",
     "output_type": "stream",
     "text": [
      "Query state: True\n",
      "[{'Data': [{'VarCharValue': 'imo_number'}, {'VarCharValue': 'co_emissions_from_all_voyages_which_departed_from_ports_under_a_ms_jurisdiction_m_tonnes_'}, {'VarCharValue': 'total_fuel_consumption_m_tonnes_'}, {'VarCharValue': 'co_emissions_from_all_voyages_to_ports_under_a_ms_jurisdiction_m_tonnes_'}, {'VarCharValue': 'co_emissions_which_occurred_within_ports_under_a_ms_jurisdiction_at_berth_m_tonnes_'}, {'VarCharValue': 'verifier_country'}, {'VarCharValue': 'verifier_accreditation_number'}, {'VarCharValue': 'verifier_city'}, {'VarCharValue': 'verifier_address'}, {'VarCharValue': 'total_co_emissions_m_tonnes_'}, {'VarCharValue': 'verifier_nab'}, {'VarCharValue': 'doc_expiry_date'}, {'VarCharValue': 'doc_issue_date'}, {'VarCharValue': 'reporting_period'}, {'VarCharValue': 'ship_type'}, {'VarCharValue': 'name'}, {'VarCharValue': 'verifier_name'}, {'VarCharValue': 'co_emissions_from_all_voyages_between_ports_under_a_ms_jurisdiction_m_tonnes_'}, {'VarCharValue': 'technical_efficiency'}, {'VarCharValue': 'port_of_registry'}, {'VarCharValue': 'technical_efficiency_type'}, {'VarCharValue': 'technical_efficiency_value'}]}, {'Data': [{'VarCharValue': '9341093'}, {'VarCharValue': '4681.37'}, {'VarCharValue': '6906.56'}, {'VarCharValue': '7723.97'}, {'VarCharValue': '4540.56'}, {'VarCharValue': 'India'}, {'VarCharValue': 'V 107'}, {'VarCharValue': 'Mumbai'}, {'VarCharValue': '52 A, Adi Shankaracharya Marg,\\nOpposite Powai Lake, Powai, Mumbai - 400072, INDIA.'}, {'VarCharValue': '21935.42'}, {'VarCharValue': 'Dutch Accreditation Council RvA'}, {'VarCharValue': '30/06/2023'}, {'VarCharValue': '29/06/2022'}, {'VarCharValue': '2021'}, {'VarCharValue': 'Oil tanker'}, {'VarCharValue': 'NS CONSUL'}, {'VarCharValue': 'Indian Register of Shipping'}, {'VarCharValue': '4989.52'}, {'VarCharValue': 'EIV (3.27 gCO₂/t·nm)'}, {'VarCharValue': 'Monrovia'}, {'VarCharValue': 'EIV'}, {'VarCharValue': '3.27'}]}, {'Data': [{'VarCharValue': '9289128'}, {'VarCharValue': '12549.58'}, {'VarCharValue': '9447.94'}, {'VarCharValue': '14072.99'}, {'VarCharValue': '706.99'}, {'VarCharValue': 'Germany'}, {'VarCharValue': 'D-VS-16026-01-00'}, {'VarCharValue': '20457 Hamburg'}, {'VarCharValue': 'Brooktorkai 18'}, {'VarCharValue': '29804.09'}, {'VarCharValue': 'German national accreditation body (DAkkS)'}, {'VarCharValue': '30/06/2023'}, {'VarCharValue': '08/04/2022'}, {'VarCharValue': '2021'}, {'VarCharValue': 'Container ship'}, {'VarCharValue': 'MSC MAEVA'}, {'VarCharValue': 'DNV GL'}, {'VarCharValue': '2474.53'}, {'VarCharValue': 'EIV (20.57 gCO₂/t·nm)'}, {'VarCharValue': 'Panama'}, {'VarCharValue': 'EIV'}, {'VarCharValue': '20.57'}]}, {'Data': [{'VarCharValue': '9413327'}, {'VarCharValue': '0.0'}, {'VarCharValue': '3755.54'}, {'VarCharValue': '9504.3'}, {'VarCharValue': '957.91'}, {'VarCharValue': 'Germany'}, {'VarCharValue': 'D-VS-16026-01-00'}, {'VarCharValue': '20457 Hamburg'}, {'VarCharValue': 'Brooktorkai 18'}, {'VarCharValue': '10462.2'}, {'VarCharValue': 'German national accreditation body (DAkkS)'}, {'VarCharValue': '30/06/2023'}, {'VarCharValue': '23/04/2022'}, {'VarCharValue': '2021'}, {'VarCharValue': 'LNG carrier'}, {'VarCharValue': 'STENA CLEAR SKY'}, {'VarCharValue': 'DNV GL'}, {'VarCharValue': '0.0'}, {'VarCharValue': 'EIV (8.4 gCO₂/t·nm)'}, {'VarCharValue': 'Stranraer'}, {'VarCharValue': 'EIV'}, {'VarCharValue': '8.4'}]}, {'Data': [{'VarCharValue': '9256432'}, {'VarCharValue': '64.44'}, {'VarCharValue': '2204.0'}, {'VarCharValue': '219.61'}, {'VarCharValue': '535.08'}, {'VarCharValue': 'Germany'}, {'VarCharValue': 'D-VS-16026-01-00'}, {'VarCharValue': '20457 Hamburg'}, {'VarCharValue': 'Brooktorkai 18'}, {'VarCharValue': '7066.02'}, {'VarCharValue': 'German national accreditation body (DAkkS)'}, {'VarCharValue': '30/06/2023'}, {'VarCharValue': '25/04/2022'}, {'VarCharValue': '2021'}, {'VarCharValue': 'Oil tanker'}, {'VarCharValue': 'BIT POWER'}, {'VarCharValue': 'DNV GL'}, {'VarCharValue': '6246.89'}, {'VarCharValue': 'EIV (21.2 gCO₂/t·nm)'}, {'VarCharValue': 'Dordrecht'}, {'VarCharValue': 'EIV'}, {'VarCharValue': '21.2'}]}, {'Data': [{'VarCharValue': '9746619'}, {'VarCharValue': '2473.05'}, {'VarCharValue': '1722.2'}, {'VarCharValue': '1899.04'}, {'VarCharValue': '380.27'}, {'VarCharValue': 'Germany'}, {'VarCharValue': 'D-VS-16026-01-00'}, {'VarCharValue': '20457 Hamburg'}, {'VarCharValue': 'Brooktorkai 18'}, {'VarCharValue': '5395.3'}, {'VarCharValue': 'German national accreditation body (DAkkS)'}, {'VarCharValue': '30/06/2023'}, {'VarCharValue': '21/04/2022'}, {'VarCharValue': '2021'}, {'VarCharValue': 'Oil tanker'}, {'VarCharValue': 'MILOS'}, {'VarCharValue': 'DNV GL'}, {'VarCharValue': '642.95'}, {'VarCharValue': 'EEDI (2.61 gCO₂/t·nm)'}, {'VarCharValue': 'Piraeus'}, {'VarCharValue': 'EEDI'}, {'VarCharValue': '2.61'}]}, {'Data': [{'VarCharValue': '9329411'}, {'VarCharValue': '2568.38'}, {'VarCharValue': '2600.53'}, {'VarCharValue': '3263.64'}, {'VarCharValue': '525.46'}, {'VarCharValue': 'Japan'}, {'VarCharValue': 'VS-21325-01'}, {'VarCharValue': 'Tokyo, 102-8567'}, {'VarCharValue': '4-7, Kioi-Cho, Chiyoda-Ku,'}, {'VarCharValue': '8243.68'}, {'VarCharValue': 'Deutsche Akkredierungsstelle GmbH'}, {'VarCharValue': '30/06/2023'}, {'VarCharValue': '27/04/2022'}, {'VarCharValue': '2021'}, {'VarCharValue': 'Bulk carrier'}, {'VarCharValue': 'HTK NEPTUNE'}, {'VarCharValue': 'Nippon Kaiji Kyokai'}, {'VarCharValue': '1886.2'}, {'VarCharValue': 'EIV (6.95 gCO₂/t·nm)'}, {'VarCharValue': 'PANAMA'}, {'VarCharValue': 'EIV'}, {'VarCharValue': '6.95'}]}, {'Data': [{'VarCharValue': '9747390'}, {'VarCharValue': '146.96'}, {'VarCharValue': '704.77'}, {'VarCharValue': '1955.04'}, {'VarCharValue': '95.23'}, {'VarCharValue': 'Greece'}, {'VarCharValue': '1083'}, {'VarCharValue': 'Kallithea'}, {'VarCharValue': '1 Sachtouri & 1 Navarinou Street'}, {'VarCharValue': '2197.23'}, {'VarCharValue': 'Hellenic Accreditation System (ESYD)'}, {'VarCharValue': '30/06/2023'}, {'VarCharValue': '05/05/2022'}, {'VarCharValue': '2021'}, {'VarCharValue': 'Bulk carrier'}, {'VarCharValue': 'STH ATHENS'}, {'VarCharValue': 'AMERICAN BUREAU OF SHIPPING HELLENIC SINGLE MEMBER LIMITED LIABILITY COMPANY (ABS HELLENIC S.M. LTD)'}, {'VarCharValue': '0.0'}, {'VarCharValue': 'EEDI (3.92 gCO₂/t·nm)'}, {'VarCharValue': 'Majuro'}, {'VarCharValue': 'EEDI'}, {'VarCharValue': '3.92'}]}, {'Data': [{'VarCharValue': '9339818'}, {'VarCharValue': '2188.9'}, {'VarCharValue': '1274.84'}, {'VarCharValue': '315.98'}, {'VarCharValue': '508.76'}, {'VarCharValue': 'Greece'}, {'VarCharValue': '1083'}, {'VarCharValue': 'Kallithea'}, {'VarCharValue': '1 Sachtouri & 1 Navarinou Street'}, {'VarCharValue': '4038.04'}, {'VarCharValue': 'Hellenic Accreditation System (ESYD)'}, {'VarCharValue': '30/06/2023'}, {'VarCharValue': '28/04/2022'}, {'VarCharValue': '2021'}, {'VarCharValue': 'Vehicle carrier'}, {'VarCharValue': 'GREEN BAY'}, {'VarCharValue': 'AMERICAN BUREAU OF SHIPPING HELLENIC SINGLE MEMBER LIMITED LIABILITY COMPANY (ABS HELLENIC S.M. LTD)'}, {'VarCharValue': '1024.39'}, {'VarCharValue': 'EIV (20.3 gCO₂/t·nm)'}, {'VarCharValue': 'Mobile, AL'}, {'VarCharValue': 'EIV'}, {'VarCharValue': '20.3'}]}, {'Data': [{'VarCharValue': '9724178'}, {'VarCharValue': '723.26'}, {'VarCharValue': '734.02'}, {'VarCharValue': '1252.74'}, {'VarCharValue': '115.03'}, {'VarCharValue': 'Japan'}, {'VarCharValue': 'VS-21325-01'}, {'VarCharValue': 'Tokyo, 102-8567'}, {'VarCharValue': '4-7, Kioi-Cho, Chiyoda-Ku,'}, {'VarCharValue': '2328.4'}, {'VarCharValue': 'Deutsche Akkredierungsstelle GmbH'}, {'VarCharValue': '30/06/2023'}, {'VarCharValue': '30/04/2022'}, {'VarCharValue': '2021'}, {'VarCharValue': 'Bulk carrier'}, {'VarCharValue': 'AMIS FORTUNE'}, {'VarCharValue': 'Nippon Kaiji Kyokai'}, {'VarCharValue': '237.37'}, {'VarCharValue': 'EEDI (4.28 gCO₂/t·nm)'}, {'VarCharValue': 'PANAMA'}, {'VarCharValue': 'EEDI'}, {'VarCharValue': '4.28'}]}, {'Data': [{'VarCharValue': '9243162'}, {'VarCharValue': '5532.85'}, {'VarCharValue': '6004.7'}, {'VarCharValue': '7797.91'}, {'VarCharValue': '778.03'}, {'VarCharValue': 'Greece'}, {'VarCharValue': '1083'}, {'VarCharValue': 'Kallithea'}, {'VarCharValue': '1 Sachtouri & 1 Navarinou Street'}, {'VarCharValue': '18839.18'}, {'VarCharValue': 'Hellenic Accreditation System (ESYD)'}, {'VarCharValue': '30/06/2023'}, {'VarCharValue': '13/06/2022'}, {'VarCharValue': '2021'}, {'VarCharValue': 'Container ship'}, {'VarCharValue': 'VELIKA EXPRESS'}, {'VarCharValue': 'AMERICAN BUREAU OF SHIPPING HELLENIC SINGLE MEMBER LIMITED LIABILITY COMPANY (ABS HELLENIC S.M. LTD)'}, {'VarCharValue': '4730.4'}, {'VarCharValue': 'EIV (21.43 gCO₂/t·nm)'}, {'VarCharValue': 'Monrovia'}, {'VarCharValue': 'EIV'}, {'VarCharValue': '21.43'}]}]\n"
     ]
    }
   ],
   "source": [
    "query_status = has_query_succeeded(execution_id=execution_id)\n",
    "print(f\"Query state: {query_status}\")\n",
    "\n",
    "# 6. Query Results\n",
    "print(get_query_results(execution_id=execution_id))"
   ]
  },
  {
   "cell_type": "code",
   "execution_count": 6,
   "metadata": {},
   "outputs": [],
   "source": [
    "df = wr.athena.read_sql_query(f\"SELECT * FROM {TABLE_NAME}\", database=DATABASE_NAME)"
   ]
  },
  {
   "cell_type": "code",
   "execution_count": 7,
   "metadata": {},
   "outputs": [
    {
     "data": {
      "text/plain": [
       "(44357, 22)"
      ]
     },
     "execution_count": 7,
     "metadata": {},
     "output_type": "execute_result"
    }
   ],
   "source": [
    "df.shape"
   ]
  },
  {
   "cell_type": "code",
   "execution_count": 8,
   "metadata": {},
   "outputs": [
    {
     "data": {
      "text/html": [
       "<div>\n",
       "<style scoped>\n",
       "    .dataframe tbody tr th:only-of-type {\n",
       "        vertical-align: middle;\n",
       "    }\n",
       "\n",
       "    .dataframe tbody tr th {\n",
       "        vertical-align: top;\n",
       "    }\n",
       "\n",
       "    .dataframe thead th {\n",
       "        text-align: right;\n",
       "    }\n",
       "</style>\n",
       "<table border=\"1\" class=\"dataframe\">\n",
       "  <thead>\n",
       "    <tr style=\"text-align: right;\">\n",
       "      <th></th>\n",
       "      <th>imo_number</th>\n",
       "      <th>co_emissions_from_all_voyages_which_departed_from_ports_under_a_ms_jurisdiction_m_tonnes_</th>\n",
       "      <th>total_fuel_consumption_m_tonnes_</th>\n",
       "      <th>co_emissions_from_all_voyages_to_ports_under_a_ms_jurisdiction_m_tonnes_</th>\n",
       "      <th>co_emissions_which_occurred_within_ports_under_a_ms_jurisdiction_at_berth_m_tonnes_</th>\n",
       "      <th>verifier_country</th>\n",
       "      <th>verifier_accreditation_number</th>\n",
       "      <th>verifier_city</th>\n",
       "      <th>verifier_address</th>\n",
       "      <th>total_co_emissions_m_tonnes_</th>\n",
       "      <th>...</th>\n",
       "      <th>doc_issue_date</th>\n",
       "      <th>reporting_period</th>\n",
       "      <th>ship_type</th>\n",
       "      <th>name</th>\n",
       "      <th>verifier_name</th>\n",
       "      <th>co_emissions_from_all_voyages_between_ports_under_a_ms_jurisdiction_m_tonnes_</th>\n",
       "      <th>technical_efficiency</th>\n",
       "      <th>port_of_registry</th>\n",
       "      <th>technical_efficiency_type</th>\n",
       "      <th>technical_efficiency_value</th>\n",
       "    </tr>\n",
       "  </thead>\n",
       "  <tbody>\n",
       "    <tr>\n",
       "      <th>0</th>\n",
       "      <td>9595890</td>\n",
       "      <td>0.00</td>\n",
       "      <td>0.00</td>\n",
       "      <td>0.00</td>\n",
       "      <td>0.00</td>\n",
       "      <td>Greece</td>\n",
       "      <td>1083</td>\n",
       "      <td>Kallithea</td>\n",
       "      <td>1 Sachtouri &amp; 1 Navarinou Street</td>\n",
       "      <td>0.00</td>\n",
       "      <td>...</td>\n",
       "      <td>31/10/2022</td>\n",
       "      <td>2021</td>\n",
       "      <td>Bulk carrier</td>\n",
       "      <td>FEDERAL SKEENA</td>\n",
       "      <td>AMERICAN BUREAU OF SHIPPING HELLENIC SINGLE ME...</td>\n",
       "      <td>0.00</td>\n",
       "      <td>EIV (5.65 gCO₂/t·nm)</td>\n",
       "      <td>Majuro</td>\n",
       "      <td>EIV</td>\n",
       "      <td>5.65</td>\n",
       "    </tr>\n",
       "    <tr>\n",
       "      <th>1</th>\n",
       "      <td>9363168</td>\n",
       "      <td>954.53</td>\n",
       "      <td>1124.58</td>\n",
       "      <td>2363.81</td>\n",
       "      <td>94.90</td>\n",
       "      <td>Greece</td>\n",
       "      <td>1190</td>\n",
       "      <td>Athens</td>\n",
       "      <td>348 Syggrou Avenue,</td>\n",
       "      <td>3525.93</td>\n",
       "      <td>...</td>\n",
       "      <td>27/04/2022</td>\n",
       "      <td>2021</td>\n",
       "      <td>Bulk carrier</td>\n",
       "      <td>ATALANTE</td>\n",
       "      <td>HELLENIC LLOYD'S S.A.</td>\n",
       "      <td>112.70</td>\n",
       "      <td>EIV (7.34 gCO₂/t·nm)</td>\n",
       "      <td>Valletta</td>\n",
       "      <td>EIV</td>\n",
       "      <td>7.34</td>\n",
       "    </tr>\n",
       "    <tr>\n",
       "      <th>2</th>\n",
       "      <td>9506291</td>\n",
       "      <td>0.00</td>\n",
       "      <td>22010.65</td>\n",
       "      <td>0.00</td>\n",
       "      <td>7605.30</td>\n",
       "      <td>France</td>\n",
       "      <td>4-0076</td>\n",
       "      <td>92937 PARIS LA DEFENSE</td>\n",
       "      <td>Le Triangle de l'Arche\n",
       "9, cours du Triangle</td>\n",
       "      <td>68669.01</td>\n",
       "      <td>...</td>\n",
       "      <td>22/04/2022</td>\n",
       "      <td>2021</td>\n",
       "      <td>Ro-pax ship</td>\n",
       "      <td>VOLCAN DE TINAMAR</td>\n",
       "      <td>Bureau Veritas Certification France</td>\n",
       "      <td>61063.67</td>\n",
       "      <td>EIV (24.64 gCO₂/t·nm)</td>\n",
       "      <td>Las Palmas de Gran Canaria</td>\n",
       "      <td>EIV</td>\n",
       "      <td>24.64</td>\n",
       "    </tr>\n",
       "    <tr>\n",
       "      <th>3</th>\n",
       "      <td>9765562</td>\n",
       "      <td>11521.50</td>\n",
       "      <td>8080.71</td>\n",
       "      <td>13004.92</td>\n",
       "      <td>838.24</td>\n",
       "      <td>Japan</td>\n",
       "      <td>VS-21325-01</td>\n",
       "      <td>Tokyo, 102-8567</td>\n",
       "      <td>4-7, Kioi-Cho, Chiyoda-Ku,</td>\n",
       "      <td>25580.11</td>\n",
       "      <td>...</td>\n",
       "      <td>06/05/2022</td>\n",
       "      <td>2021</td>\n",
       "      <td>Gas carrier</td>\n",
       "      <td>GAS STELLA</td>\n",
       "      <td>Nippon Kaiji Kyokai</td>\n",
       "      <td>215.44</td>\n",
       "      <td>EEDI (5.93 gCO₂/t·nm)</td>\n",
       "      <td>PANAMA</td>\n",
       "      <td>EEDI</td>\n",
       "      <td>5.93</td>\n",
       "    </tr>\n",
       "    <tr>\n",
       "      <th>4</th>\n",
       "      <td>9841653</td>\n",
       "      <td>23.11</td>\n",
       "      <td>147.69</td>\n",
       "      <td>431.00</td>\n",
       "      <td>6.89</td>\n",
       "      <td>Italy</td>\n",
       "      <td>002O</td>\n",
       "      <td>Genova</td>\n",
       "      <td>Via Corsica 12</td>\n",
       "      <td>461.00</td>\n",
       "      <td>...</td>\n",
       "      <td>27/05/2021</td>\n",
       "      <td>2020</td>\n",
       "      <td>Bulk carrier</td>\n",
       "      <td>OKOLCHITSA</td>\n",
       "      <td>RINA Services Spa</td>\n",
       "      <td>0.00</td>\n",
       "      <td>EEDI (4.58 gCO₂/t·nm)</td>\n",
       "      <td>Valletta</td>\n",
       "      <td>EEDI</td>\n",
       "      <td>4.58</td>\n",
       "    </tr>\n",
       "  </tbody>\n",
       "</table>\n",
       "<p>5 rows × 22 columns</p>\n",
       "</div>"
      ],
      "text/plain": [
       "   imo_number  \\\n",
       "0     9595890   \n",
       "1     9363168   \n",
       "2     9506291   \n",
       "3     9765562   \n",
       "4     9841653   \n",
       "\n",
       "   co_emissions_from_all_voyages_which_departed_from_ports_under_a_ms_jurisdiction_m_tonnes_  \\\n",
       "0                                               0.00                                           \n",
       "1                                             954.53                                           \n",
       "2                                               0.00                                           \n",
       "3                                           11521.50                                           \n",
       "4                                              23.11                                           \n",
       "\n",
       "   total_fuel_consumption_m_tonnes_  \\\n",
       "0                              0.00   \n",
       "1                           1124.58   \n",
       "2                          22010.65   \n",
       "3                           8080.71   \n",
       "4                            147.69   \n",
       "\n",
       "   co_emissions_from_all_voyages_to_ports_under_a_ms_jurisdiction_m_tonnes_  \\\n",
       "0                                               0.00                          \n",
       "1                                            2363.81                          \n",
       "2                                               0.00                          \n",
       "3                                           13004.92                          \n",
       "4                                             431.00                          \n",
       "\n",
       "   co_emissions_which_occurred_within_ports_under_a_ms_jurisdiction_at_berth_m_tonnes_  \\\n",
       "0                                               0.00                                     \n",
       "1                                              94.90                                     \n",
       "2                                            7605.30                                     \n",
       "3                                             838.24                                     \n",
       "4                                               6.89                                     \n",
       "\n",
       "  verifier_country verifier_accreditation_number           verifier_city  \\\n",
       "0           Greece                          1083               Kallithea   \n",
       "1           Greece                          1190                  Athens   \n",
       "2           France                        4-0076  92937 PARIS LA DEFENSE   \n",
       "3            Japan                   VS-21325-01         Tokyo, 102-8567   \n",
       "4            Italy                          002O                  Genova   \n",
       "\n",
       "                              verifier_address  total_co_emissions_m_tonnes_  \\\n",
       "0             1 Sachtouri & 1 Navarinou Street                          0.00   \n",
       "1                          348 Syggrou Avenue,                       3525.93   \n",
       "2  Le Triangle de l'Arche\n",
       "9, cours du Triangle                      68669.01   \n",
       "3                   4-7, Kioi-Cho, Chiyoda-Ku,                      25580.11   \n",
       "4                               Via Corsica 12                        461.00   \n",
       "\n",
       "   ... doc_issue_date reporting_period     ship_type               name  \\\n",
       "0  ...     31/10/2022             2021  Bulk carrier     FEDERAL SKEENA   \n",
       "1  ...     27/04/2022             2021  Bulk carrier           ATALANTE   \n",
       "2  ...     22/04/2022             2021   Ro-pax ship  VOLCAN DE TINAMAR   \n",
       "3  ...     06/05/2022             2021   Gas carrier         GAS STELLA   \n",
       "4  ...     27/05/2021             2020  Bulk carrier         OKOLCHITSA   \n",
       "\n",
       "                                       verifier_name  \\\n",
       "0  AMERICAN BUREAU OF SHIPPING HELLENIC SINGLE ME...   \n",
       "1                              HELLENIC LLOYD'S S.A.   \n",
       "2                Bureau Veritas Certification France   \n",
       "3                                Nippon Kaiji Kyokai   \n",
       "4                                  RINA Services Spa   \n",
       "\n",
       "  co_emissions_from_all_voyages_between_ports_under_a_ms_jurisdiction_m_tonnes_  \\\n",
       "0                                               0.00                              \n",
       "1                                             112.70                              \n",
       "2                                           61063.67                              \n",
       "3                                             215.44                              \n",
       "4                                               0.00                              \n",
       "\n",
       "    technical_efficiency            port_of_registry  \\\n",
       "0   EIV (5.65 gCO₂/t·nm)                      Majuro   \n",
       "1   EIV (7.34 gCO₂/t·nm)                    Valletta   \n",
       "2  EIV (24.64 gCO₂/t·nm)  Las Palmas de Gran Canaria   \n",
       "3  EEDI (5.93 gCO₂/t·nm)                      PANAMA   \n",
       "4  EEDI (4.58 gCO₂/t·nm)                    Valletta   \n",
       "\n",
       "  technical_efficiency_type technical_efficiency_value  \n",
       "0                       EIV                       5.65  \n",
       "1                       EIV                       7.34  \n",
       "2                       EIV                      24.64  \n",
       "3                      EEDI                       5.93  \n",
       "4                      EEDI                       4.58  \n",
       "\n",
       "[5 rows x 22 columns]"
      ]
     },
     "execution_count": 8,
     "metadata": {},
     "output_type": "execute_result"
    }
   ],
   "source": [
    "df.head()"
   ]
  },
  {
   "cell_type": "code",
   "execution_count": 9,
   "metadata": {},
   "outputs": [
    {
     "data": {
      "text/plain": [
       "imo_number                                                                                     Int64\n",
       "co_emissions_from_all_voyages_which_departed_from_ports_under_a_ms_jurisdiction_m_tonnes_    float64\n",
       "total_fuel_consumption_m_tonnes_                                                             float64\n",
       "co_emissions_from_all_voyages_to_ports_under_a_ms_jurisdiction_m_tonnes_                     float64\n",
       "co_emissions_which_occurred_within_ports_under_a_ms_jurisdiction_at_berth_m_tonnes_          float64\n",
       "verifier_country                                                                              string\n",
       "verifier_accreditation_number                                                                 string\n",
       "verifier_city                                                                                 string\n",
       "verifier_address                                                                              string\n",
       "total_co_emissions_m_tonnes_                                                                 float64\n",
       "verifier_nab                                                                                  string\n",
       "doc_expiry_date                                                                               string\n",
       "doc_issue_date                                                                                string\n",
       "reporting_period                                                                               Int64\n",
       "ship_type                                                                                     string\n",
       "name                                                                                          string\n",
       "verifier_name                                                                                 string\n",
       "co_emissions_from_all_voyages_between_ports_under_a_ms_jurisdiction_m_tonnes_                float64\n",
       "technical_efficiency                                                                          string\n",
       "port_of_registry                                                                              string\n",
       "technical_efficiency_type                                                                     string\n",
       "technical_efficiency_value                                                                    string\n",
       "dtype: object"
      ]
     },
     "execution_count": 9,
     "metadata": {},
     "output_type": "execute_result"
    }
   ],
   "source": [
    "df.dtypes"
   ]
  },
  {
   "cell_type": "code",
   "execution_count": 17,
   "metadata": {},
   "outputs": [],
   "source": [
    "import pandas as pd"
   ]
  },
  {
   "cell_type": "code",
   "execution_count": 64,
   "metadata": {},
   "outputs": [
    {
     "data": {
      "text/plain": [
       "Timestamp('2023-04-29 00:00:00')"
      ]
     },
     "execution_count": 64,
     "metadata": {},
     "output_type": "execute_result"
    }
   ],
   "source": [
    "df['doc_expiry_date'].max()"
   ]
  },
  {
   "cell_type": "code",
   "execution_count": 20,
   "metadata": {},
   "outputs": [],
   "source": [
    "df['doc_expiry_date'] = pd.to_datetime(df['doc_expiry_date'], dayfirst=True)"
   ]
  },
  {
   "cell_type": "code",
   "execution_count": 22,
   "metadata": {},
   "outputs": [
    {
     "data": {
      "text/plain": [
       "2023-06-30    11826\n",
       "2021-06-30    11349\n",
       "2022-06-30    11333\n",
       "2020-06-30     9849\n",
       "Name: doc_expiry_date, dtype: int64"
      ]
     },
     "execution_count": 22,
     "metadata": {},
     "output_type": "execute_result"
    }
   ],
   "source": [
    "df['doc_expiry_date'].value_counts()"
   ]
  },
  {
   "cell_type": "code",
   "execution_count": 26,
   "metadata": {},
   "outputs": [],
   "source": [
    "df['doc_issue_date'] = pd.to_datetime(df['doc_issue_date'], dayfirst=True)"
   ]
  },
  {
   "cell_type": "code",
   "execution_count": 66,
   "metadata": {},
   "outputs": [],
   "source": []
  },
  {
   "cell_type": "code",
   "execution_count": 67,
   "metadata": {},
   "outputs": [
    {
     "data": {
      "text/plain": [
       "0           0.00\n",
       "1          94.90\n",
       "2        7605.30\n",
       "3         838.24\n",
       "4           6.89\n",
       "          ...   \n",
       "44352     461.15\n",
       "44353     175.27\n",
       "44354     394.08\n",
       "44355     181.20\n",
       "44356      75.22\n",
       "Name: emissions_within_ports_at_berth, Length: 44357, dtype: float64"
      ]
     },
     "execution_count": 67,
     "metadata": {},
     "output_type": "execute_result"
    }
   ],
   "source": [
    "df['emissions_within_ports_at_berth']"
   ]
  },
  {
   "cell_type": "code",
   "execution_count": 23,
   "metadata": {},
   "outputs": [
    {
     "data": {
      "text/plain": [
       "30/04/2020    1526\n",
       "30/04/2019     841\n",
       "29/04/2022     825\n",
       "30/04/2022     773\n",
       "29/04/2020     739\n",
       "              ... \n",
       "25/07/2020       1\n",
       "31/01/2021       1\n",
       "22/12/2022       1\n",
       "06/08/2022       1\n",
       "14/10/2021       1\n",
       "Name: doc_issue_date, Length: 1038, dtype: Int64"
      ]
     },
     "execution_count": 23,
     "metadata": {},
     "output_type": "execute_result"
    }
   ],
   "source": [
    "df['doc_issue_date'].value_counts()"
   ]
  },
  {
   "cell_type": "code",
   "execution_count": 27,
   "metadata": {},
   "outputs": [
    {
     "data": {
      "text/plain": [
       "2020-04-30    1526\n",
       "2019-04-30     841\n",
       "2022-04-29     825\n",
       "2022-04-30     773\n",
       "2020-04-29     739\n",
       "              ... \n",
       "2021-09-28       1\n",
       "2021-10-22       1\n",
       "2019-03-13       1\n",
       "2019-02-11       1\n",
       "2021-10-14       1\n",
       "Name: doc_issue_date, Length: 1038, dtype: int64"
      ]
     },
     "execution_count": 27,
     "metadata": {},
     "output_type": "execute_result"
    }
   ],
   "source": [
    "df['doc_issue_date'].value_counts()"
   ]
  },
  {
   "cell_type": "code",
   "execution_count": 28,
   "metadata": {},
   "outputs": [
    {
     "data": {
      "text/plain": [
       "imo_number                                                                                            Int64\n",
       "co_emissions_from_all_voyages_which_departed_from_ports_under_a_ms_jurisdiction_m_tonnes_           float64\n",
       "total_fuel_consumption_m_tonnes_                                                                    float64\n",
       "co_emissions_from_all_voyages_to_ports_under_a_ms_jurisdiction_m_tonnes_                            float64\n",
       "co_emissions_which_occurred_within_ports_under_a_ms_jurisdiction_at_berth_m_tonnes_                 float64\n",
       "verifier_country                                                                                     string\n",
       "verifier_accreditation_number                                                                        string\n",
       "verifier_city                                                                                        string\n",
       "verifier_address                                                                                     string\n",
       "total_co_emissions_m_tonnes_                                                                        float64\n",
       "verifier_nab                                                                                         string\n",
       "doc_expiry_date                                                                              datetime64[ns]\n",
       "doc_issue_date                                                                               datetime64[ns]\n",
       "reporting_period                                                                                      Int64\n",
       "ship_type                                                                                            string\n",
       "name                                                                                                 string\n",
       "verifier_name                                                                                        string\n",
       "co_emissions_from_all_voyages_between_ports_under_a_ms_jurisdiction_m_tonnes_                       float64\n",
       "technical_efficiency                                                                                 string\n",
       "port_of_registry                                                                                     string\n",
       "technical_efficiency_type                                                                            string\n",
       "technical_efficiency_value                                                                           string\n",
       "dtype: object"
      ]
     },
     "execution_count": 28,
     "metadata": {},
     "output_type": "execute_result"
    }
   ],
   "source": [
    "df.dtypes"
   ]
  },
  {
   "cell_type": "code",
   "execution_count": 29,
   "metadata": {},
   "outputs": [
    {
     "data": {
      "text/plain": [
       "2021    11826\n",
       "2019    11349\n",
       "2020    11333\n",
       "2018     9849\n",
       "Name: reporting_period, dtype: Int64"
      ]
     },
     "execution_count": 29,
     "metadata": {},
     "output_type": "execute_result"
    }
   ],
   "source": [
    "df['reporting_period'].value_counts()"
   ]
  },
  {
   "cell_type": "code",
   "execution_count": 31,
   "metadata": {},
   "outputs": [
    {
     "data": {
      "text/plain": [
       "121987203.25999999"
      ]
     },
     "execution_count": 31,
     "metadata": {},
     "output_type": "execute_result"
    }
   ],
   "source": [
    "df[df['reporting_period'] == 2018]['total_co_emissions_m_tonnes_'].sum()"
   ]
  },
  {
   "cell_type": "code",
   "execution_count": 35,
   "metadata": {},
   "outputs": [
    {
     "data": {
      "text/html": [
       "<div>\n",
       "<style scoped>\n",
       "    .dataframe tbody tr th:only-of-type {\n",
       "        vertical-align: middle;\n",
       "    }\n",
       "\n",
       "    .dataframe tbody tr th {\n",
       "        vertical-align: top;\n",
       "    }\n",
       "\n",
       "    .dataframe thead th {\n",
       "        text-align: right;\n",
       "    }\n",
       "</style>\n",
       "<table border=\"1\" class=\"dataframe\">\n",
       "  <thead>\n",
       "    <tr style=\"text-align: right;\">\n",
       "      <th></th>\n",
       "      <th>name</th>\n",
       "      <th>ship_type</th>\n",
       "      <th>technical_efficiency_type</th>\n",
       "      <th>technical_efficiency_value</th>\n",
       "    </tr>\n",
       "  </thead>\n",
       "  <tbody>\n",
       "    <tr>\n",
       "      <th>0</th>\n",
       "      <td>FEDERAL SKEENA</td>\n",
       "      <td>Bulk carrier</td>\n",
       "      <td>EIV</td>\n",
       "      <td>5.65</td>\n",
       "    </tr>\n",
       "    <tr>\n",
       "      <th>1</th>\n",
       "      <td>ATALANTE</td>\n",
       "      <td>Bulk carrier</td>\n",
       "      <td>EIV</td>\n",
       "      <td>7.34</td>\n",
       "    </tr>\n",
       "    <tr>\n",
       "      <th>2</th>\n",
       "      <td>VOLCAN DE TINAMAR</td>\n",
       "      <td>Ro-pax ship</td>\n",
       "      <td>EIV</td>\n",
       "      <td>24.64</td>\n",
       "    </tr>\n",
       "    <tr>\n",
       "      <th>3</th>\n",
       "      <td>GAS STELLA</td>\n",
       "      <td>Gas carrier</td>\n",
       "      <td>EEDI</td>\n",
       "      <td>5.93</td>\n",
       "    </tr>\n",
       "    <tr>\n",
       "      <th>4</th>\n",
       "      <td>OKOLCHITSA</td>\n",
       "      <td>Bulk carrier</td>\n",
       "      <td>EEDI</td>\n",
       "      <td>4.58</td>\n",
       "    </tr>\n",
       "    <tr>\n",
       "      <th>...</th>\n",
       "      <td>...</td>\n",
       "      <td>...</td>\n",
       "      <td>...</td>\n",
       "      <td>...</td>\n",
       "    </tr>\n",
       "    <tr>\n",
       "      <th>44352</th>\n",
       "      <td>ESSEN EXPRESS</td>\n",
       "      <td>Container ship</td>\n",
       "      <td>EEDI</td>\n",
       "      <td>10.3</td>\n",
       "    </tr>\n",
       "    <tr>\n",
       "      <th>44353</th>\n",
       "      <td>NORDSCHELDE</td>\n",
       "      <td>Bulk carrier</td>\n",
       "      <td>EIV</td>\n",
       "      <td>6.19</td>\n",
       "    </tr>\n",
       "    <tr>\n",
       "      <th>44354</th>\n",
       "      <td>THUN LONDON</td>\n",
       "      <td>Chemical tanker</td>\n",
       "      <td>EEDI</td>\n",
       "      <td>6.86</td>\n",
       "    </tr>\n",
       "    <tr>\n",
       "      <th>44355</th>\n",
       "      <td>SEA HOPE</td>\n",
       "      <td>Bulk carrier</td>\n",
       "      <td>EIV</td>\n",
       "      <td>6.91</td>\n",
       "    </tr>\n",
       "    <tr>\n",
       "      <th>44356</th>\n",
       "      <td>BEATE OLDENDORFF</td>\n",
       "      <td>Bulk carrier</td>\n",
       "      <td>EEDI</td>\n",
       "      <td>3.49</td>\n",
       "    </tr>\n",
       "  </tbody>\n",
       "</table>\n",
       "<p>44357 rows × 4 columns</p>\n",
       "</div>"
      ],
      "text/plain": [
       "                    name        ship_type technical_efficiency_type  \\\n",
       "0         FEDERAL SKEENA     Bulk carrier                       EIV   \n",
       "1               ATALANTE     Bulk carrier                       EIV   \n",
       "2      VOLCAN DE TINAMAR      Ro-pax ship                       EIV   \n",
       "3             GAS STELLA      Gas carrier                      EEDI   \n",
       "4             OKOLCHITSA     Bulk carrier                      EEDI   \n",
       "...                  ...              ...                       ...   \n",
       "44352      ESSEN EXPRESS   Container ship                      EEDI   \n",
       "44353        NORDSCHELDE     Bulk carrier                       EIV   \n",
       "44354        THUN LONDON  Chemical tanker                      EEDI   \n",
       "44355           SEA HOPE     Bulk carrier                       EIV   \n",
       "44356   BEATE OLDENDORFF     Bulk carrier                      EEDI   \n",
       "\n",
       "      technical_efficiency_value  \n",
       "0                           5.65  \n",
       "1                           7.34  \n",
       "2                          24.64  \n",
       "3                           5.93  \n",
       "4                           4.58  \n",
       "...                          ...  \n",
       "44352                       10.3  \n",
       "44353                       6.19  \n",
       "44354                       6.86  \n",
       "44355                       6.91  \n",
       "44356                       3.49  \n",
       "\n",
       "[44357 rows x 4 columns]"
      ]
     },
     "execution_count": 35,
     "metadata": {},
     "output_type": "execute_result"
    }
   ],
   "source": [
    "df[['name', 'ship_type', 'technical_efficiency_type', 'technical_efficiency_value']]"
   ]
  },
  {
   "cell_type": "code",
   "execution_count": 45,
   "metadata": {},
   "outputs": [
    {
     "data": {
      "text/html": [
       "<div>\n",
       "<style scoped>\n",
       "    .dataframe tbody tr th:only-of-type {\n",
       "        vertical-align: middle;\n",
       "    }\n",
       "\n",
       "    .dataframe tbody tr th {\n",
       "        vertical-align: top;\n",
       "    }\n",
       "\n",
       "    .dataframe thead th {\n",
       "        text-align: right;\n",
       "    }\n",
       "</style>\n",
       "<table border=\"1\" class=\"dataframe\">\n",
       "  <thead>\n",
       "    <tr style=\"text-align: right;\">\n",
       "      <th></th>\n",
       "      <th>reporting_period</th>\n",
       "      <th>technical_efficiency_value</th>\n",
       "    </tr>\n",
       "  </thead>\n",
       "  <tbody>\n",
       "    <tr>\n",
       "      <th>44356</th>\n",
       "      <td>2021</td>\n",
       "      <td>3.49</td>\n",
       "    </tr>\n",
       "  </tbody>\n",
       "</table>\n",
       "</div>"
      ],
      "text/plain": [
       "       reporting_period technical_efficiency_value\n",
       "44356              2021                       3.49"
      ]
     },
     "execution_count": 45,
     "metadata": {},
     "output_type": "execute_result"
    }
   ],
   "source": [
    "df[df['name'] == 'BEATE OLDENDORFF'][['reporting_period' ,'technical_efficiency_value']]"
   ]
  },
  {
   "cell_type": "code",
   "execution_count": 57,
   "metadata": {},
   "outputs": [],
   "source": [
    "df.loc[df['technical_efficiency_value'] == '', 'technical_efficiency_value'] = '0'"
   ]
  },
  {
   "cell_type": "code",
   "execution_count": 50,
   "metadata": {},
   "outputs": [],
   "source": [
    "df['technical_efficiency_value'] = df['technical_efficiency_value'].fillna('0')"
   ]
  },
  {
   "cell_type": "code",
   "execution_count": 58,
   "metadata": {},
   "outputs": [],
   "source": [
    "df['technical_efficiency_value'] = df['technical_efficiency_value'].astype(float)"
   ]
  },
  {
   "cell_type": "code",
   "execution_count": 62,
   "metadata": {},
   "outputs": [
    {
     "data": {
      "text/html": [
       "<div>\n",
       "<style scoped>\n",
       "    .dataframe tbody tr th:only-of-type {\n",
       "        vertical-align: middle;\n",
       "    }\n",
       "\n",
       "    .dataframe tbody tr th {\n",
       "        vertical-align: top;\n",
       "    }\n",
       "\n",
       "    .dataframe thead th {\n",
       "        text-align: right;\n",
       "    }\n",
       "</style>\n",
       "<table border=\"1\" class=\"dataframe\">\n",
       "  <thead>\n",
       "    <tr style=\"text-align: right;\">\n",
       "      <th></th>\n",
       "      <th>ship_type</th>\n",
       "      <th>technical_efficiency_value</th>\n",
       "    </tr>\n",
       "  </thead>\n",
       "  <tbody>\n",
       "    <tr>\n",
       "      <th>0</th>\n",
       "      <td>Bulk carrier</td>\n",
       "      <td>10.457462</td>\n",
       "    </tr>\n",
       "    <tr>\n",
       "      <th>1</th>\n",
       "      <td>Chemical tanker</td>\n",
       "      <td>8.286671</td>\n",
       "    </tr>\n",
       "    <tr>\n",
       "      <th>2</th>\n",
       "      <td>Combination carrier</td>\n",
       "      <td>13.617143</td>\n",
       "    </tr>\n",
       "    <tr>\n",
       "      <th>3</th>\n",
       "      <td>Container ship</td>\n",
       "      <td>17.100986</td>\n",
       "    </tr>\n",
       "    <tr>\n",
       "      <th>4</th>\n",
       "      <td>Container/ro-ro cargo ship</td>\n",
       "      <td>10.416667</td>\n",
       "    </tr>\n",
       "    <tr>\n",
       "      <th>5</th>\n",
       "      <td>Gas carrier</td>\n",
       "      <td>11.887620</td>\n",
       "    </tr>\n",
       "    <tr>\n",
       "      <th>6</th>\n",
       "      <td>General cargo ship</td>\n",
       "      <td>15.909757</td>\n",
       "    </tr>\n",
       "    <tr>\n",
       "      <th>7</th>\n",
       "      <td>LNG carrier</td>\n",
       "      <td>15.048695</td>\n",
       "    </tr>\n",
       "    <tr>\n",
       "      <th>8</th>\n",
       "      <td>Oil tanker</td>\n",
       "      <td>5.606511</td>\n",
       "    </tr>\n",
       "    <tr>\n",
       "      <th>9</th>\n",
       "      <td>Other ship types</td>\n",
       "      <td>13.746337</td>\n",
       "    </tr>\n",
       "    <tr>\n",
       "      <th>10</th>\n",
       "      <td>Passenger ship</td>\n",
       "      <td>12.655304</td>\n",
       "    </tr>\n",
       "    <tr>\n",
       "      <th>11</th>\n",
       "      <td>Refrigerated cargo carrier</td>\n",
       "      <td>21.762019</td>\n",
       "    </tr>\n",
       "    <tr>\n",
       "      <th>12</th>\n",
       "      <td>Ro-pax ship</td>\n",
       "      <td>33.395396</td>\n",
       "    </tr>\n",
       "    <tr>\n",
       "      <th>13</th>\n",
       "      <td>Ro-ro ship</td>\n",
       "      <td>16.712386</td>\n",
       "    </tr>\n",
       "    <tr>\n",
       "      <th>14</th>\n",
       "      <td>Vehicle carrier</td>\n",
       "      <td>18.222663</td>\n",
       "    </tr>\n",
       "  </tbody>\n",
       "</table>\n",
       "</div>"
      ],
      "text/plain": [
       "                     ship_type  technical_efficiency_value\n",
       "0                 Bulk carrier                   10.457462\n",
       "1              Chemical tanker                    8.286671\n",
       "2          Combination carrier                   13.617143\n",
       "3               Container ship                   17.100986\n",
       "4   Container/ro-ro cargo ship                   10.416667\n",
       "5                  Gas carrier                   11.887620\n",
       "6           General cargo ship                   15.909757\n",
       "7                  LNG carrier                   15.048695\n",
       "8                   Oil tanker                    5.606511\n",
       "9             Other ship types                   13.746337\n",
       "10              Passenger ship                   12.655304\n",
       "11  Refrigerated cargo carrier                   21.762019\n",
       "12                 Ro-pax ship                   33.395396\n",
       "13                  Ro-ro ship                   16.712386\n",
       "14             Vehicle carrier                   18.222663"
      ]
     },
     "execution_count": 62,
     "metadata": {},
     "output_type": "execute_result"
    }
   ],
   "source": [
    "df.groupby('ship_type')['technical_efficiency_value'].mean().reset_index()"
   ]
  }
 ],
 "metadata": {
  "kernelspec": {
   "display_name": "carbonchain_env",
   "language": "python",
   "name": "python3"
  },
  "language_info": {
   "codemirror_mode": {
    "name": "ipython",
    "version": 3
   },
   "file_extension": ".py",
   "mimetype": "text/x-python",
   "name": "python",
   "nbconvert_exporter": "python",
   "pygments_lexer": "ipython3",
   "version": "3.9.16"
  },
  "orig_nbformat": 4
 },
 "nbformat": 4,
 "nbformat_minor": 2
}
