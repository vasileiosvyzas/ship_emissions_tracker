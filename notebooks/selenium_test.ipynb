{
 "cells": [
  {
   "cell_type": "code",
   "execution_count": 1,
   "metadata": {},
   "outputs": [],
   "source": [
    "import os\n",
    "import time\n",
    "from selenium import webdriver\n",
    "from selenium.webdriver.chrome.service import Service\n",
    "import matplotlib.pyplot as plt\n",
    "from selenium.webdriver.common.by import By\n",
    "from selenium.webdriver.support import expected_conditions as EC\n",
    "from selenium.webdriver.support.wait import WebDriverWait\n",
    "import multiprocessing as mp\n",
    "from webdriver_manager.chrome import ChromeDriverManager\n",
    "from dotenv import load_dotenv\n",
    "import traceback\n",
    "import sys"
   ]
  },
  {
   "cell_type": "markdown",
   "metadata": {},
   "source": [
    "# Get the data from the reports table"
   ]
  },
  {
   "cell_type": "code",
   "execution_count": 2,
   "metadata": {},
   "outputs": [
    {
     "name": "stdout",
     "output_type": "stream",
     "text": [
      "\n",
      "\n",
      "\n",
      "\n",
      "\n"
     ]
    }
   ],
   "source": [
    "# Install Webdriver\n",
    "service = Service()\n",
    "\n",
    "options = webdriver.ChromeOptions()\n",
    "driver = webdriver.Chrome(service=service, options=options)\n",
    "\n",
    "driver.get(\"https://mrv.emsa.europa.eu/#public/emission-report\")\n",
    "time.sleep(60)\n",
    "\n",
    "# html=driver.page_source\n",
    "WebDriverWait(driver, 10).until(EC.presence_of_element_located((By.XPATH, '//*[@id=\"exportablegrid-1137-body\"]')))\n",
    "\n",
    "\n",
    "# Find and scrape the tables\n",
    "tables = driver.find_element(By.XPATH, '//*[@id=\"exportablegrid-1137-body\"]')\n",
    "elements = tables.find_elements(By.TAG_NAME, 'table')\n",
    "\n",
    "keys = ['Reporting Period', 'Version', 'Generation Date', 'File']\n",
    "reports = []\n",
    "for i, table in enumerate(elements):\n",
    "    result_dict = {keys[i]: value for i, value in enumerate(table.text.split('\\n')[1:])}\n",
    "    reports.append(result_dict)\n",
    "    \n",
    "    print()\n",
    "    \n",
    "driver.quit()"
   ]
  },
  {
   "cell_type": "code",
   "execution_count": 3,
   "metadata": {},
   "outputs": [
    {
     "data": {
      "text/plain": [
       "[{'Reporting Period': '2022',\n",
       "  'Version': '106',\n",
       "  'Generation Date': '14/11/2023',\n",
       "  'File': '2022-v106-14112023-EU MRV Publication of information '},\n",
       " {'Reporting Period': '2021',\n",
       "  'Version': '176',\n",
       "  'Generation Date': '13/10/2023',\n",
       "  'File': '2021-v176-13102023-EU MRV Publication of information '},\n",
       " {'Reporting Period': '2020',\n",
       "  'Version': '194',\n",
       "  'Generation Date': '11/10/2023',\n",
       "  'File': '2020-v194-11102023-EU MRV Publication of information '},\n",
       " {'Reporting Period': '2019',\n",
       "  'Version': '217',\n",
       "  'Generation Date': '11/10/2023',\n",
       "  'File': '2019-v217-11102023-EU MRV Publication of information '},\n",
       " {'Reporting Period': '2018',\n",
       "  'Version': '270',\n",
       "  'Generation Date': '11/10/2023',\n",
       "  'File': '2018-v270-11102023-EU MRV Publication of information '}]"
      ]
     },
     "execution_count": 3,
     "metadata": {},
     "output_type": "execute_result"
    }
   ],
   "source": [
    "reports"
   ]
  },
  {
   "cell_type": "markdown",
   "metadata": {},
   "source": [
    "# Click on the link of the file to get the excel reports"
   ]
  },
  {
   "cell_type": "code",
   "execution_count": null,
   "metadata": {},
   "outputs": [],
   "source": [
    "reports = [{'Reporting Period': '2022',\n",
    "  'Version': '105',\n",
    "  'Generation Date': '10/11/2023',\n",
    "  'File': '2022-v105-10112023-EU MRV Publication of information'},\n",
    " {'Reporting Period': '2021',\n",
    "  'Version': '176',\n",
    "  'Generation Date': '13/10/2023',\n",
    "  'File': '2021-v176-13102023-EU MRV Publication of information'},\n",
    " {'Reporting Period': '2020',\n",
    "  'Version': '194',\n",
    "  'Generation Date': '11/10/2023',\n",
    "  'File': '2020-v194-11102023-EU MRV Publication of information'},\n",
    " {'Reporting Period': '2019',\n",
    "  'Version': '217',\n",
    "  'Generation Date': '11/10/2023',\n",
    "  'File': '2019-v217-11102023-EU MRV Publication of information'},\n",
    " {'Reporting Period': '2018',\n",
    "  'Version': '270',\n",
    "  'Generation Date': '11/10/2023',\n",
    "  'File': '2018-v270-11102023-EU MRV Publication of information'}]"
   ]
  },
  {
   "cell_type": "code",
   "execution_count": null,
   "metadata": {},
   "outputs": [],
   "source": [
    "service = Service()\n",
    "\n",
    "options = webdriver.ChromeOptions()\n",
    "driver = webdriver.Chrome(service=service, options=options)\n",
    "\n",
    "driver.get(\"https://mrv.emsa.europa.eu/#public/emission-report\")\n",
    "\n",
    "# Adjust sleep time if needed, waiting for page elements to load\n",
    "time.sleep(60)\n",
    "\n",
    "for report in reports:\n",
    "    print(f\"Downloading the report {report['File']}\")\n",
    "    file = report['File']\n",
    "\n",
    "    try:\n",
    "        print('Waiting for the element to be clickable')\n",
    "        # Use WebDriverWait to wait for the link to be clickable\n",
    "        link = WebDriverWait(driver, 60).until(\n",
    "            EC.element_to_be_clickable((By.LINK_TEXT, file))\n",
    "        )\n",
    "        \n",
    "        time.sleep(10)\n",
    "\n",
    "        print('clicking the link')\n",
    "        # Click on the link\n",
    "        link.click()\n",
    "        \n",
    "        time.sleep(120)\n",
    "\n",
    "    except Exception as e:\n",
    "        print(f\"An error occurred: {e}\")\n",
    "        print(traceback.format_exc())\n",
    "    finally:\n",
    "        driver.quit()"
   ]
  }
 ],
 "metadata": {
  "kernelspec": {
   "display_name": "carbonchain_env",
   "language": "python",
   "name": "python3"
  },
  "language_info": {
   "codemirror_mode": {
    "name": "ipython",
    "version": 3
   },
   "file_extension": ".py",
   "mimetype": "text/x-python",
   "name": "python",
   "nbconvert_exporter": "python",
   "pygments_lexer": "ipython3",
   "version": "3.9.16"
  }
 },
 "nbformat": 4,
 "nbformat_minor": 2
}
