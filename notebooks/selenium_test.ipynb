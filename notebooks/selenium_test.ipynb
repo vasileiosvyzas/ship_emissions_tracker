{
 "cells": [
  {
   "cell_type": "code",
   "execution_count": 67,
   "metadata": {},
   "outputs": [],
   "source": [
    "import os\n",
    "import time\n",
    "import pandas as pd\n",
    "from selenium import webdriver\n",
    "from selenium.webdriver.chrome.service import Service\n",
    "import matplotlib.pyplot as plt\n",
    "from selenium.webdriver.common.by import By\n",
    "from selenium.webdriver.support import expected_conditions as EC\n",
    "from selenium.webdriver.support.wait import WebDriverWait\n",
    "import multiprocessing as mp\n",
    "from webdriver_manager.chrome import ChromeDriverManager\n",
    "from dotenv import load_dotenv\n",
    "import traceback\n",
    "import sys"
   ]
  },
  {
   "cell_type": "markdown",
   "metadata": {},
   "source": [
    "# Get the data from the reports table"
   ]
  },
  {
   "cell_type": "code",
   "execution_count": 50,
   "metadata": {},
   "outputs": [
    {
     "name": "stdout",
     "output_type": "stream",
     "text": [
      "\n",
      "\n",
      "\n",
      "\n",
      "\n"
     ]
    }
   ],
   "source": [
    "# Install Webdriver\n",
    "service = Service()\n",
    "\n",
    "options = webdriver.ChromeOptions()\n",
    "driver = webdriver.Chrome(service=service, options=options)\n",
    "\n",
    "driver.get(\"https://mrv.emsa.europa.eu/#public/emission-report\")\n",
    "time.sleep(60)\n",
    "\n",
    "# html=driver.page_source\n",
    "WebDriverWait(driver, 10).until(EC.presence_of_element_located((By.XPATH, '//*[@id=\"exportablegrid-1137-body\"]')))\n",
    "\n",
    "\n",
    "# Find and scrape the tables\n",
    "tables = driver.find_element(By.XPATH, '//*[@id=\"exportablegrid-1137-body\"]')\n",
    "elements = tables.find_elements(By.TAG_NAME, 'table')\n",
    "\n",
    "keys = ['Reporting Period', 'Version', 'Generation Date', 'File']\n",
    "reports = []\n",
    "for i, table in enumerate(elements):\n",
    "    result_dict = {keys[i]: value for i, value in enumerate(table.text.split('\\n')[1:])}\n",
    "    reports.append(result_dict)\n",
    "    \n",
    "    print()\n",
    "    \n",
    "driver.quit()"
   ]
  },
  {
   "cell_type": "markdown",
   "metadata": {},
   "source": [
    "# Compare versions of new reports and old reports"
   ]
  },
  {
   "cell_type": "code",
   "execution_count": 73,
   "metadata": {},
   "outputs": [],
   "source": [
    "reports_df_old = pd.read_csv('../data/raw/reports_metadata.csv')"
   ]
  },
  {
   "cell_type": "code",
   "execution_count": 82,
   "metadata": {},
   "outputs": [
    {
     "data": {
      "text/plain": [
       "Reporting Period             int64\n",
       "Version                      int64\n",
       "Generation Date     datetime64[ns]\n",
       "File                        object\n",
       "dtype: object"
      ]
     },
     "execution_count": 82,
     "metadata": {},
     "output_type": "execute_result"
    }
   ],
   "source": [
    "reports_df_old.dtypes"
   ]
  },
  {
   "cell_type": "code",
   "execution_count": 78,
   "metadata": {},
   "outputs": [],
   "source": [
    "reports_df_old['Generation Date'] = pd.to_datetime(reports_df_old['Generation Date'], dayfirst=True)"
   ]
  },
  {
   "cell_type": "code",
   "execution_count": 52,
   "metadata": {},
   "outputs": [],
   "source": [
    "reports_new = reports"
   ]
  },
  {
   "cell_type": "code",
   "execution_count": 53,
   "metadata": {},
   "outputs": [],
   "source": [
    "reports_old = [{'Reporting Period': '2022',\n",
    "  'Version': '105',\n",
    "  'Generation Date': '11/11/2023',\n",
    "  'File': '2022-v105-09112023-EU MRV Publication of information'},\n",
    " {'Reporting Period': '2021',\n",
    "  'Version': '176',\n",
    "  'Generation Date': '13/10/2023',\n",
    "  'File': '2021-v176-13102023-EU MRV Publication of information'},\n",
    " {'Reporting Period': '2020',\n",
    "  'Version': '194',\n",
    "  'Generation Date': '11/10/2023',\n",
    "  'File': '2020-v194-11102023-EU MRV Publication of information'},\n",
    " {'Reporting Period': '2019',\n",
    "  'Version': '217',\n",
    "  'Generation Date': '11/10/2023',\n",
    "  'File': '2019-v217-11102023-EU MRV Publication of information'},\n",
    " {'Reporting Period': '2018',\n",
    "  'Version': '270',\n",
    "  'Generation Date': '11/10/2023',\n",
    "  'File': '2018-v270-11102023-EU MRV Publication of information'}]\n"
   ]
  },
  {
   "cell_type": "code",
   "execution_count": 54,
   "metadata": {},
   "outputs": [
    {
     "data": {
      "text/plain": [
       "[{'Reporting Period': '2022',\n",
       "  'Version': '108',\n",
       "  'Generation Date': '16/11/2023',\n",
       "  'File': '2022-v108-16112023-EU MRV Publication of information '},\n",
       " {'Reporting Period': '2021',\n",
       "  'Version': '178',\n",
       "  'Generation Date': '16/11/2023',\n",
       "  'File': '2021-v178-16112023-EU MRV Publication of information '},\n",
       " {'Reporting Period': '2020',\n",
       "  'Version': '194',\n",
       "  'Generation Date': '11/10/2023',\n",
       "  'File': '2020-v194-11102023-EU MRV Publication of information '},\n",
       " {'Reporting Period': '2019',\n",
       "  'Version': '217',\n",
       "  'Generation Date': '11/10/2023',\n",
       "  'File': '2019-v217-11102023-EU MRV Publication of information '},\n",
       " {'Reporting Period': '2018',\n",
       "  'Version': '270',\n",
       "  'Generation Date': '11/10/2023',\n",
       "  'File': '2018-v270-11102023-EU MRV Publication of information '}]"
      ]
     },
     "execution_count": 54,
     "metadata": {},
     "output_type": "execute_result"
    }
   ],
   "source": [
    "reports_new"
   ]
  },
  {
   "cell_type": "code",
   "execution_count": 55,
   "metadata": {},
   "outputs": [],
   "source": [
    "df_old = pd.DataFrame(reports_old)\n",
    "df_new = pd.DataFrame(reports_new)"
   ]
  },
  {
   "cell_type": "markdown",
   "metadata": {},
   "source": [
    "## Merge current and new dataframes on the 'Reporting Period' column\n"
   ]
  },
  {
   "cell_type": "code",
   "execution_count": 56,
   "metadata": {},
   "outputs": [],
   "source": [
    "merged_df = pd.merge(df_old, df_new, on='Reporting Period', how='outer', suffixes=('_current', '_new'))"
   ]
  },
  {
   "cell_type": "code",
   "execution_count": 57,
   "metadata": {},
   "outputs": [
    {
     "data": {
      "text/html": [
       "<div>\n",
       "<style scoped>\n",
       "    .dataframe tbody tr th:only-of-type {\n",
       "        vertical-align: middle;\n",
       "    }\n",
       "\n",
       "    .dataframe tbody tr th {\n",
       "        vertical-align: top;\n",
       "    }\n",
       "\n",
       "    .dataframe thead th {\n",
       "        text-align: right;\n",
       "    }\n",
       "</style>\n",
       "<table border=\"1\" class=\"dataframe\">\n",
       "  <thead>\n",
       "    <tr style=\"text-align: right;\">\n",
       "      <th></th>\n",
       "      <th>Reporting Period</th>\n",
       "      <th>Version_current</th>\n",
       "      <th>Generation Date_current</th>\n",
       "      <th>File_current</th>\n",
       "      <th>Version_new</th>\n",
       "      <th>Generation Date_new</th>\n",
       "      <th>File_new</th>\n",
       "    </tr>\n",
       "  </thead>\n",
       "  <tbody>\n",
       "    <tr>\n",
       "      <th>0</th>\n",
       "      <td>2022</td>\n",
       "      <td>105</td>\n",
       "      <td>11/11/2023</td>\n",
       "      <td>2022-v105-09112023-EU MRV Publication of infor...</td>\n",
       "      <td>108</td>\n",
       "      <td>16/11/2023</td>\n",
       "      <td>2022-v108-16112023-EU MRV Publication of infor...</td>\n",
       "    </tr>\n",
       "    <tr>\n",
       "      <th>1</th>\n",
       "      <td>2021</td>\n",
       "      <td>176</td>\n",
       "      <td>13/10/2023</td>\n",
       "      <td>2021-v176-13102023-EU MRV Publication of infor...</td>\n",
       "      <td>178</td>\n",
       "      <td>16/11/2023</td>\n",
       "      <td>2021-v178-16112023-EU MRV Publication of infor...</td>\n",
       "    </tr>\n",
       "    <tr>\n",
       "      <th>2</th>\n",
       "      <td>2020</td>\n",
       "      <td>194</td>\n",
       "      <td>11/10/2023</td>\n",
       "      <td>2020-v194-11102023-EU MRV Publication of infor...</td>\n",
       "      <td>194</td>\n",
       "      <td>11/10/2023</td>\n",
       "      <td>2020-v194-11102023-EU MRV Publication of infor...</td>\n",
       "    </tr>\n",
       "    <tr>\n",
       "      <th>3</th>\n",
       "      <td>2019</td>\n",
       "      <td>217</td>\n",
       "      <td>11/10/2023</td>\n",
       "      <td>2019-v217-11102023-EU MRV Publication of infor...</td>\n",
       "      <td>217</td>\n",
       "      <td>11/10/2023</td>\n",
       "      <td>2019-v217-11102023-EU MRV Publication of infor...</td>\n",
       "    </tr>\n",
       "    <tr>\n",
       "      <th>4</th>\n",
       "      <td>2018</td>\n",
       "      <td>270</td>\n",
       "      <td>11/10/2023</td>\n",
       "      <td>2018-v270-11102023-EU MRV Publication of infor...</td>\n",
       "      <td>270</td>\n",
       "      <td>11/10/2023</td>\n",
       "      <td>2018-v270-11102023-EU MRV Publication of infor...</td>\n",
       "    </tr>\n",
       "  </tbody>\n",
       "</table>\n",
       "</div>"
      ],
      "text/plain": [
       "  Reporting Period Version_current Generation Date_current  \\\n",
       "0             2022             105              11/11/2023   \n",
       "1             2021             176              13/10/2023   \n",
       "2             2020             194              11/10/2023   \n",
       "3             2019             217              11/10/2023   \n",
       "4             2018             270              11/10/2023   \n",
       "\n",
       "                                        File_current Version_new  \\\n",
       "0  2022-v105-09112023-EU MRV Publication of infor...         108   \n",
       "1  2021-v176-13102023-EU MRV Publication of infor...         178   \n",
       "2  2020-v194-11102023-EU MRV Publication of infor...         194   \n",
       "3  2019-v217-11102023-EU MRV Publication of infor...         217   \n",
       "4  2018-v270-11102023-EU MRV Publication of infor...         270   \n",
       "\n",
       "  Generation Date_new                                           File_new  \n",
       "0          16/11/2023  2022-v108-16112023-EU MRV Publication of infor...  \n",
       "1          16/11/2023  2021-v178-16112023-EU MRV Publication of infor...  \n",
       "2          11/10/2023  2020-v194-11102023-EU MRV Publication of infor...  \n",
       "3          11/10/2023  2019-v217-11102023-EU MRV Publication of infor...  \n",
       "4          11/10/2023  2018-v270-11102023-EU MRV Publication of infor...  "
      ]
     },
     "execution_count": 57,
     "metadata": {},
     "output_type": "execute_result"
    }
   ],
   "source": [
    "merged_df"
   ]
  },
  {
   "cell_type": "markdown",
   "metadata": {},
   "source": [
    "## Identify rows where the new version is greater than the current version"
   ]
  },
  {
   "cell_type": "code",
   "execution_count": 58,
   "metadata": {},
   "outputs": [],
   "source": [
    "new_versions = merged_df[merged_df['Version_new'] > merged_df['Version_current']]\n"
   ]
  },
  {
   "cell_type": "code",
   "execution_count": 59,
   "metadata": {},
   "outputs": [
    {
     "data": {
      "text/html": [
       "<div>\n",
       "<style scoped>\n",
       "    .dataframe tbody tr th:only-of-type {\n",
       "        vertical-align: middle;\n",
       "    }\n",
       "\n",
       "    .dataframe tbody tr th {\n",
       "        vertical-align: top;\n",
       "    }\n",
       "\n",
       "    .dataframe thead th {\n",
       "        text-align: right;\n",
       "    }\n",
       "</style>\n",
       "<table border=\"1\" class=\"dataframe\">\n",
       "  <thead>\n",
       "    <tr style=\"text-align: right;\">\n",
       "      <th></th>\n",
       "      <th>Reporting Period</th>\n",
       "      <th>Version_current</th>\n",
       "      <th>Generation Date_current</th>\n",
       "      <th>File_current</th>\n",
       "      <th>Version_new</th>\n",
       "      <th>Generation Date_new</th>\n",
       "      <th>File_new</th>\n",
       "    </tr>\n",
       "  </thead>\n",
       "  <tbody>\n",
       "    <tr>\n",
       "      <th>0</th>\n",
       "      <td>2022</td>\n",
       "      <td>105</td>\n",
       "      <td>11/11/2023</td>\n",
       "      <td>2022-v105-09112023-EU MRV Publication of infor...</td>\n",
       "      <td>108</td>\n",
       "      <td>16/11/2023</td>\n",
       "      <td>2022-v108-16112023-EU MRV Publication of infor...</td>\n",
       "    </tr>\n",
       "    <tr>\n",
       "      <th>1</th>\n",
       "      <td>2021</td>\n",
       "      <td>176</td>\n",
       "      <td>13/10/2023</td>\n",
       "      <td>2021-v176-13102023-EU MRV Publication of infor...</td>\n",
       "      <td>178</td>\n",
       "      <td>16/11/2023</td>\n",
       "      <td>2021-v178-16112023-EU MRV Publication of infor...</td>\n",
       "    </tr>\n",
       "  </tbody>\n",
       "</table>\n",
       "</div>"
      ],
      "text/plain": [
       "  Reporting Period Version_current Generation Date_current  \\\n",
       "0             2022             105              11/11/2023   \n",
       "1             2021             176              13/10/2023   \n",
       "\n",
       "                                        File_current Version_new  \\\n",
       "0  2022-v105-09112023-EU MRV Publication of infor...         108   \n",
       "1  2021-v176-13102023-EU MRV Publication of infor...         178   \n",
       "\n",
       "  Generation Date_new                                           File_new  \n",
       "0          16/11/2023  2022-v108-16112023-EU MRV Publication of infor...  \n",
       "1          16/11/2023  2021-v178-16112023-EU MRV Publication of infor...  "
      ]
     },
     "execution_count": 59,
     "metadata": {},
     "output_type": "execute_result"
    }
   ],
   "source": [
    "new_versions"
   ]
  },
  {
   "cell_type": "code",
   "execution_count": 60,
   "metadata": {},
   "outputs": [
    {
     "data": {
      "text/html": [
       "<div>\n",
       "<style scoped>\n",
       "    .dataframe tbody tr th:only-of-type {\n",
       "        vertical-align: middle;\n",
       "    }\n",
       "\n",
       "    .dataframe tbody tr th {\n",
       "        vertical-align: top;\n",
       "    }\n",
       "\n",
       "    .dataframe thead th {\n",
       "        text-align: right;\n",
       "    }\n",
       "</style>\n",
       "<table border=\"1\" class=\"dataframe\">\n",
       "  <thead>\n",
       "    <tr style=\"text-align: right;\">\n",
       "      <th></th>\n",
       "      <th>Reporting Period</th>\n",
       "      <th>Version</th>\n",
       "      <th>Generation Date</th>\n",
       "      <th>File</th>\n",
       "    </tr>\n",
       "  </thead>\n",
       "  <tbody>\n",
       "    <tr>\n",
       "      <th>0</th>\n",
       "      <td>2022</td>\n",
       "      <td>105</td>\n",
       "      <td>11/11/2023</td>\n",
       "      <td>2022-v105-09112023-EU MRV Publication of infor...</td>\n",
       "    </tr>\n",
       "    <tr>\n",
       "      <th>1</th>\n",
       "      <td>2021</td>\n",
       "      <td>176</td>\n",
       "      <td>13/10/2023</td>\n",
       "      <td>2021-v176-13102023-EU MRV Publication of infor...</td>\n",
       "    </tr>\n",
       "    <tr>\n",
       "      <th>2</th>\n",
       "      <td>2020</td>\n",
       "      <td>194</td>\n",
       "      <td>11/10/2023</td>\n",
       "      <td>2020-v194-11102023-EU MRV Publication of infor...</td>\n",
       "    </tr>\n",
       "    <tr>\n",
       "      <th>3</th>\n",
       "      <td>2019</td>\n",
       "      <td>217</td>\n",
       "      <td>11/10/2023</td>\n",
       "      <td>2019-v217-11102023-EU MRV Publication of infor...</td>\n",
       "    </tr>\n",
       "    <tr>\n",
       "      <th>4</th>\n",
       "      <td>2018</td>\n",
       "      <td>270</td>\n",
       "      <td>11/10/2023</td>\n",
       "      <td>2018-v270-11102023-EU MRV Publication of infor...</td>\n",
       "    </tr>\n",
       "  </tbody>\n",
       "</table>\n",
       "</div>"
      ],
      "text/plain": [
       "  Reporting Period Version Generation Date  \\\n",
       "0             2022     105      11/11/2023   \n",
       "1             2021     176      13/10/2023   \n",
       "2             2020     194      11/10/2023   \n",
       "3             2019     217      11/10/2023   \n",
       "4             2018     270      11/10/2023   \n",
       "\n",
       "                                                File  \n",
       "0  2022-v105-09112023-EU MRV Publication of infor...  \n",
       "1  2021-v176-13102023-EU MRV Publication of infor...  \n",
       "2  2020-v194-11102023-EU MRV Publication of infor...  \n",
       "3  2019-v217-11102023-EU MRV Publication of infor...  \n",
       "4  2018-v270-11102023-EU MRV Publication of infor...  "
      ]
     },
     "execution_count": 60,
     "metadata": {},
     "output_type": "execute_result"
    }
   ],
   "source": [
    "df_old"
   ]
  },
  {
   "cell_type": "markdown",
   "metadata": {},
   "source": [
    "## Update current data for rows with new versions"
   ]
  },
  {
   "cell_type": "code",
   "execution_count": 70,
   "metadata": {},
   "outputs": [
    {
     "name": "stdout",
     "output_type": "stream",
     "text": [
      "<class 'str'>\n",
      "<class 'str'>\n"
     ]
    }
   ],
   "source": [
    "for index, row in new_versions.iterrows():\n",
    "    df_old.loc[df_old['Reporting Period'] == row['Reporting Period'], 'Version'] = row['Version_new']\n",
    "    df_old.loc[df_old['Reporting Period'] == row['Reporting Period'], 'Generation Date'] = row['Generation Date_new']\n",
    "    df_old.loc[df_old['Reporting Period'] == row['Reporting Period'], 'File'] = row['File_new']\n",
    "    print(type(row['File_new']))\n",
    "     "
   ]
  },
  {
   "cell_type": "code",
   "execution_count": 64,
   "metadata": {},
   "outputs": [
    {
     "data": {
      "text/html": [
       "<div>\n",
       "<style scoped>\n",
       "    .dataframe tbody tr th:only-of-type {\n",
       "        vertical-align: middle;\n",
       "    }\n",
       "\n",
       "    .dataframe tbody tr th {\n",
       "        vertical-align: top;\n",
       "    }\n",
       "\n",
       "    .dataframe thead th {\n",
       "        text-align: right;\n",
       "    }\n",
       "</style>\n",
       "<table border=\"1\" class=\"dataframe\">\n",
       "  <thead>\n",
       "    <tr style=\"text-align: right;\">\n",
       "      <th></th>\n",
       "      <th>Reporting Period</th>\n",
       "      <th>Version</th>\n",
       "      <th>Generation Date</th>\n",
       "      <th>File</th>\n",
       "    </tr>\n",
       "  </thead>\n",
       "  <tbody>\n",
       "    <tr>\n",
       "      <th>0</th>\n",
       "      <td>2022</td>\n",
       "      <td>108</td>\n",
       "      <td>16/11/2023</td>\n",
       "      <td>2022-v108-16112023-EU MRV Publication of infor...</td>\n",
       "    </tr>\n",
       "    <tr>\n",
       "      <th>1</th>\n",
       "      <td>2021</td>\n",
       "      <td>178</td>\n",
       "      <td>16/11/2023</td>\n",
       "      <td>2021-v178-16112023-EU MRV Publication of infor...</td>\n",
       "    </tr>\n",
       "    <tr>\n",
       "      <th>2</th>\n",
       "      <td>2020</td>\n",
       "      <td>194</td>\n",
       "      <td>11/10/2023</td>\n",
       "      <td>2020-v194-11102023-EU MRV Publication of infor...</td>\n",
       "    </tr>\n",
       "    <tr>\n",
       "      <th>3</th>\n",
       "      <td>2019</td>\n",
       "      <td>217</td>\n",
       "      <td>11/10/2023</td>\n",
       "      <td>2019-v217-11102023-EU MRV Publication of infor...</td>\n",
       "    </tr>\n",
       "    <tr>\n",
       "      <th>4</th>\n",
       "      <td>2018</td>\n",
       "      <td>270</td>\n",
       "      <td>11/10/2023</td>\n",
       "      <td>2018-v270-11102023-EU MRV Publication of infor...</td>\n",
       "    </tr>\n",
       "  </tbody>\n",
       "</table>\n",
       "</div>"
      ],
      "text/plain": [
       "  Reporting Period Version Generation Date  \\\n",
       "0             2022     108      16/11/2023   \n",
       "1             2021     178      16/11/2023   \n",
       "2             2020     194      11/10/2023   \n",
       "3             2019     217      11/10/2023   \n",
       "4             2018     270      11/10/2023   \n",
       "\n",
       "                                                File  \n",
       "0  2022-v108-16112023-EU MRV Publication of infor...  \n",
       "1  2021-v178-16112023-EU MRV Publication of infor...  \n",
       "2  2020-v194-11102023-EU MRV Publication of infor...  \n",
       "3  2019-v217-11102023-EU MRV Publication of infor...  \n",
       "4  2018-v270-11102023-EU MRV Publication of infor...  "
      ]
     },
     "execution_count": 64,
     "metadata": {},
     "output_type": "execute_result"
    }
   ],
   "source": [
    "df_old"
   ]
  },
  {
   "cell_type": "code",
   "execution_count": null,
   "metadata": {},
   "outputs": [],
   "source": [
    "df"
   ]
  },
  {
   "cell_type": "markdown",
   "metadata": {},
   "source": [
    "# Click on links"
   ]
  },
  {
   "cell_type": "code",
   "execution_count": 86,
   "metadata": {},
   "outputs": [
    {
     "name": "stdout",
     "output_type": "stream",
     "text": [
      "====2018-v270-11102023-EU MRV Publication of information=====\n",
      "clicking the link\n"
     ]
    },
    {
     "ename": "KeyboardInterrupt",
     "evalue": "",
     "output_type": "error",
     "traceback": [
      "\u001b[0;31m---------------------------------------------------------------------------\u001b[0m",
      "\u001b[0;31mKeyboardInterrupt\u001b[0m                         Traceback (most recent call last)",
      "\u001b[1;32m/Users/vasileiosvyzas/workspace/interview_exercises/CarbonChain/ship_emissions_tracker/notebooks/selenium_test.ipynb Cell 23\u001b[0m line \u001b[0;36m2\n\u001b[1;32m     <a href='vscode-notebook-cell:/Users/vasileiosvyzas/workspace/interview_exercises/CarbonChain/ship_emissions_tracker/notebooks/selenium_test.ipynb#X10sZmlsZQ%3D%3D?line=19'>20</a>\u001b[0m         \u001b[39mprint\u001b[39m(\u001b[39m'\u001b[39m\u001b[39mclicking the link\u001b[39m\u001b[39m'\u001b[39m)\n\u001b[1;32m     <a href='vscode-notebook-cell:/Users/vasileiosvyzas/workspace/interview_exercises/CarbonChain/ship_emissions_tracker/notebooks/selenium_test.ipynb#X10sZmlsZQ%3D%3D?line=20'>21</a>\u001b[0m         link\u001b[39m.\u001b[39mclick()\n\u001b[0;32m---> <a href='vscode-notebook-cell:/Users/vasileiosvyzas/workspace/interview_exercises/CarbonChain/ship_emissions_tracker/notebooks/selenium_test.ipynb#X10sZmlsZQ%3D%3D?line=21'>22</a>\u001b[0m         time\u001b[39m.\u001b[39;49msleep(\u001b[39m10\u001b[39;49m)\n\u001b[1;32m     <a href='vscode-notebook-cell:/Users/vasileiosvyzas/workspace/interview_exercises/CarbonChain/ship_emissions_tracker/notebooks/selenium_test.ipynb#X10sZmlsZQ%3D%3D?line=23'>24</a>\u001b[0m \u001b[39mexcept\u001b[39;00m \u001b[39mException\u001b[39;00m \u001b[39mas\u001b[39;00m e:\n\u001b[1;32m     <a href='vscode-notebook-cell:/Users/vasileiosvyzas/workspace/interview_exercises/CarbonChain/ship_emissions_tracker/notebooks/selenium_test.ipynb#X10sZmlsZQ%3D%3D?line=24'>25</a>\u001b[0m     \u001b[39mprint\u001b[39m(\u001b[39mf\u001b[39m\u001b[39m\"\u001b[39m\u001b[39mAn error occurred: \u001b[39m\u001b[39m{\u001b[39;00me\u001b[39m}\u001b[39;00m\u001b[39m\"\u001b[39m)\n",
      "\u001b[0;31mKeyboardInterrupt\u001b[0m: "
     ]
    }
   ],
   "source": [
    "service = Service()\n",
    "\n",
    "options = webdriver.ChromeOptions()\n",
    "driver = webdriver.Chrome(service=service, options=options)\n",
    "\n",
    "driver.get(\"https://mrv.emsa.europa.eu/#public/emission-report\")\n",
    "\n",
    "# Adjust sleep time if needed, waiting for page elements to load\n",
    "time.sleep(60)\n",
    "\n",
    "reports_test = ['2018-v270-11102023-EU MRV Publication of information', '2019-v217-11102023-EU MRV Publication of information', '2020-v194-11102023-EU MRV Publication of information']\n",
    "\n",
    "try:\n",
    "    for report in reports_test:\n",
    "        print(f\"===={report}=====\")\n",
    "        link = WebDriverWait(driver, 60).until(\n",
    "                    EC.presence_of_element_located((By.LINK_TEXT, report))\n",
    "        )\n",
    "        time.sleep(10)\n",
    "        print('clicking the link')\n",
    "        link.click()\n",
    "        time.sleep(10)\n",
    "    \n",
    "except Exception as e:\n",
    "    print(f\"An error occurred: {e}\")\n",
    "    print(traceback.format_exc())\n",
    "finally:\n",
    "    driver.quit()"
   ]
  },
  {
   "cell_type": "code",
   "execution_count": null,
   "metadata": {},
   "outputs": [],
   "source": [
    "service = Service()\n",
    "\n",
    "options = webdriver.ChromeOptions()\n",
    "driver = webdriver.Chrome(service=service, options=options)\n",
    "\n",
    "driver.get(\"https://mrv.emsa.europa.eu/#public/emission-report\")\n",
    "\n",
    "# Adjust sleep time if needed, waiting for page elements to load\n",
    "time.sleep(60)\n",
    "\n",
    "report1 = '2018-v270-11102023-EU MRV Publication of information'\n",
    "report2 = '2019-v217-11102023-EU MRV Publication of information'\n",
    "\n",
    "try:\n",
    "    link = WebDriverWait(driver, 60).until(\n",
    "                EC.presence_of_element_located((By.LINK_TEXT, report1))\n",
    "    )\n",
    "    time.sleep(10)\n",
    "    print('clicking the link')\n",
    "    link.click()\n",
    "    time.sleep(10)\n",
    "    \n",
    "    link2 = WebDriverWait(driver, 60).until(\n",
    "                EC.presence_of_element_located((By.LINK_TEXT, report2))\n",
    "    )\n",
    "    time.sleep(10)\n",
    "    print('clicking the link')\n",
    "    link2.click()\n",
    "    time.sleep(10)\n",
    "    \n",
    "except Exception as e:\n",
    "    print(f\"An error occurred: {e}\")\n",
    "    print(traceback.format_exc())\n",
    "finally:\n",
    "    driver.quit()"
   ]
  }
 ],
 "metadata": {
  "kernelspec": {
   "display_name": "carbonchain_env",
   "language": "python",
   "name": "python3"
  },
  "language_info": {
   "codemirror_mode": {
    "name": "ipython",
    "version": 3
   },
   "file_extension": ".py",
   "mimetype": "text/x-python",
   "name": "python",
   "nbconvert_exporter": "python",
   "pygments_lexer": "ipython3",
   "version": "3.9.16"
  }
 },
 "nbformat": 4,
 "nbformat_minor": 2
}
